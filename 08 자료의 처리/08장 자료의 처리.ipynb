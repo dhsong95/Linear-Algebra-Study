{
 "cells": [
  {
   "cell_type": "markdown",
   "metadata": {},
   "source": [
    "<center><h1>8강 자료의 처리</h1></center>\n",
    "<hr>"
   ]
  },
  {
   "cell_type": "markdown",
   "metadata": {},
   "source": [
    "## Table of Contents <a id=\"top\"></a>"
   ]
  },
  {
   "cell_type": "markdown",
   "metadata": {},
   "source": [
    "1. [우선순위 평가](#1)\n",
    "    1. [인접행렬](#1.1)\n",
    "    2. [순위평가 원리](#1.2)\n",
    "    3. [사례](#1.3)\n",
    "2. [자료압축](#2)\n",
    "    1. [특잇값 분해](#2.1)\n",
    "    2. [축소된 특잇값 분해](#2.2)\n",
    "    3. [자료압축 원리](#2.3)"
   ]
  },
  {
   "cell_type": "markdown",
   "metadata": {},
   "source": [
    "<hr>"
   ]
  },
  {
   "cell_type": "code",
   "execution_count": 1,
   "metadata": {},
   "outputs": [],
   "source": [
    "import numpy as np\n",
    "\n",
    "from matplotlib import font_manager\n",
    "import matplotlib.pyplot as plt"
   ]
  },
  {
   "cell_type": "code",
   "execution_count": 2,
   "metadata": {},
   "outputs": [],
   "source": [
    "font_fname = './static/fonts/AppleGothic.ttf'\n",
    "font_family = font_manager.FontProperties(fname=font_fname).get_name()\n",
    "plt.rcParams['font.family'] = font_family\n",
    "plt.rcParams['font.size'] = 20"
   ]
  },
  {
   "cell_type": "code",
   "execution_count": 3,
   "metadata": {},
   "outputs": [],
   "source": [
    "%matplotlib inline"
   ]
  },
  {
   "cell_type": "markdown",
   "metadata": {},
   "source": [
    "# 1. 우선순위 평가<a id=\"1\"></a>\n",
    "<p style=\"text-align:right;\"><a href=\"#top\">🔝 top</a></p>"
   ]
  },
  {
   "cell_type": "markdown",
   "metadata": {},
   "source": [
    "## 1.1. 인접행렬 <a id=\"1.1\"></a>\n",
    "<p style=\"text-align:right;\"><a href=\"#top\">🔝 top</a></p>"
   ]
  },
  {
   "cell_type": "markdown",
   "metadata": {},
   "source": [
    "### 인접행렬"
   ]
  },
  {
   "cell_type": "markdown",
   "metadata": {},
   "source": [
    "* 그래프 이론에서도 많이 사용하는 표기법\n",
    "* 요소의 연결관곌르 표현\n",
    "* u -> v 로 연결이 있다면 행렬 u행 v열의 성분에 값(1)을 준다"
   ]
  },
  {
   "cell_type": "markdown",
   "metadata": {},
   "source": [
    "<img src=\"./figure/인접행렬.png\"/>"
   ]
  },
  {
   "cell_type": "markdown",
   "metadata": {},
   "source": [
    "### 권위벡터(Authority Vector)와 허브벡터(Hub Vector)"
   ]
  },
  {
   "cell_type": "markdown",
   "metadata": {},
   "source": [
    "* 권위벡터: 한 열의 합을 벡터화\n",
    "    * 권위벡터의 성분이 권위 가중치는 참조를 **받은** 아이템에 대해 가중치\n",
    "* 허브벡터: 한 행의 합을 벡터화 = 참조를 하는 아이템에 대해 계산\n",
    "    * 허브벡터의 성분이 허브 가중치는 참조를 **하는** 아이템에 대해 가중치"
   ]
  },
  {
   "cell_type": "markdown",
   "metadata": {},
   "source": [
    "<img src=\"./figure/권위벡터와 허브벡터.png\"/>"
   ]
  },
  {
   "cell_type": "markdown",
   "metadata": {},
   "source": [
    "## 1.2 순위평가 원리 <a id=\"1.2\"></a>\n",
    "<p style=\"text-align:right;\"><a href=\"#top\">🔝 top</a></p>"
   ]
  },
  {
   "cell_type": "markdown",
   "metadata": {},
   "source": [
    "### 순위평가 원리"
   ]
  },
  {
   "cell_type": "markdown",
   "metadata": {},
   "source": [
    "* 중요도에 따라서 순위 평가를 할 때 주목하는 것 = 권위 가중치.\n",
    "    * 많은 아이템에 의해서 참조 받는 것이 중요한 아이템이다\n",
    "* 하지만 참조 관계는 연쇄적이다. \n",
    "* 연쇄적인 참조 관계로 인해 권위벡터와 허브벡터는 지속적으로 변화한다. 특히 크기가 커지는 것을 방지하기 위해 정규화 필요\n",
    "* 더 이상 변하지 않을때까지(안정화될 때) 반복"
   ]
  },
  {
   "cell_type": "markdown",
   "metadata": {},
   "source": [
    "<img src=\"./figure/순위평가.png\"/>"
   ]
  },
  {
   "cell_type": "markdown",
   "metadata": {},
   "source": [
    "## 1.3. 사례 <a id=\"1.3\"></a>\n",
    "<p style=\"text-align:right;\"><a href=\"#top\">🔝 top</a></p>"
   ]
  },
  {
   "cell_type": "markdown",
   "metadata": {},
   "source": [
    "### Page Rank Algorithm"
   ]
  },
  {
   "cell_type": "markdown",
   "metadata": {},
   "source": [
    "* 웹 페이지에 상위에 노출되는 페이지는 창조하는 링크과 참조받는 링크 사이의 관계에 의해서 결정된다.\n",
    "* 권위벡터를 기반으로 중요도를 판단\n",
    "* 초기의 권위벡터 값에 기반한 순위가 뒤바뀌기도 한다."
   ]
  },
  {
   "cell_type": "markdown",
   "metadata": {},
   "source": [
    "# 2. 자료압축<a id=\"2\"></a>\n",
    "<p style=\"text-align:right;\"><a href=\"#top\">🔝 top</a></p>"
   ]
  },
  {
   "cell_type": "markdown",
   "metadata": {},
   "source": [
    "## 2.1. 특잇값 분해<a id=\"2.1\"></a>\n",
    "<p style=\"text-align:right;\"><a href=\"#top\">🔝 top</a></p>"
   ]
  },
  {
   "cell_type": "markdown",
   "metadata": {},
   "source": [
    "### 분해"
   ]
  },
  {
   "cell_type": "markdown",
   "metadata": {},
   "source": [
    "* 선형대수의 주요한 부분 중 하나\n",
    "* 하나의 행렬을 다수의 행렬로 분해하는 과정. \n",
    "* 대각화도 분해의 일종으로 간주할 수 있다\n",
    "* QR 분해, LU 분해, LDU 분해, 고윳값 분해, 특잇값 분해 등"
   ]
  },
  {
   "cell_type": "markdown",
   "metadata": {},
   "source": [
    "### 특잇값"
   ]
  },
  {
   "cell_type": "markdown",
   "metadata": {},
   "source": [
    "* mxn 행렬 A에 대해서는 일반적으로 고윳값을 구할 수 없다.\n",
    "* 하지만 ATA 로 연산한 행렬은 nxn 정사각행렬이 되므로 고윳값을 구할 수 있다\n",
    "* ATA 의 고윳값을 크기가 큰 순서대로 정렬하고(일반적으로) 제곱근을 구하면 이를 행렬 A의 특잇값이라고 한다"
   ]
  },
  {
   "cell_type": "markdown",
   "metadata": {},
   "source": [
    "<img src=\"./figure/특잇값.png\"/>"
   ]
  },
  {
   "cell_type": "markdown",
   "metadata": {},
   "source": [
    "### 특잇값 구하기"
   ]
  },
  {
   "cell_type": "markdown",
   "metadata": {},
   "source": [
    "* 영행렬이 아닌 mxn 행렬 A를 UΣVT 로 분해\n",
    "    * U, VT: 직교행렬\n",
    "    * Σ: 특이값을 대각성분으로 한 대각행렬"
   ]
  },
  {
   "cell_type": "markdown",
   "metadata": {},
   "source": [
    "<img src=\"./figure/특잇값분해.png\"/>"
   ]
  },
  {
   "cell_type": "markdown",
   "metadata": {},
   "source": [
    "## 2.2. 축소된 특잇값 분해<a id=\"2.2\"></a>\n",
    "<p style=\"text-align:right;\"><a href=\"#top\">🔝 top</a></p>"
   ]
  },
  {
   "cell_type": "markdown",
   "metadata": {},
   "source": [
    "### 축소된 특잇값 분해"
   ]
  },
  {
   "cell_type": "markdown",
   "metadata": {},
   "source": [
    "* 특잇값 분해 결과 Σ 중 0으로만 이루어진 행 또는 열. 그리고 그러한 행 또는 열과만 연산을 하는 U, VT 의 행 또는 열을 제거한다\n",
    "    * 사실상 대수적으로 무의미한 부분으로 최종 결과의 영향을 미치지 않늗다\n",
    "* k개의 특잇값에 대해서 축소된 특잇값 분해 결과 A = σ1u1vt1 + σ2u2vt2 + ... + σkukvtk 로 표현할 수 있다"
   ]
  },
  {
   "cell_type": "markdown",
   "metadata": {},
   "source": [
    "<img src=\"./figure/축소된특잇값분해.png\"/>"
   ]
  },
  {
   "cell_type": "markdown",
   "metadata": {},
   "source": [
    "## 2.3. 자료압축의 원리<a id=\"2.3\"></a>\n",
    "<p style=\"text-align:right;\"><a href=\"#top\">🔝 top</a></p>"
   ]
  },
  {
   "cell_type": "markdown",
   "metadata": {},
   "source": [
    "### 자료압축"
   ]
  },
  {
   "cell_type": "markdown",
   "metadata": {},
   "source": [
    "* 성능 좋은 자료압축 과정에서 원본의 데이터 손실을 불가피하다. 하지만 특잇값 분해를 통해 왜곡 정도를 최소화한 압축이 가능\n",
    "* 데이터는 mxn 행렬로 표현할 수 있다.\n",
    "* 원래대로라면 데이터를 저장하기 위해서 mn 크기의 공간이 필요\n",
    "* 특잇값 분해를 통해 mn 크기긔 공간은 k(m + 1 + n) 으로 변화시킬 수 있다\n",
    "* 만약 값이 작은 특잇값을 제거해서 r 개만 남길 경우 필요 공간의 크기는 r(m + 1 + n)로 더 줄일 수 있다"
   ]
  },
  {
   "cell_type": "markdown",
   "metadata": {},
   "source": [
    "<hr>"
   ]
  }
 ],
 "metadata": {
  "kernelspec": {
   "display_name": "Python 3",
   "language": "python",
   "name": "python3"
  },
  "language_info": {
   "codemirror_mode": {
    "name": "ipython",
    "version": 3
   },
   "file_extension": ".py",
   "mimetype": "text/x-python",
   "name": "python",
   "nbconvert_exporter": "python",
   "pygments_lexer": "ipython3",
   "version": "3.7.4"
  }
 },
 "nbformat": 4,
 "nbformat_minor": 4
}
