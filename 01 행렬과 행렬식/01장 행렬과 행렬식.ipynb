{
 "cells": [
  {
   "cell_type": "markdown",
   "metadata": {},
   "source": [
    "<center><h1>1강 행렬과 행렬식</h1></center>\n",
    "<hr>"
   ]
  },
  {
   "cell_type": "markdown",
   "metadata": {},
   "source": [
    "## Table of Contents <a id=\"top\"></a>"
   ]
  },
  {
   "cell_type": "markdown",
   "metadata": {},
   "source": [
    "1. [행렬](#1)\n",
    "    1. [용어정리](#1.1)\n",
    "    2. [행렬의 연산](#1.2)\n",
    "2. 연립일차방정식\n",
    "    1. 행렬의 표현\n",
    "    2. 가우스 조던 소거법\n",
    "    3. 역행렬 이용\n",
    "3. 행렬식\n",
    "    1. 행렬식이란?\n",
    "    2. 역행렬\n",
    "    3. 크래머 공식"
   ]
  },
  {
   "cell_type": "markdown",
   "metadata": {},
   "source": [
    "<hr>"
   ]
  },
  {
   "cell_type": "code",
   "execution_count": 1,
   "metadata": {},
   "outputs": [],
   "source": [
    "import numpy as np"
   ]
  },
  {
   "cell_type": "markdown",
   "metadata": {},
   "source": [
    "# 1. 행렬 <a id=\"1\"></a>\n",
    "<p style=\"text-align:right;\"><a href=\"#top\">🔝 top</a></p>"
   ]
  },
  {
   "cell_type": "markdown",
   "metadata": {},
   "source": [
    "## 1.1. 용어정리 <a id=\"1.1\"></a>\n",
    "<p style=\"text-align:right;\"><a href=\"#top\">🔝 top</a></p>"
   ]
  },
  {
   "cell_type": "markdown",
   "metadata": {},
   "source": [
    "### 행렬의 구성"
   ]
  },
  {
   "cell_type": "markdown",
   "metadata": {},
   "source": [
    "* 성분(component): 행렬 안에 배열된 구성원\n",
    "* 행(row): 행렬의 가로줄\n",
    "* 열(column): 행렬의 세로줄\n",
    "* mxn 행렬: m 행과 n 열로 이루어진 행렬"
   ]
  },
  {
   "cell_type": "markdown",
   "metadata": {},
   "source": [
    "<img src=\"./figure/행렬 용어 정리.png\"/>"
   ]
  },
  {
   "cell_type": "markdown",
   "metadata": {},
   "source": [
    "### 주요 행렬"
   ]
  },
  {
   "cell_type": "markdown",
   "metadata": {},
   "source": [
    "* 대각 행렬(Diagonal Matrix): 대각성분(Diagonal Component)를 제외한 나머지 성분이 0인 행렬.\n",
    "* 영행렬(Zero Matrix): 모든 성분이 0인 행렬\n",
    "* 전치 행렬(Transpose Matrix): 주대각선을 기준으로 뒤집은 행렬. a(i, j)가 a(j, i)로 변한다.\n",
    "* 대칭 행렬(Symmetric Matrix): 행렬 A와 전치 행렬 AT가 같은 행렬 A\n",
    "* 정사각 행렬(Square Matrix): 행과 열의 개수가 같은 행렬\n",
    "* 단위 행렬(Identity Matrix): 모든 대각성분이 1이고 나머지 성분은 0인 정사각 행렬"
   ]
  },
  {
   "cell_type": "code",
   "execution_count": 2,
   "metadata": {},
   "outputs": [
    {
     "name": "stdout",
     "output_type": "stream",
     "text": [
      "대각 행렬>>\n",
      "[[1 0 0 0]\n",
      " [0 2 0 0]\n",
      " [0 0 3 0]]\n"
     ]
    }
   ],
   "source": [
    "diagonal_matrix = np.array([[1, 0, 0, 0], [0, 2, 0, 0], [0, 0, 3, 0]])\n",
    "print('대각 행렬>>\\n{}'.format(diagonal_matrix))"
   ]
  },
  {
   "cell_type": "code",
   "execution_count": 3,
   "metadata": {},
   "outputs": [
    {
     "name": "stdout",
     "output_type": "stream",
     "text": [
      "대각 행렬>>\n",
      "[[0 0]\n",
      " [0 0]\n",
      " [0 0]]\n"
     ]
    }
   ],
   "source": [
    "zero_matrix = np.zeros((3, 2), dtype=int)\n",
    "print('대각 행렬>>\\n{}'.format(zero_matrix))"
   ]
  },
  {
   "cell_type": "code",
   "execution_count": 4,
   "metadata": {},
   "outputs": [
    {
     "name": "stdout",
     "output_type": "stream",
     "text": [
      "원래 행렬>>\n",
      "[[ 1  2  3  4]\n",
      " [ 5  6  7  8]\n",
      " [ 9 10 11 12]]\n",
      "\n",
      "전치 행렬>>\n",
      "[[ 1  5  9]\n",
      " [ 2  6 10]\n",
      " [ 3  7 11]\n",
      " [ 4  8 12]]\n"
     ]
    }
   ],
   "source": [
    "a = np.array([[1, 2, 3, 4], [5, 6, 7, 8], [9, 10, 11, 12]])\n",
    "a_transpose = a.T\n",
    "print('원래 행렬>>\\n{}\\n'.format(a))\n",
    "print('전치 행렬>>\\n{}'.format(a_transpose))"
   ]
  },
  {
   "cell_type": "code",
   "execution_count": 5,
   "metadata": {},
   "outputs": [
    {
     "name": "stdout",
     "output_type": "stream",
     "text": [
      "대칭 행렬>>\n",
      "[[1 2 3]\n",
      " [2 2 4]\n",
      " [3 4 5]]\n",
      "\n",
      "전치된 대칭 행렬>>\n",
      "[[1 2 3]\n",
      " [2 2 4]\n",
      " [3 4 5]]\n"
     ]
    }
   ],
   "source": [
    "symmetric_matrix = np.array([[1, 2, 3], [2, 2, 4], [3, 4, 5]])\n",
    "print('대칭 행렬>>\\n{}\\n'.format(symmetric_matrix))\n",
    "print('전치된 대칭 행렬>>\\n{}'.format(symmetric_matrix.T))"
   ]
  },
  {
   "cell_type": "code",
   "execution_count": 6,
   "metadata": {},
   "outputs": [
    {
     "name": "stdout",
     "output_type": "stream",
     "text": [
      "정사각 행렬>>\n",
      "[[1 2 3]\n",
      " [4 5 6]\n",
      " [7 8 9]]\n"
     ]
    }
   ],
   "source": [
    "square_matrix = np.array([[1, 2, 3], [4, 5, 6], [7, 8, 9]])\n",
    "print('정사각 행렬>>\\n{}'.format(square_matrix))"
   ]
  },
  {
   "cell_type": "code",
   "execution_count": 7,
   "metadata": {},
   "outputs": [
    {
     "name": "stdout",
     "output_type": "stream",
     "text": [
      "2x2 단위 행렬>>\n",
      "[[1 0]\n",
      " [0 1]]\n",
      "\n",
      "3x3 단위 행렬>>\n",
      "[[1 0 0]\n",
      " [0 1 0]\n",
      " [0 0 1]]\n"
     ]
    }
   ],
   "source": [
    "identity_matrix_2x2 = np.eye(2, dtype=int)\n",
    "print('2x2 단위 행렬>>\\n{}\\n'.format(identity_matrix_2x2))\n",
    "\n",
    "identity_matrix_3x3 = np.eye(3, dtype=int)\n",
    "print('3x3 단위 행렬>>\\n{}'.format(identity_matrix_3x3))"
   ]
  },
  {
   "cell_type": "markdown",
   "metadata": {},
   "source": [
    "## 1.2. 행렬의 연산 <a id=\"1.2\"></a>\n",
    "<p style=\"text-align:right;\"><a href=\"#top\">🔝 top</a></p>"
   ]
  },
  {
   "cell_type": "markdown",
   "metadata": {},
   "source": [
    "### 행렬의 덧셈, 뺄셈, 상수배"
   ]
  },
  {
   "cell_type": "markdown",
   "metadata": {},
   "source": [
    "* 덧셈, 뺄셈, 상수배 연산은 같은 위치에 행렬의 성분끼리 연산한다.\n",
    "* 덧셈에 대해서는 교환법칙(A + B = B + A)와 결합법칙(A + (B + C) = (A + B) + C) 모두 성립한다"
   ]
  },
  {
   "cell_type": "code",
   "execution_count": 8,
   "metadata": {},
   "outputs": [
    {
     "name": "stdout",
     "output_type": "stream",
     "text": [
      "2x3 행렬 A>>\n",
      "[[1 2 3]\n",
      " [4 5 6]]\n",
      "\n",
      "2x3 행렬 B>>\n",
      "[[1 1 1]\n",
      " [2 2 2]]\n"
     ]
    }
   ],
   "source": [
    "a = np.array([[1, 2, 3], [4, 5, 6]])\n",
    "b = np.array([[1, 1, 1], [2, 2, 2]])\n",
    "print('{}x{} 행렬 A>>\\n{}\\n'.format(a.shape[0], a.shape[1], a))\n",
    "print('{}x{} 행렬 B>>\\n{}'.format(b.shape[0], b.shape[1], b))"
   ]
  },
  {
   "cell_type": "code",
   "execution_count": 9,
   "metadata": {},
   "outputs": [
    {
     "name": "stdout",
     "output_type": "stream",
     "text": [
      "A + B>>\n",
      "[[2 3 4]\n",
      " [6 7 8]]\n",
      "\n",
      "B + A>>\n",
      "[[2 3 4]\n",
      " [6 7 8]]\n"
     ]
    }
   ],
   "source": [
    "a_add_b = a + b\n",
    "b_add_a = b + a\n",
    "print('A + B>>\\n{}\\n'.format(a_add_b))\n",
    "print('B + A>>\\n{}'.format(b_add_a))"
   ]
  },
  {
   "cell_type": "code",
   "execution_count": 10,
   "metadata": {},
   "outputs": [
    {
     "name": "stdout",
     "output_type": "stream",
     "text": [
      "A - B>>\n",
      "[[0 1 2]\n",
      " [2 3 4]]\n",
      "\n",
      "B - A>>\n",
      "[[ 0 -1 -2]\n",
      " [-2 -3 -4]]\n"
     ]
    }
   ],
   "source": [
    "a_sub_b = a - b\n",
    "b_sub_a = b - a\n",
    "print('A - B>>\\n{}\\n'.format(a_sub_b))\n",
    "print('B - A>>\\n{}'.format(b_sub_a))"
   ]
  },
  {
   "cell_type": "code",
   "execution_count": 11,
   "metadata": {},
   "outputs": [
    {
     "name": "stdout",
     "output_type": "stream",
     "text": [
      "A x 3>>\n",
      "[[ 3  6  9]\n",
      " [12 15 18]]\n",
      "\n",
      "3 x A>>\n",
      "[[ 3  6  9]\n",
      " [12 15 18]]\n"
     ]
    }
   ],
   "source": [
    "scalar = 3\n",
    "a_increase_c = a * scalar\n",
    "c_increase_a = scalar * a\n",
    "print('A x {}>>\\n{}\\n'.format(scalar, a_increase_c))\n",
    "print('{} x A>>\\n{}'.format(scalar, c_increase_a))"
   ]
  },
  {
   "cell_type": "markdown",
   "metadata": {},
   "source": [
    "### 행렬의 곱셈"
   ]
  },
  {
   "cell_type": "markdown",
   "metadata": {},
   "source": [
    "* 행렬의 곱셈 AB를 위해서는 A의 열의 개수와 B의 행의 개수가 같아야한다. 연산의 결과로 A의 행의 개수 x B의 열의 개수 크기의 행렬이 나온다\n",
    "* 행렬의 곱셈은 교환법칙이 성립하지 않는다. 대신 결합법칙은 성립한다. 따라서 분배법칙도 가능하다"
   ]
  },
  {
   "cell_type": "code",
   "execution_count": 12,
   "metadata": {},
   "outputs": [
    {
     "name": "stdout",
     "output_type": "stream",
     "text": [
      "2x3 행렬 A>>\n",
      "[[1 2 3]\n",
      " [4 5 6]]\n",
      "\n",
      "3x2 행렬 B>>\n",
      "[[1 1]\n",
      " [2 2]\n",
      " [3 3]]\n"
     ]
    }
   ],
   "source": [
    "a = np.array([[1, 2, 3], [4, 5, 6]])\n",
    "b = np.array([[1, 1], [2, 2], [3, 3]])\n",
    "print('{}x{} 행렬 A>>\\n{}\\n'.format(a.shape[0], a.shape[1], a))\n",
    "print('{}x{} 행렬 B>>\\n{}'.format(b.shape[0], b.shape[1], b))"
   ]
  },
  {
   "cell_type": "code",
   "execution_count": 13,
   "metadata": {},
   "outputs": [
    {
     "name": "stdout",
     "output_type": "stream",
     "text": [
      "AB>>\n",
      "[[14 14]\n",
      " [32 32]]\n",
      "\n",
      "BA>>\n",
      "[[ 5  7  9]\n",
      " [10 14 18]\n",
      " [15 21 27]]\n"
     ]
    }
   ],
   "source": [
    "a_dot_b = a @ b\n",
    "b_dot_a = b @ a\n",
    "print('AB>>\\n{}\\n'.format(a_dot_b))\n",
    "print('BA>>\\n{}'.format(b_dot_a))"
   ]
  },
  {
   "cell_type": "code",
   "execution_count": 14,
   "metadata": {},
   "outputs": [
    {
     "name": "stdout",
     "output_type": "stream",
     "text": [
      "2x3 행렬 A>>\n",
      "[[1 2 3]\n",
      " [4 5 6]]\n",
      "\n",
      "2x3 행렬 B>>\n",
      "[[ 7  8  9]\n",
      " [10 11 12]]\n",
      "\n",
      "3x2 행렬 C>>\n",
      "[[1 1]\n",
      " [2 2]\n",
      " [3 3]]\n"
     ]
    }
   ],
   "source": [
    "a = np.array([[1, 2, 3], [4, 5, 6]])\n",
    "b = np.array([[7, 8, 9], [10, 11, 12]])\n",
    "c = np.array([[1, 1], [2, 2], [3, 3]])\n",
    "print('{}x{} 행렬 A>>\\n{}\\n'.format(a.shape[0], a.shape[1], a))\n",
    "print('{}x{} 행렬 B>>\\n{}\\n'.format(b.shape[0], b.shape[1], b))\n",
    "print('{}x{} 행렬 C>>\\n{}'.format(c.shape[0], c.shape[1], c))"
   ]
  },
  {
   "cell_type": "code",
   "execution_count": 15,
   "metadata": {},
   "outputs": [
    {
     "name": "stdout",
     "output_type": "stream",
     "text": [
      "AC + BC>>\n",
      "[[ 64  64]\n",
      " [100 100]]\n",
      "\n",
      "(A + B)C>>\n",
      "[[ 64  64]\n",
      " [100 100]]\n"
     ]
    }
   ],
   "source": [
    "a_dot_c_add_b_dot_c = (a @ c) + (b @ c)\n",
    "a_add_b_dot_c = (a + b) @ c\n",
    "print('AC + BC>>\\n{}\\n'.format(a_dot_c_add_b_dot_c))\n",
    "print('(A + B)C>>\\n{}'.format(a_add_b_dot_c))"
   ]
  },
  {
   "cell_type": "markdown",
   "metadata": {},
   "source": [
    "### 행렬의 곱셈 = 함수의 합성"
   ]
  },
  {
   "cell_type": "markdown",
   "metadata": {},
   "source": [
    "<img src=\"./figure/행렬 곱셈 합성.png\"/>"
   ]
  },
  {
   "cell_type": "code",
   "execution_count": null,
   "metadata": {},
   "outputs": [],
   "source": []
  }
 ],
 "metadata": {
  "kernelspec": {
   "display_name": "Python 3",
   "language": "python",
   "name": "python3"
  },
  "language_info": {
   "codemirror_mode": {
    "name": "ipython",
    "version": 3
   },
   "file_extension": ".py",
   "mimetype": "text/x-python",
   "name": "python",
   "nbconvert_exporter": "python",
   "pygments_lexer": "ipython3",
   "version": "3.7.4"
  }
 },
 "nbformat": 4,
 "nbformat_minor": 4
}
