{
 "cells": [
  {
   "cell_type": "markdown",
   "metadata": {},
   "source": [
    "<center><h1>1강 행렬과 행렬식</h1></center>\n",
    "<hr>"
   ]
  },
  {
   "cell_type": "markdown",
   "metadata": {},
   "source": [
    "## Table of Contents <a id=\"top\"></a>"
   ]
  },
  {
   "cell_type": "markdown",
   "metadata": {},
   "source": [
    "1. [행렬](#1)\n",
    "    1. [용어정리](#1.1)\n",
    "    2. [행렬의 연산](#1.2)\n",
    "2. [연립일차방정식](#2)\n",
    "    1. [행렬의 표현](#2.1)\n",
    "    2. [가우스 조던 소거법](#2.2)\n",
    "    3. [역행렬 이용](#2.3)\n",
    "3. [행렬식](#3)\n",
    "    1. [행렬식이란?](#3.1)\n",
    "    2. [역행렬](#3.2)\n",
    "    3. [크래머 공식](#3.3)"
   ]
  },
  {
   "cell_type": "markdown",
   "metadata": {},
   "source": [
    "A. [연습문제](#A)"
   ]
  },
  {
   "cell_type": "markdown",
   "metadata": {},
   "source": [
    "<hr>"
   ]
  },
  {
   "cell_type": "code",
   "execution_count": 1,
   "metadata": {},
   "outputs": [],
   "source": [
    "import numpy as np"
   ]
  },
  {
   "cell_type": "markdown",
   "metadata": {},
   "source": [
    "# 1. 행렬 <a id=\"1\"></a>\n",
    "<p style=\"text-align:right;\"><a href=\"#top\">🔝 top</a></p>"
   ]
  },
  {
   "cell_type": "markdown",
   "metadata": {},
   "source": [
    "## 1.1. 용어정리 <a id=\"1.1\"></a>\n",
    "<p style=\"text-align:right;\"><a href=\"#top\">🔝 top</a></p>"
   ]
  },
  {
   "cell_type": "markdown",
   "metadata": {},
   "source": [
    "### 행렬의 구성"
   ]
  },
  {
   "cell_type": "markdown",
   "metadata": {},
   "source": [
    "* 성분(component): 행렬 안에 배열된 구성원\n",
    "* 행(row): 행렬의 가로줄\n",
    "* 열(column): 행렬의 세로줄\n",
    "* mxn 행렬: m 행과 n 열로 이루어진 행렬"
   ]
  },
  {
   "cell_type": "markdown",
   "metadata": {},
   "source": [
    "<img src=\"./figure/행렬 용어 정리.png\"/>"
   ]
  },
  {
   "cell_type": "markdown",
   "metadata": {},
   "source": [
    "### 주요 행렬"
   ]
  },
  {
   "cell_type": "markdown",
   "metadata": {},
   "source": [
    "* 대각 행렬(Diagonal Matrix): 대각성분(Diagonal Component)를 제외한 나머지 성분이 0인 행렬.\n",
    "* 영행렬(Zero Matrix): 모든 성분이 0인 행렬\n",
    "* 전치 행렬(Transpose Matrix): 주대각선을 기준으로 뒤집은 행렬. a(i, j)가 a(j, i)로 변한다.\n",
    "* 대칭 행렬(Symmetric Matrix): 행렬 A와 전치 행렬 AT가 같은 행렬 A\n",
    "* 정사각 행렬(Square Matrix): 행과 열의 개수가 같은 행렬\n",
    "* 단위 행렬(Identity Matrix): 모든 대각성분이 1이고 나머지 성분은 0인 정사각 행렬"
   ]
  },
  {
   "cell_type": "code",
   "execution_count": 2,
   "metadata": {},
   "outputs": [
    {
     "name": "stdout",
     "output_type": "stream",
     "text": [
      "대각 행렬>>\n",
      "[[1 0 0 0]\n",
      " [0 2 0 0]\n",
      " [0 0 3 0]]\n"
     ]
    }
   ],
   "source": [
    "diagonal_matrix = np.array([[1, 0, 0, 0], [0, 2, 0, 0], [0, 0, 3, 0]])\n",
    "print('대각 행렬>>\\n{}'.format(diagonal_matrix))"
   ]
  },
  {
   "cell_type": "code",
   "execution_count": 3,
   "metadata": {},
   "outputs": [
    {
     "name": "stdout",
     "output_type": "stream",
     "text": [
      "대각 행렬>>\n",
      "[[0 0]\n",
      " [0 0]\n",
      " [0 0]]\n"
     ]
    }
   ],
   "source": [
    "zero_matrix = np.zeros((3, 2), dtype=int)\n",
    "print('대각 행렬>>\\n{}'.format(zero_matrix))"
   ]
  },
  {
   "cell_type": "code",
   "execution_count": 4,
   "metadata": {},
   "outputs": [
    {
     "name": "stdout",
     "output_type": "stream",
     "text": [
      "원래 행렬>>\n",
      "[[ 1  2  3  4]\n",
      " [ 5  6  7  8]\n",
      " [ 9 10 11 12]]\n",
      "\n",
      "전치 행렬>>\n",
      "[[ 1  5  9]\n",
      " [ 2  6 10]\n",
      " [ 3  7 11]\n",
      " [ 4  8 12]]\n"
     ]
    }
   ],
   "source": [
    "a = np.array([[1, 2, 3, 4], [5, 6, 7, 8], [9, 10, 11, 12]])\n",
    "a_transpose = a.T\n",
    "print('원래 행렬>>\\n{}\\n'.format(a))\n",
    "print('전치 행렬>>\\n{}'.format(a_transpose))"
   ]
  },
  {
   "cell_type": "code",
   "execution_count": 5,
   "metadata": {},
   "outputs": [
    {
     "name": "stdout",
     "output_type": "stream",
     "text": [
      "대칭 행렬>>\n",
      "[[1 2 3]\n",
      " [2 2 4]\n",
      " [3 4 5]]\n",
      "\n",
      "전치된 대칭 행렬>>\n",
      "[[1 2 3]\n",
      " [2 2 4]\n",
      " [3 4 5]]\n"
     ]
    }
   ],
   "source": [
    "symmetric_matrix = np.array([[1, 2, 3], [2, 2, 4], [3, 4, 5]])\n",
    "print('대칭 행렬>>\\n{}\\n'.format(symmetric_matrix))\n",
    "print('전치된 대칭 행렬>>\\n{}'.format(symmetric_matrix.T))"
   ]
  },
  {
   "cell_type": "code",
   "execution_count": 6,
   "metadata": {},
   "outputs": [
    {
     "name": "stdout",
     "output_type": "stream",
     "text": [
      "정사각 행렬>>\n",
      "[[1 2 3]\n",
      " [4 5 6]\n",
      " [7 8 9]]\n"
     ]
    }
   ],
   "source": [
    "square_matrix = np.array([[1, 2, 3], [4, 5, 6], [7, 8, 9]])\n",
    "print('정사각 행렬>>\\n{}'.format(square_matrix))"
   ]
  },
  {
   "cell_type": "code",
   "execution_count": 7,
   "metadata": {},
   "outputs": [
    {
     "name": "stdout",
     "output_type": "stream",
     "text": [
      "2x2 단위 행렬>>\n",
      "[[1 0]\n",
      " [0 1]]\n",
      "\n",
      "3x3 단위 행렬>>\n",
      "[[1 0 0]\n",
      " [0 1 0]\n",
      " [0 0 1]]\n"
     ]
    }
   ],
   "source": [
    "identity_matrix_2x2 = np.eye(2, dtype=int)\n",
    "print('2x2 단위 행렬>>\\n{}\\n'.format(identity_matrix_2x2))\n",
    "\n",
    "identity_matrix_3x3 = np.eye(3, dtype=int)\n",
    "print('3x3 단위 행렬>>\\n{}'.format(identity_matrix_3x3))"
   ]
  },
  {
   "cell_type": "markdown",
   "metadata": {},
   "source": [
    "## 1.2. 행렬의 연산 <a id=\"1.2\"></a>\n",
    "<p style=\"text-align:right;\"><a href=\"#top\">🔝 top</a></p>"
   ]
  },
  {
   "cell_type": "markdown",
   "metadata": {},
   "source": [
    "### 행렬의 덧셈, 뺄셈, 상수배"
   ]
  },
  {
   "cell_type": "markdown",
   "metadata": {},
   "source": [
    "* 덧셈, 뺄셈, 상수배 연산은 같은 위치에 행렬의 성분끼리 연산한다.\n",
    "* 덧셈에 대해서는 교환법칙(A + B = B + A)와 결합법칙(A + (B + C) = (A + B) + C) 모두 성립한다"
   ]
  },
  {
   "cell_type": "code",
   "execution_count": 8,
   "metadata": {},
   "outputs": [
    {
     "name": "stdout",
     "output_type": "stream",
     "text": [
      "2x3 행렬 A>>\n",
      "[[1 2 3]\n",
      " [4 5 6]]\n",
      "\n",
      "2x3 행렬 B>>\n",
      "[[1 1 1]\n",
      " [2 2 2]]\n"
     ]
    }
   ],
   "source": [
    "a = np.array([[1, 2, 3], [4, 5, 6]])\n",
    "b = np.array([[1, 1, 1], [2, 2, 2]])\n",
    "print('{}x{} 행렬 A>>\\n{}\\n'.format(a.shape[0], a.shape[1], a))\n",
    "print('{}x{} 행렬 B>>\\n{}'.format(b.shape[0], b.shape[1], b))"
   ]
  },
  {
   "cell_type": "code",
   "execution_count": 9,
   "metadata": {},
   "outputs": [
    {
     "name": "stdout",
     "output_type": "stream",
     "text": [
      "A + B>>\n",
      "[[2 3 4]\n",
      " [6 7 8]]\n",
      "\n",
      "B + A>>\n",
      "[[2 3 4]\n",
      " [6 7 8]]\n"
     ]
    }
   ],
   "source": [
    "a_add_b = a + b\n",
    "b_add_a = b + a\n",
    "print('A + B>>\\n{}\\n'.format(a_add_b))\n",
    "print('B + A>>\\n{}'.format(b_add_a))"
   ]
  },
  {
   "cell_type": "code",
   "execution_count": 10,
   "metadata": {},
   "outputs": [
    {
     "name": "stdout",
     "output_type": "stream",
     "text": [
      "A - B>>\n",
      "[[0 1 2]\n",
      " [2 3 4]]\n",
      "\n",
      "B - A>>\n",
      "[[ 0 -1 -2]\n",
      " [-2 -3 -4]]\n"
     ]
    }
   ],
   "source": [
    "a_sub_b = a - b\n",
    "b_sub_a = b - a\n",
    "print('A - B>>\\n{}\\n'.format(a_sub_b))\n",
    "print('B - A>>\\n{}'.format(b_sub_a))"
   ]
  },
  {
   "cell_type": "code",
   "execution_count": 11,
   "metadata": {},
   "outputs": [
    {
     "name": "stdout",
     "output_type": "stream",
     "text": [
      "A x 3>>\n",
      "[[ 3  6  9]\n",
      " [12 15 18]]\n",
      "\n",
      "3 x A>>\n",
      "[[ 3  6  9]\n",
      " [12 15 18]]\n"
     ]
    }
   ],
   "source": [
    "scalar = 3\n",
    "a_increase_c = a * scalar\n",
    "c_increase_a = scalar * a\n",
    "print('A x {}>>\\n{}\\n'.format(scalar, a_increase_c))\n",
    "print('{} x A>>\\n{}'.format(scalar, c_increase_a))"
   ]
  },
  {
   "cell_type": "markdown",
   "metadata": {},
   "source": [
    "### 행렬의 곱셈"
   ]
  },
  {
   "cell_type": "markdown",
   "metadata": {},
   "source": [
    "* 행렬의 곱셈 AB를 위해서는 A의 열의 개수와 B의 행의 개수가 같아야한다. 연산의 결과로 A의 행의 개수 x B의 열의 개수 크기의 행렬이 나온다\n",
    "* 행렬의 곱셈은 교환법칙이 성립하지 않는다. 대신 결합법칙은 성립한다. 따라서 분배법칙도 가능하다"
   ]
  },
  {
   "cell_type": "code",
   "execution_count": 12,
   "metadata": {},
   "outputs": [
    {
     "name": "stdout",
     "output_type": "stream",
     "text": [
      "2x3 행렬 A>>\n",
      "[[1 2 3]\n",
      " [4 5 6]]\n",
      "\n",
      "3x2 행렬 B>>\n",
      "[[1 1]\n",
      " [2 2]\n",
      " [3 3]]\n"
     ]
    }
   ],
   "source": [
    "a = np.array([[1, 2, 3], [4, 5, 6]])\n",
    "b = np.array([[1, 1], [2, 2], [3, 3]])\n",
    "print('{}x{} 행렬 A>>\\n{}\\n'.format(a.shape[0], a.shape[1], a))\n",
    "print('{}x{} 행렬 B>>\\n{}'.format(b.shape[0], b.shape[1], b))"
   ]
  },
  {
   "cell_type": "code",
   "execution_count": 13,
   "metadata": {},
   "outputs": [
    {
     "name": "stdout",
     "output_type": "stream",
     "text": [
      "AB>>\n",
      "[[14 14]\n",
      " [32 32]]\n",
      "\n",
      "BA>>\n",
      "[[ 5  7  9]\n",
      " [10 14 18]\n",
      " [15 21 27]]\n"
     ]
    }
   ],
   "source": [
    "a_dot_b = a @ b\n",
    "b_dot_a = b @ a\n",
    "print('AB>>\\n{}\\n'.format(a_dot_b))\n",
    "print('BA>>\\n{}'.format(b_dot_a))"
   ]
  },
  {
   "cell_type": "code",
   "execution_count": 14,
   "metadata": {},
   "outputs": [
    {
     "name": "stdout",
     "output_type": "stream",
     "text": [
      "2x3 행렬 A>>\n",
      "[[1 2 3]\n",
      " [4 5 6]]\n",
      "\n",
      "2x3 행렬 B>>\n",
      "[[ 7  8  9]\n",
      " [10 11 12]]\n",
      "\n",
      "3x2 행렬 C>>\n",
      "[[1 1]\n",
      " [2 2]\n",
      " [3 3]]\n"
     ]
    }
   ],
   "source": [
    "a = np.array([[1, 2, 3], [4, 5, 6]])\n",
    "b = np.array([[7, 8, 9], [10, 11, 12]])\n",
    "c = np.array([[1, 1], [2, 2], [3, 3]])\n",
    "print('{}x{} 행렬 A>>\\n{}\\n'.format(a.shape[0], a.shape[1], a))\n",
    "print('{}x{} 행렬 B>>\\n{}\\n'.format(b.shape[0], b.shape[1], b))\n",
    "print('{}x{} 행렬 C>>\\n{}'.format(c.shape[0], c.shape[1], c))"
   ]
  },
  {
   "cell_type": "code",
   "execution_count": 15,
   "metadata": {},
   "outputs": [
    {
     "name": "stdout",
     "output_type": "stream",
     "text": [
      "AC + BC>>\n",
      "[[ 64  64]\n",
      " [100 100]]\n",
      "\n",
      "(A + B)C>>\n",
      "[[ 64  64]\n",
      " [100 100]]\n"
     ]
    }
   ],
   "source": [
    "a_dot_c_add_b_dot_c = (a @ c) + (b @ c)\n",
    "a_add_b_dot_c = (a + b) @ c\n",
    "print('AC + BC>>\\n{}\\n'.format(a_dot_c_add_b_dot_c))\n",
    "print('(A + B)C>>\\n{}'.format(a_add_b_dot_c))"
   ]
  },
  {
   "cell_type": "markdown",
   "metadata": {},
   "source": [
    "### 행렬의 곱셈 = 함수의 합성"
   ]
  },
  {
   "cell_type": "markdown",
   "metadata": {},
   "source": [
    "<img src=\"./figure/행렬 곱셈 합성.png\"/>"
   ]
  },
  {
   "cell_type": "markdown",
   "metadata": {},
   "source": [
    "# 2. 연립일차방정식 <a id=\"2\"></a>\n",
    "<p style=\"text-align:right;\"><a href=\"#top\">🔝 top</a></p>"
   ]
  },
  {
   "cell_type": "markdown",
   "metadata": {},
   "source": [
    "## 2.1. 행렬의 표현 <a id=\"2.1\"></a>\n",
    "<p style=\"text-align:right;\"><a href=\"#top\">🔝 top</a></p>"
   ]
  },
  {
   "cell_type": "markdown",
   "metadata": {},
   "source": [
    "### 행렬과 연립일차방정식"
   ]
  },
  {
   "cell_type": "markdown",
   "metadata": {},
   "source": [
    "* 행렬은 연립일차방정식의 해를 구하기 위해서 등장\n",
    "* 연립일차방정식의 해를 구하는데 있어서 행렬을 사용하는 방법으로 (1) <b>가우스 조던 방법</b>과 (2) <b>역행렬</b>이 있다\n"
   ]
  },
  {
   "cell_type": "markdown",
   "metadata": {},
   "source": [
    "<img src=\"./figure/연립일차방정식 표현.png\"/>"
   ]
  },
  {
   "cell_type": "markdown",
   "metadata": {},
   "source": [
    "## 2.2. 가우스 조던 소거법 <a id=\"2.2\"></a>\n",
    "<p style=\"text-align:right;\"><a href=\"#top\">🔝 top</a></p>"
   ]
  },
  {
   "cell_type": "markdown",
   "metadata": {},
   "source": [
    "### 가우스 조던 소거법"
   ]
  },
  {
   "cell_type": "markdown",
   "metadata": {},
   "source": [
    "* 세 가지 기본행 연산을 사용해서 첨가행렬을 기약 행 사다리꼴로 변환하여 해를 구한다\n",
    "    1. 한 행을 상수배한다\n",
    "    2. 한 행을 상수배하여서 다른 행에 더한다\n",
    "    3. 두 행을 맞바꾼다\n",
    "* 가우스 소거법은 행 사다리꼴로 변환하는 과정을, 가우스 조던 소거법은 기약 행 사다리꼴로 변환하는 과정을 의미한다.\n",
    "    * 행 사다리꼴은 각 행의 가장 왼쪽 1을 기준으로 다음 행의 값이 모두 0인 사다리꼴 형태\n",
    "    * 기약 행 사다리꼴은 각 행의 가장 왼쪽 1을 기준으로 이전과 다음 행의 값이 모두 0인 사다리꼴 형태\n",
    "* 가우스 소거법으로 해를 구하는 경우 상수해(해가 1개), 부정(해가 여러개, 일반해), 불능(해가 없음)이 나올 수 있다\n",
    "* 가우스 조던 소거법은 효율적인 알고리즘은 아니지만 프로그래밍으로 알고리즘화 할 수 있으며 나아가 다양한 수학 원리의 기본이라는 점에서 중요하다"
   ]
  },
  {
   "cell_type": "markdown",
   "metadata": {},
   "source": [
    "<img src=\"./figure/가우스 조던 소거법.png\"/>"
   ]
  },
  {
   "cell_type": "code",
   "execution_count": 16,
   "metadata": {},
   "outputs": [],
   "source": [
    "def swap(mat, i, j):\n",
    "    mat[[i, j]] = mat[[j, i]]"
   ]
  },
  {
   "cell_type": "code",
   "execution_count": 17,
   "metadata": {},
   "outputs": [],
   "source": [
    "def gauss_jordan(mat, jordan=True):\n",
    "    n_row = mat.shape[0]\n",
    "    n_col = mat.shape[1]\n",
    "    \n",
    "    row = 0\n",
    "    col = 0 # index of col, which must be non-zero\n",
    "\n",
    "    # 가우스 소거법\n",
    "    while row < n_row:\n",
    "        # 만약 행의 시작이 0이고 다음 행의 시작이 0이 아닌 r를 찾아서 swap.\n",
    "        if mat[row, col] == 0:\n",
    "            r = row + 1\n",
    "            while r < n_row and mat[r, col] == 0:\n",
    "                r += 1\n",
    "            if r < n_row:\n",
    "                swap(mat, row, r)\n",
    "            else:\n",
    "                col += 1\n",
    "                if col == n_col:\n",
    "                    row += 1\n",
    "                    col = n_col - 1\n",
    "        else:\n",
    "            # 0이 아닌 값을 찾자!!!\n",
    "            value = mat[row, col]\n",
    "            if col + 1 < n_col and value == 0:\n",
    "                col += 1\n",
    "                value = mat[row, col]\n",
    "            \n",
    "            # 혹시 0으로 나누는 문제를 대비해서...\n",
    "            if value != 0:\n",
    "                mat[row] = mat[row] / value\n",
    "            \n",
    "            # -0이 보기 싫으니깐. 0으로 통일하자\n",
    "            mat[row, :col] = 0\n",
    "            \n",
    "            # 현재 행의 시작은 1로 설정되었다. 이제부터 다음 행에서는 모두 값이 0이 되도록 소거한다\n",
    "            for idx in range(row + 1, n_row):\n",
    "                mat[idx] = mat[idx] - mat[row] * (mat[idx, col] / mat[row, col])\n",
    "                \n",
    "            \n",
    "            row += 1\n",
    "            col += 1\n",
    "    \n",
    "    # 조단 소거법\n",
    "    if jordan:\n",
    "        row = n_row - 1\n",
    "        col = n_col - 2\n",
    "        \n",
    "        while row > 0:\n",
    "            # 만약 현재 col이 0이라면 그건 해당 row가 모두 0이라는 것\n",
    "            if mat[row, col] == 0:\n",
    "                row -= 1\n",
    "                continue\n",
    "\n",
    "            # 만약 col이 1이 아니라면 일단 이전으로 이동한다. 가우스 조단 소거법에 의해서 일다 1로 시작해야한다.\n",
    "            if col - 1 > 0 and mat[row, col] != 1:\n",
    "                col -= 1\n",
    "\n",
    "            # 1로 시작하는 경우에 대해서 소거법으로 위의 행들을 처리한다\n",
    "            for idx in range(0, row):\n",
    "                mat[idx] = mat[idx] - mat[row] * mat[idx, col]\n",
    "            \n",
    "            row -= 1\n",
    "            col -= 1"
   ]
  },
  {
   "cell_type": "code",
   "execution_count": 18,
   "metadata": {},
   "outputs": [
    {
     "name": "stdout",
     "output_type": "stream",
     "text": [
      "원 행렬 >>\n",
      "[[1. 2. 5.]\n",
      " [2. 3. 8.]]\n",
      "\n",
      "가우스 소거법 행렬 >>\n",
      "[[1. 2. 5.]\n",
      " [0. 1. 2.]]\n",
      "\n",
      "가우스 조던 소거법 행렬 >>\n",
      "[[1. 0. 1.]\n",
      " [0. 1. 2.]]\n"
     ]
    }
   ],
   "source": [
    "original = np.array([[1, 2, 5], [2, 3, 8]], dtype=float)\n",
    "print('원 행렬 >>\\n{}\\n'.format(original))\n",
    "\n",
    "gauss_mat = original.copy()\n",
    "gauss_jordan(gauss_mat, jordan=False)\n",
    "print('가우스 소거법 행렬 >>\\n{}\\n'.format(gauss_mat))\n",
    "\n",
    "gauss_jordan_mat = original.copy()\n",
    "gauss_jordan(gauss_jordan_mat, jordan=True)\n",
    "print('가우스 조던 소거법 행렬 >>\\n{}'.format(gauss_jordan_mat))"
   ]
  },
  {
   "cell_type": "code",
   "execution_count": 19,
   "metadata": {},
   "outputs": [
    {
     "name": "stdout",
     "output_type": "stream",
     "text": [
      "원 행렬 >>\n",
      "[[ 2.  4. -3.  1.]\n",
      " [ 1.  1.  2.  9.]\n",
      " [ 3.  6. -5.  0.]]\n",
      "\n",
      "가우스 소거법 행렬 >>\n",
      "[[ 1.   2.  -1.5  0.5]\n",
      " [ 0.   1.  -3.5 -8.5]\n",
      " [ 0.   0.   1.   3. ]]\n",
      "\n",
      "가우스 조던 소거법 행렬 >>\n",
      "[[1. 0. 0. 1.]\n",
      " [0. 1. 0. 2.]\n",
      " [0. 0. 1. 3.]]\n"
     ]
    }
   ],
   "source": [
    "original = np.array([[2, 4, -3, 1], [1, 1, 2, 9], [3, 6, -5, 0]], dtype=float)\n",
    "print('원 행렬 >>\\n{}\\n'.format(original))\n",
    "\n",
    "gauss_mat = original.copy()\n",
    "gauss_jordan(gauss_mat, jordan=False)\n",
    "print('가우스 소거법 행렬 >>\\n{}\\n'.format(gauss_mat))\n",
    "\n",
    "gauss_jordan_mat = original.copy()\n",
    "gauss_jordan(gauss_jordan_mat, jordan=True)\n",
    "print('가우스 조던 소거법 행렬 >>\\n{}'.format(gauss_jordan_mat))\n"
   ]
  },
  {
   "cell_type": "code",
   "execution_count": 20,
   "metadata": {},
   "outputs": [
    {
     "name": "stdout",
     "output_type": "stream",
     "text": [
      "원 행렬 >>\n",
      "[[  1.  -1.   2.   5.]\n",
      " [  2.  -3.   1. -10.]\n",
      " [  3.  -3.   6.  15.]]\n",
      "\n",
      "가우스 소거법 행렬 >>\n",
      "[[ 1. -1.  2.  5.]\n",
      " [ 0.  1.  3. 20.]\n",
      " [ 0.  0.  0.  0.]]\n",
      "\n",
      "가우스 조던 소거법 행렬 >>\n",
      "[[ 1.  0.  5. 25.]\n",
      " [ 0.  1.  3. 20.]\n",
      " [ 0.  0.  0.  0.]]\n"
     ]
    }
   ],
   "source": [
    "original = np.array([[1, -1, 2, 5], [2, -3, 1, -10], [3, -3, 6, 15]], dtype=float)\n",
    "print('원 행렬 >>\\n{}\\n'.format(original))\n",
    "\n",
    "gauss_mat = original.copy()\n",
    "gauss_jordan(gauss_mat, jordan=False)\n",
    "print('가우스 소거법 행렬 >>\\n{}\\n'.format(gauss_mat))\n",
    "\n",
    "gauss_jordan_mat = original.copy()\n",
    "gauss_jordan(gauss_jordan_mat, jordan=True)\n",
    "print('가우스 조던 소거법 행렬 >>\\n{}'.format(gauss_jordan_mat))"
   ]
  },
  {
   "cell_type": "code",
   "execution_count": 21,
   "metadata": {},
   "outputs": [
    {
     "name": "stdout",
     "output_type": "stream",
     "text": [
      "원 행렬 >>\n",
      "[[ 2.  4. -2.  6.]\n",
      " [ 1.  1.  2.  9.]\n",
      " [ 1.  2. -1.  4.]]\n",
      "\n",
      "가우스 소거법 행렬 >>\n",
      "[[ 1.  2. -1.  3.]\n",
      " [ 0.  1. -3. -6.]\n",
      " [ 0.  0.  0.  1.]]\n",
      "\n",
      "가우스 조던 소거법 행렬 >>\n",
      "[[ 1.  0.  5. 15.]\n",
      " [ 0.  1. -3. -6.]\n",
      " [ 0.  0.  0.  1.]]\n"
     ]
    }
   ],
   "source": [
    "original = np.array([[2, 4, -2, 6], [1, 1, 2, 9], [1, 2, -1, 4]], dtype=float)\n",
    "print('원 행렬 >>\\n{}\\n'.format(original))\n",
    "\n",
    "gauss_mat = original.copy()\n",
    "gauss_jordan(gauss_mat, jordan=False)\n",
    "print('가우스 소거법 행렬 >>\\n{}\\n'.format(gauss_mat))\n",
    "\n",
    "gauss_jordan_mat = original.copy()\n",
    "gauss_jordan(gauss_jordan_mat, jordan=True)\n",
    "print('가우스 조던 소거법 행렬 >>\\n{}'.format(gauss_jordan_mat))"
   ]
  },
  {
   "cell_type": "code",
   "execution_count": 22,
   "metadata": {},
   "outputs": [
    {
     "name": "stdout",
     "output_type": "stream",
     "text": [
      "원 행렬 >>\n",
      "[[ 1.  1.  2.  4.  1.  0.]\n",
      " [ 0.  0.  1.  1.  2.  0.]\n",
      " [ 2.  2. -1.  3.  0.  0.]]\n",
      "\n",
      "가우스 소거법 행렬 >>\n",
      "[[1. 1. 2. 4. 1. 0.]\n",
      " [0. 0. 1. 1. 2. 0.]\n",
      " [0. 0. 0. 0. 1. 0.]]\n",
      "\n",
      "가우스 조던 소거법 행렬 >>\n",
      "[[ 1.  1. -2.  0.  0.  0.]\n",
      " [ 0.  0.  1.  1.  0.  0.]\n",
      " [ 0.  0.  0.  0.  1.  0.]]\n"
     ]
    }
   ],
   "source": [
    "original = np.array([[1, 1, 2, 4, 1, 0], [0, 0, 1, 1, 2, 0], [2, 2, -1, 3, 0, 0]], dtype=float)\n",
    "print('원 행렬 >>\\n{}\\n'.format(original))\n",
    "\n",
    "gauss_mat = original.copy()\n",
    "gauss_jordan(gauss_mat, jordan=False)\n",
    "print('가우스 소거법 행렬 >>\\n{}\\n'.format(gauss_mat))\n",
    "\n",
    "gauss_jordan_mat = original.copy()\n",
    "gauss_jordan(gauss_jordan_mat, jordan=True)\n",
    "print('가우스 조던 소거법 행렬 >>\\n{}'.format(gauss_jordan_mat))"
   ]
  },
  {
   "cell_type": "markdown",
   "metadata": {},
   "source": [
    "## 2.3. 역행렬 이용<a id=\"2.3\"></a>\n",
    "<p style=\"text-align:right;\"><a href=\"#top\">🔝 top</a></p>"
   ]
  },
  {
   "cell_type": "markdown",
   "metadata": {},
   "source": [
    "### 역행렬을 이용한 연립일차방정식 해 구하기"
   ]
  },
  {
   "cell_type": "markdown",
   "metadata": {},
   "source": [
    "* AX = B에 대해서 행렬 A의 역행렬이 존재할 때 X = A(-1)B이다.\n",
    "* 역행렬의 존재를 어떻게 판별할지, 그리고 역행렬을 어떻게 구할지가 중요 -> 행렬식"
   ]
  },
  {
   "cell_type": "markdown",
   "metadata": {},
   "source": [
    "# 3. 행렬식 <a id=\"3\"></a>\n",
    "<p style=\"text-align:right;\"><a href=\"#top\">🔝 top</a></p>"
   ]
  },
  {
   "cell_type": "markdown",
   "metadata": {},
   "source": [
    "## 3.1. 행렬식이란? <a id=\"3.1\"></a>\n",
    "<p style=\"text-align:right;\"><a href=\"#top\">🔝 top</a></p>"
   ]
  },
  {
   "cell_type": "markdown",
   "metadata": {},
   "source": [
    "### 행렬식(Determinant)"
   ]
  },
  {
   "cell_type": "markdown",
   "metadata": {},
   "source": [
    "* 행렬식은 정사각 행렬(Square Matrix)를 하나의 수로 대응시키는 특별한 함수를 의미한다."
   ]
  },
  {
   "cell_type": "markdown",
   "metadata": {},
   "source": [
    "<img src=\"./figure/행렬식 공식.png\"></img>"
   ]
  },
  {
   "cell_type": "markdown",
   "metadata": {},
   "source": [
    "* 3x3에서 a11, a12, a13에 대해서 계산하였지만, 같은 행 또는 같은 열의 성분들은 행렬식 계산에 사용할 수 있다.\n",
    "* 이 때 부호를 주의해야한다."
   ]
  },
  {
   "cell_type": "markdown",
   "metadata": {},
   "source": [
    "<img src=\"./figure/3차 행렬식 구하기.png\"/>"
   ]
  },
  {
   "cell_type": "markdown",
   "metadata": {},
   "source": [
    "### 사루스 법칙(전개) - 3차 행렬식을 빠르게 구하기"
   ]
  },
  {
   "cell_type": "markdown",
   "metadata": {},
   "source": [
    "* 3차 행렬식을 빠르게 구하기 위한 방법\n",
    "* 1열과 2열의 값을 행렬 A 오른쪽으로 쌓는다.\n",
    "* 3차 행렬식은 하향하는 대각선 방향의 성분 곱의 합과 상향하는 대각선 방향의 성분 곱의 합의 차이다"
   ]
  },
  {
   "cell_type": "markdown",
   "metadata": {},
   "source": [
    "<img src=\"./figure/사루스 전개.png\"/>"
   ]
  },
  {
   "cell_type": "code",
   "execution_count": 23,
   "metadata": {},
   "outputs": [],
   "source": [
    "def minor_matrix(matrix, i, j):\n",
    "    minor_matrix = matrix.copy()\n",
    "    minor_matrix = np.delete(minor_matrix, [i], axis=0)\n",
    "    minor_matrix = np.delete(minor_matrix, [j], axis=1)\n",
    "    return minor_matrix"
   ]
  },
  {
   "cell_type": "code",
   "execution_count": 24,
   "metadata": {},
   "outputs": [],
   "source": [
    "def calculate_determinant(square_matrix, n):\n",
    "    if n == 0:\n",
    "        return 0\n",
    "    if n == 1:\n",
    "        return square_matrix[0][0]\n",
    "    \n",
    "    det = 0.\n",
    "    for idx in range(n):\n",
    "        minor_mat = minor_matrix(square_matrix, 0, idx)\n",
    "        det += (((-1) ** (idx)) * square_matrix[0, idx]) * calculate_determinant(minor_mat, n - 1)\n",
    "    \n",
    "    return det"
   ]
  },
  {
   "cell_type": "code",
   "execution_count": 25,
   "metadata": {},
   "outputs": [
    {
     "name": "stdout",
     "output_type": "stream",
     "text": [
      "3차 행렬 A >> \n",
      "[[1 2 3]\n",
      " [0 1 0]\n",
      " [1 2 0]]\n",
      "\n",
      "행렬식 det(A)의 값은 -3.0\n"
     ]
    }
   ],
   "source": [
    "a = np.array([[1, 2, 3], [0, 1, 0], [1, 2, 0]])\n",
    "print('{}차 행렬 A >> \\n{}\\n'.format(a.shape[0], a))\n",
    "\n",
    "det_a = calculate_determinant(a, a.shape[0])\n",
    "print('행렬식 det(A)의 값은 {}'.format(det_a))"
   ]
  },
  {
   "cell_type": "code",
   "execution_count": 26,
   "metadata": {},
   "outputs": [
    {
     "name": "stdout",
     "output_type": "stream",
     "text": [
      "3차 행렬 A >> \n",
      "[[1 2 3]\n",
      " [2 5 3]\n",
      " [1 0 8]]\n",
      "\n",
      "행렬식 det(A)의 값은 -1.0\n"
     ]
    }
   ],
   "source": [
    "a = np.array([[1, 2, 3], [2, 5, 3], [1, 0, 8]])\n",
    "print('{}차 행렬 A >> \\n{}\\n'.format(a.shape[0], a))\n",
    "\n",
    "det_a = calculate_determinant(a, a.shape[0])\n",
    "print('행렬식 det(A)의 값은 {}'.format(det_a))"
   ]
  },
  {
   "cell_type": "code",
   "execution_count": 27,
   "metadata": {},
   "outputs": [
    {
     "name": "stdout",
     "output_type": "stream",
     "text": [
      "3차 행렬 A >> \n",
      "[[ 2  4 -3]\n",
      " [ 1  1  2]\n",
      " [ 3  6 -5]]\n",
      "\n",
      "행렬식 det(A)의 값은 1.0\n"
     ]
    }
   ],
   "source": [
    "a = np.array([[2, 4, -3], [1, 1, 2], [3, 6, -5]])\n",
    "print('{}차 행렬 A >> \\n{}\\n'.format(a.shape[0], a))\n",
    "\n",
    "det_a = calculate_determinant(a, a.shape[0])\n",
    "print('행렬식 det(A)의 값은 {}'.format(det_a))"
   ]
  },
  {
   "cell_type": "code",
   "execution_count": 28,
   "metadata": {},
   "outputs": [
    {
     "name": "stdout",
     "output_type": "stream",
     "text": [
      "3차 행렬 A >> \n",
      "[[ 1 -1  2]\n",
      " [ 2 -3  1]\n",
      " [ 3 -3  6]]\n",
      "\n",
      "행렬식 det(A)의 값은 0.0\n"
     ]
    }
   ],
   "source": [
    "a = np.array([[1, -1, 2], [2, -3, 1], [3, -3, 6]])\n",
    "print('{}차 행렬 A >> \\n{}\\n'.format(a.shape[0], a))\n",
    "\n",
    "det_a = calculate_determinant(a, a.shape[0])\n",
    "print('행렬식 det(A)의 값은 {}'.format(det_a))"
   ]
  },
  {
   "cell_type": "code",
   "execution_count": 29,
   "metadata": {},
   "outputs": [
    {
     "name": "stdout",
     "output_type": "stream",
     "text": [
      "3차 행렬 A >> \n",
      "[[ 2  4 -2]\n",
      " [ 1  1  2]\n",
      " [ 1  2 -1]]\n",
      "\n",
      "행렬식 det(A)의 값은 0.0\n"
     ]
    }
   ],
   "source": [
    "a = np.array([[2, 4, -2], [1, 1, 2], [1, 2, -1]])\n",
    "print('{}차 행렬 A >> \\n{}\\n'.format(a.shape[0], a))\n",
    "\n",
    "det_a = calculate_determinant(a, a.shape[0])\n",
    "print('행렬식 det(A)의 값은 {}'.format(det_a))"
   ]
  },
  {
   "cell_type": "code",
   "execution_count": 30,
   "metadata": {},
   "outputs": [
    {
     "name": "stdout",
     "output_type": "stream",
     "text": [
      "5차 행렬 A >> \n",
      "[[ 1  1  2  4  1]\n",
      " [ 0  0  1  1  2]\n",
      " [ 2  2 -1  3  0]\n",
      " [ 0  0  0  0  0]\n",
      " [ 0  0  0  0  0]]\n",
      "\n",
      "행렬식 det(A)의 값은 0.0\n"
     ]
    }
   ],
   "source": [
    "a = np.array([[1, 1, 2, 4, 1], [0, 0, 1, 1, 2], [2, 2, -1, 3, 0,], [0, 0, 0, 0, 0], [0, 0, 0, 0, 0]])\n",
    "print('{}차 행렬 A >> \\n{}\\n'.format(a.shape[0], a))\n",
    "\n",
    "det_a = calculate_determinant(a, a.shape[0])\n",
    "print('행렬식 det(A)의 값은 {}'.format(det_a))"
   ]
  },
  {
   "cell_type": "markdown",
   "metadata": {},
   "source": [
    "## 3.2. 역행렬 <a id=\"3.2\"></a>\n",
    "<p style=\"text-align:right;\"><a href=\"#top\">🔝 top</a></p>"
   ]
  },
  {
   "cell_type": "markdown",
   "metadata": {},
   "source": [
    "### 행렬식과 역행렬"
   ]
  },
  {
   "cell_type": "markdown",
   "metadata": {},
   "source": [
    "* 행렬 A에 대해서 행렬식 det(A)가 0이면 행렬 A에 대해서 역행렬이 존재하지 않는다. -> 연립일차방정식의 해는 부정 또는 불능\n",
    "* 행렬 A에 대해서 행렬식 det(A)가 0이 아니면 역행렬 A(-1)는 행렬식과 Minor Matrix의 행렬식을 사용해서 표현한다"
   ]
  },
  {
   "cell_type": "markdown",
   "metadata": {},
   "source": [
    "<img src=\"./figure/역행렬 구하기.png\"/>"
   ]
  },
  {
   "cell_type": "code",
   "execution_count": 31,
   "metadata": {},
   "outputs": [],
   "source": [
    "def adjoint_matrix(matrix):\n",
    "    adj_matrix = np.zeros_like(matrix, dtype=float)\n",
    "    \n",
    "    n = matrix.shape[0]\n",
    "    \n",
    "    for row in range(n):\n",
    "        for col in range(n):\n",
    "            m = minor_matrix(matrix, row, col)\n",
    "            adj_matrix[col, row] = ((-1) ** (row + col)) * calculate_determinant(m, m.shape[0])\n",
    "    \n",
    "    return adj_matrix\n",
    "    "
   ]
  },
  {
   "cell_type": "code",
   "execution_count": 32,
   "metadata": {},
   "outputs": [],
   "source": [
    "def calculate_inverse_matrix(matrix):\n",
    "    det = calculate_determinant(matrix, matrix.shape[0])\n",
    "    if det != 0:\n",
    "        adj_matrix = adjoint_matrix(matrix)\n",
    "        adj_matrix /= det\n",
    "        return True, adj_matrix\n",
    "    \n",
    "    return False, matrix"
   ]
  },
  {
   "cell_type": "code",
   "execution_count": 33,
   "metadata": {},
   "outputs": [
    {
     "name": "stdout",
     "output_type": "stream",
     "text": [
      "역행렬을 구할 수 있습니다\n",
      "결과값 >>\n",
      "[[-40.  16.   9.]\n",
      " [ 13.  -5.  -3.]\n",
      " [  5.  -2.  -1.]]\n"
     ]
    }
   ],
   "source": [
    "a = np.array([[1, 2, 3], [2, 5, 3], [1, 0, 8]])\n",
    "p, a_inv = calculate_inverse_matrix(a)\n",
    "print('역행렬을 구할 수 {}'.format('있습니다' if p else '없습니다'))\n",
    "print('결과값 >>\\n{}'.format(a_inv))"
   ]
  },
  {
   "cell_type": "code",
   "execution_count": 34,
   "metadata": {},
   "outputs": [
    {
     "name": "stdout",
     "output_type": "stream",
     "text": [
      "역행렬을 구할 수 있습니다\n",
      "결과값 >>\n",
      "[[ 1.5 -0.5]\n",
      " [-2.   1. ]]\n"
     ]
    }
   ],
   "source": [
    "a = np.array([[2, 1], [4, 3]])\n",
    "p, a_inv = calculate_inverse_matrix(a)\n",
    "print('역행렬을 구할 수 {}'.format('있습니다' if p else '없습니다'))\n",
    "print('결과값 >>\\n{}'.format(a_inv))"
   ]
  },
  {
   "cell_type": "code",
   "execution_count": 35,
   "metadata": {},
   "outputs": [
    {
     "name": "stdout",
     "output_type": "stream",
     "text": [
      "역행렬을 구할 수 있습니다\n",
      "결과값 >>\n",
      "[[-17.   2.  11.]\n",
      " [ 11.  -1.  -7.]\n",
      " [  3.  -0.  -2.]]\n"
     ]
    }
   ],
   "source": [
    "a = np.array([[2, 4, -3], [1, 1, 2], [3, 6, -5]])\n",
    "p, a_inv = calculate_inverse_matrix(a)\n",
    "print('역행렬을 구할 수 {}'.format('있습니다' if p else '없습니다'))\n",
    "print('결과값 >>\\n{}'.format(a_inv))"
   ]
  },
  {
   "cell_type": "code",
   "execution_count": 36,
   "metadata": {},
   "outputs": [
    {
     "data": {
      "text/plain": [
       "array([1., 2., 3.])"
      ]
     },
     "execution_count": 36,
     "metadata": {},
     "output_type": "execute_result"
    }
   ],
   "source": [
    "a_inv @ np.array([1, 9, 0])"
   ]
  },
  {
   "cell_type": "markdown",
   "metadata": {},
   "source": [
    "## 3.3. 크래머 공식 <a id=\"3.3\"></a>\n",
    "<p style=\"text-align:right;\"><a href=\"#top\">🔝 top</a></p>"
   ]
  },
  {
   "cell_type": "markdown",
   "metadata": {},
   "source": [
    "### 크래머 공식"
   ]
  },
  {
   "cell_type": "markdown",
   "metadata": {},
   "source": [
    "* 연립일차방정식의 모든 미지수(x, y, z, ...)를 역행렬을 통해 계산하는 긋은 많은 계산량이 필요하다\n",
    "* 크래머 공식은 특정한 미지수(x)에 대해서만 그 해를 구할 때 사용하는 방법으로 행렬식을 활용한다"
   ]
  },
  {
   "cell_type": "markdown",
   "metadata": {},
   "source": [
    "<img src=\"./figure/크래머 공식.png\"/>"
   ]
  },
  {
   "cell_type": "code",
   "execution_count": 37,
   "metadata": {},
   "outputs": [],
   "source": [
    "def cramer_matrix(matrix, k, constant):\n",
    "    cramer = matrix.copy()\n",
    "    cramer[:, k] = constant\n",
    "    return cramer"
   ]
  },
  {
   "cell_type": "code",
   "execution_count": 38,
   "metadata": {},
   "outputs": [],
   "source": [
    "def cramer_rule(matrix, constant):\n",
    "    n = matrix.shape[0]\n",
    "    variables = list()\n",
    "    for variable in range(n):\n",
    "        det_a = calculate_determinant(matrix, matrix.shape[0])\n",
    "        \n",
    "        ak = cramer_matrix(matrix, variable, constant)\n",
    "        det_ak = calculate_determinant(ak, ak.shape[0])\n",
    "        \n",
    "        variables.append(det_ak / det_a)\n",
    "    \n",
    "    return np.array(variables)"
   ]
  },
  {
   "cell_type": "code",
   "execution_count": 39,
   "metadata": {},
   "outputs": [
    {
     "name": "stdout",
     "output_type": "stream",
     "text": [
      "연립일차방정식을 행렬로 표현한 A >>\n",
      "[[ 2  4 -3]\n",
      " [ 1  1  2]\n",
      " [ 3  6 -5]]\n",
      "\n",
      "연립일차방정식의 상수 >> [1 9 0]\n",
      "\n",
      "연립일차장정식의 해 >> [1. 2. 3.]\n",
      "\n"
     ]
    }
   ],
   "source": [
    "a = np.array([[2, 4, -3], [1, 1, 2], [3, 6, -5]])\n",
    "constant = np.array([1, 9, 0])\n",
    "print('연립일차방정식을 행렬로 표현한 A >>\\n{}\\n'.format(a))\n",
    "print('연립일차방정식의 상수 >> {}\\n'.format(constant))\n",
    "variables = cramer_rule(a, constant)\n",
    "print('연립일차장정식의 해 >> {}\\n'.format(variables))"
   ]
  },
  {
   "cell_type": "code",
   "execution_count": 40,
   "metadata": {},
   "outputs": [
    {
     "name": "stdout",
     "output_type": "stream",
     "text": [
      "연립일차방정식을 행렬로 표현한 A >>\n",
      "[[ 1  0  2]\n",
      " [-1 -2  3]\n",
      " [-3  4  6]]\n",
      "\n",
      "연립일차방정식의 상수 >> [ 6  8 30]\n",
      "\n",
      "연립일차장정식의 해 >> [-0.90909091  1.63636364  3.45454545]\n",
      "\n"
     ]
    }
   ],
   "source": [
    "a = np.array([[1, 0, 2], [-1, -2, 3], [-3, 4, 6]])\n",
    "constant = np.array([6, 8, 30])\n",
    "print('연립일차방정식을 행렬로 표현한 A >>\\n{}\\n'.format(a))\n",
    "print('연립일차방정식의 상수 >> {}\\n'.format(constant))\n",
    "variables = cramer_rule(a, constant)\n",
    "print('연립일차장정식의 해 >> {}\\n'.format(variables))"
   ]
  },
  {
   "cell_type": "markdown",
   "metadata": {},
   "source": [
    "<hr>"
   ]
  },
  {
   "cell_type": "markdown",
   "metadata": {},
   "source": [
    "## 연습문제 <a id=\"A\"></a>\n",
    "<p style=\"text-align:right;\"><a href=\"#top\">🔝 top</a></p>"
   ]
  },
  {
   "cell_type": "markdown",
   "metadata": {},
   "source": [
    "**1. 연립일차방정식을 가우스 조건 소거법 또는 역행렬을 이용하여서 풀이하고, 해에 대해 탐구하시오.**"
   ]
  },
  {
   "cell_type": "markdown",
   "metadata": {},
   "source": [
    "**1)<br>\n",
    "2x + 4y - 3z = 1 <br>\n",
    "x + y + 2z = 9 <br>\n",
    "3x + 6y - 5z = 0 <br>\n",
    "<br>\n",
    "answer: x = 1, y = 2, z = 3**"
   ]
  },
  {
   "cell_type": "code",
   "execution_count": 41,
   "metadata": {},
   "outputs": [
    {
     "name": "stdout",
     "output_type": "stream",
     "text": [
      "원 행렬 >>\n",
      "[[ 2.  4. -3.  1.]\n",
      " [ 1.  1.  2.  9.]\n",
      " [ 3.  6. -5.  0.]]\n",
      "\n",
      "가우스 소거법 행렬 >>\n",
      "[[ 1.   2.  -1.5  0.5]\n",
      " [ 0.   1.  -3.5 -8.5]\n",
      " [ 0.   0.   1.   3. ]]\n",
      "\n",
      "가우스 조던 소거법 행렬 >>\n",
      "[[1. 0. 0. 1.]\n",
      " [0. 1. 0. 2.]\n",
      " [0. 0. 1. 3.]]\n"
     ]
    }
   ],
   "source": [
    "original = np.array([[2, 4, -3, 1], [1, 1, 2, 9], [3, 6, -5, 0]], dtype=float)\n",
    "print('원 행렬 >>\\n{}\\n'.format(original))\n",
    "\n",
    "gauss_mat = original.copy()\n",
    "gauss_jordan(gauss_mat, jordan=False)\n",
    "print('가우스 소거법 행렬 >>\\n{}\\n'.format(gauss_mat))\n",
    "\n",
    "gauss_jordan_mat = original.copy()\n",
    "gauss_jordan(gauss_jordan_mat, jordan=True)\n",
    "print('가우스 조던 소거법 행렬 >>\\n{}'.format(gauss_jordan_mat))"
   ]
  },
  {
   "cell_type": "code",
   "execution_count": 42,
   "metadata": {},
   "outputs": [
    {
     "name": "stdout",
     "output_type": "stream",
     "text": [
      "원 행렬 >>\n",
      "[[ 2.  4. -3.]\n",
      " [ 1.  1.  2.]\n",
      " [ 3.  6. -5.]]\n",
      "\n",
      "역행렬을 구할 수 있습니다\n",
      "결과값 >>\n",
      "[[-17.   2.  11.]\n",
      " [ 11.  -1.  -7.]\n",
      " [  3.  -0.  -2.]]\n",
      "\n",
      "연립일차방정식의 해 >>\n",
      "[[1.]\n",
      " [2.]\n",
      " [3.]]\n"
     ]
    }
   ],
   "source": [
    "original = np.array([[2, 4, -3], [1, 1, 2], [3, 6, -5]], dtype=float)\n",
    "print('원 행렬 >>\\n{}\\n'.format(original))\n",
    "\n",
    "p, original_inv = calculate_inverse_matrix(original)\n",
    "print('역행렬을 구할 수 {}'.format('있습니다' if p else '없습니다'))\n",
    "print('결과값 >>\\n{}\\n'.format(original_inv))\n",
    "\n",
    "if p:\n",
    "    constant = np.array([[1], [9], [0]], dtype=float)\n",
    "    variables = original_inv @ constant\n",
    "    print('연립일차방정식의 해 >>\\n{}'.format(variables))"
   ]
  },
  {
   "cell_type": "markdown",
   "metadata": {},
   "source": [
    "**<br>2)<br>\n",
    "x - y + 2z = 5 <br>\n",
    "2x - 3y + z = -10 <br>\n",
    "3x - 3y + 6z = 15 <br>\n",
    "<br>\n",
    "answer: x = 25 - 5z, y = 20 - 3z, z = t**"
   ]
  },
  {
   "cell_type": "code",
   "execution_count": 43,
   "metadata": {},
   "outputs": [
    {
     "name": "stdout",
     "output_type": "stream",
     "text": [
      "원 행렬 >>\n",
      "[[  1.  -1.   2.   5.]\n",
      " [  2.  -3.   1. -10.]\n",
      " [  3.  -3.   6.  15.]]\n",
      "\n",
      "가우스 소거법 행렬 >>\n",
      "[[ 1. -1.  2.  5.]\n",
      " [ 0.  1.  3. 20.]\n",
      " [ 0.  0.  0.  0.]]\n",
      "\n",
      "가우스 조던 소거법 행렬 >>\n",
      "[[ 1.  0.  5. 25.]\n",
      " [ 0.  1.  3. 20.]\n",
      " [ 0.  0.  0.  0.]]\n"
     ]
    }
   ],
   "source": [
    "original = np.array([[1, -1, 2, 5], [2, -3, 1, -10], [3, -3, 6, 15]], dtype=float)\n",
    "print('원 행렬 >>\\n{}\\n'.format(original))\n",
    "\n",
    "gauss_mat = original.copy()\n",
    "gauss_jordan(gauss_mat, jordan=False)\n",
    "print('가우스 소거법 행렬 >>\\n{}\\n'.format(gauss_mat))\n",
    "\n",
    "gauss_jordan_mat = original.copy()\n",
    "gauss_jordan(gauss_jordan_mat, jordan=True)\n",
    "print('가우스 조던 소거법 행렬 >>\\n{}'.format(gauss_jordan_mat))"
   ]
  },
  {
   "cell_type": "code",
   "execution_count": 44,
   "metadata": {},
   "outputs": [
    {
     "name": "stdout",
     "output_type": "stream",
     "text": [
      "원 행렬 >>\n",
      "[[ 1. -1.  2.]\n",
      " [ 2. -3.  1.]\n",
      " [ 3. -3.  6.]]\n",
      "\n",
      "역행렬을 구할 수 없습니다\n",
      "결과값 >>\n",
      "[[ 1. -1.  2.]\n",
      " [ 2. -3.  1.]\n",
      " [ 3. -3.  6.]]\n",
      "\n"
     ]
    }
   ],
   "source": [
    "original = np.array([[1, -1, 2], [2, -3, 1], [3, -3, 6]], dtype=float)\n",
    "print('원 행렬 >>\\n{}\\n'.format(original))\n",
    "\n",
    "p, original_inv = calculate_inverse_matrix(original)\n",
    "print('역행렬을 구할 수 {}'.format('있습니다' if p else '없습니다'))\n",
    "print('결과값 >>\\n{}\\n'.format(original_inv))\n",
    "\n",
    "if p:\n",
    "    constant = np.array([[5], [-10], [15]], dtype=float)\n",
    "    variables = original_inv @ constant\n",
    "    print('연립일차방정식의 해 >>\\n{}'.format(variables))"
   ]
  },
  {
   "cell_type": "markdown",
   "metadata": {},
   "source": [
    "**<br>3)<br>\n",
    "2x + 4y - 2z = 6 <br>\n",
    "x + y + 2z = 9 <br>\n",
    "x + 2y - z = 4 <br>\n",
    "<br>\n",
    "answer: 불능**"
   ]
  },
  {
   "cell_type": "code",
   "execution_count": 45,
   "metadata": {},
   "outputs": [
    {
     "name": "stdout",
     "output_type": "stream",
     "text": [
      "원 행렬 >>\n",
      "[[ 2.  4. -2.  6.]\n",
      " [ 1.  1.  2.  9.]\n",
      " [ 1.  2. -1.  4.]]\n",
      "\n",
      "가우스 소거법 행렬 >>\n",
      "[[ 1.  2. -1.  3.]\n",
      " [ 0.  1. -3. -6.]\n",
      " [ 0.  0.  0.  1.]]\n",
      "\n",
      "가우스 조던 소거법 행렬 >>\n",
      "[[ 1.  0.  5. 15.]\n",
      " [ 0.  1. -3. -6.]\n",
      " [ 0.  0.  0.  1.]]\n"
     ]
    }
   ],
   "source": [
    "original = np.array([[2, 4, -2, 6], [1, 1, 2, 9], [1, 2, -1, 4]], dtype=float)\n",
    "print('원 행렬 >>\\n{}\\n'.format(original))\n",
    "\n",
    "gauss_mat = original.copy()\n",
    "gauss_jordan(gauss_mat, jordan=False)\n",
    "print('가우스 소거법 행렬 >>\\n{}\\n'.format(gauss_mat))\n",
    "\n",
    "gauss_jordan_mat = original.copy()\n",
    "gauss_jordan(gauss_jordan_mat, jordan=True)\n",
    "print('가우스 조던 소거법 행렬 >>\\n{}'.format(gauss_jordan_mat))"
   ]
  },
  {
   "cell_type": "code",
   "execution_count": 46,
   "metadata": {},
   "outputs": [
    {
     "name": "stdout",
     "output_type": "stream",
     "text": [
      "원 행렬 >>\n",
      "[[ 2.  4. -2.]\n",
      " [ 1.  1.  2.]\n",
      " [ 1.  2. -1.]]\n",
      "\n",
      "역행렬을 구할 수 없습니다\n",
      "결과값 >>\n",
      "[[ 2.  4. -2.]\n",
      " [ 1.  1.  2.]\n",
      " [ 1.  2. -1.]]\n",
      "\n"
     ]
    }
   ],
   "source": [
    "original = np.array([[2, 4, -2], [1, 1, 2], [1, 2, -1]], dtype=float)\n",
    "print('원 행렬 >>\\n{}\\n'.format(original))\n",
    "\n",
    "p, original_inv = calculate_inverse_matrix(original)\n",
    "print('역행렬을 구할 수 {}'.format('있습니다' if p else '없습니다'))\n",
    "print('결과값 >>\\n{}\\n'.format(original_inv))\n",
    "\n",
    "if p:\n",
    "    constant = np.array([[6], [9], [4]], dtype=float)\n",
    "    variables = original_inv @ constant\n",
    "    print('연립일차방정식의 해 >>\\n{}'.format(variables))"
   ]
  },
  {
   "cell_type": "markdown",
   "metadata": {},
   "source": [
    "**<br>4)<br>\n",
    "x + y + 2z + 4w + v = 0 <br>\n",
    "z + w + 2v = 0 <br>\n",
    "2x + 2y - z + 3w = 0 <br>\n",
    "<br>\n",
    "answer: x = -s - 2t, y = s, z = -t, w = t, v = 0**"
   ]
  },
  {
   "cell_type": "code",
   "execution_count": 47,
   "metadata": {},
   "outputs": [
    {
     "name": "stdout",
     "output_type": "stream",
     "text": [
      "원 행렬 >>\n",
      "[[ 1.  1.  2.  4.  1.  0.]\n",
      " [ 0.  0.  1.  1.  2.  0.]\n",
      " [ 2.  2. -1.  3.  0.  0.]]\n",
      "\n",
      "가우스 소거법 행렬 >>\n",
      "[[1. 1. 2. 4. 1. 0.]\n",
      " [0. 0. 1. 1. 2. 0.]\n",
      " [0. 0. 0. 0. 1. 0.]]\n",
      "\n",
      "가우스 조던 소거법 행렬 >>\n",
      "[[ 1.  1. -2.  0.  0.  0.]\n",
      " [ 0.  0.  1.  1.  0.  0.]\n",
      " [ 0.  0.  0.  0.  1.  0.]]\n"
     ]
    }
   ],
   "source": [
    "original = np.array([[1, 1, 2, 4, 1, 0], [0, 0, 1, 1, 2, 0], [2, 2, -1, 3, 0, 0]], dtype=float)\n",
    "print('원 행렬 >>\\n{}\\n'.format(original))\n",
    "\n",
    "gauss_mat = original.copy()\n",
    "gauss_jordan(gauss_mat, jordan=False)\n",
    "print('가우스 소거법 행렬 >>\\n{}\\n'.format(gauss_mat))\n",
    "\n",
    "gauss_jordan_mat = original.copy()\n",
    "gauss_jordan(gauss_jordan_mat, jordan=True)\n",
    "print('가우스 조던 소거법 행렬 >>\\n{}'.format(gauss_jordan_mat))"
   ]
  },
  {
   "cell_type": "code",
   "execution_count": 48,
   "metadata": {},
   "outputs": [
    {
     "name": "stdout",
     "output_type": "stream",
     "text": [
      "원 행렬 >>\n",
      "[[ 1.  1.  2.  4.  1.]\n",
      " [ 0.  0.  1.  1.  2.]\n",
      " [ 2.  2. -1.  3.  0.]]\n",
      "\n",
      "역행렬을 구할 수 없습니다\n",
      "결과값 >>\n",
      "[[ 1.  1.  2.  4.  1.]\n",
      " [ 0.  0.  1.  1.  2.]\n",
      " [ 2.  2. -1.  3.  0.]]\n",
      "\n"
     ]
    }
   ],
   "source": [
    "original = np.array([[1, 1, 2, 4, 1], [0, 0, 1, 1, 2], [2, 2, -1, 3, 0]], dtype=float)\n",
    "print('원 행렬 >>\\n{}\\n'.format(original))\n",
    "\n",
    "p, original_inv = calculate_inverse_matrix(original)\n",
    "print('역행렬을 구할 수 {}'.format('있습니다' if p else '없습니다'))\n",
    "print('결과값 >>\\n{}\\n'.format(original_inv))\n",
    "\n",
    "if p:\n",
    "    constant = np.array([[6], [9], [4]], dtype=float)\n",
    "    variables = original_inv @ constant\n",
    "    print('연립일차방정식의 해 >>\\n{}'.format(variables))"
   ]
  },
  {
   "cell_type": "markdown",
   "metadata": {},
   "source": [
    "**<br>2. 역행렬이 존재하는 두 정사각행렬 A, B에 대하여 (AB)-1 = B-1A-1임을 보이시오**"
   ]
  },
  {
   "cell_type": "markdown",
   "metadata": {},
   "source": [
    "ABX = I<br>\n",
    "BX = A-1<br>\n",
    "X = B-1A-1<br>\n"
   ]
  },
  {
   "cell_type": "markdown",
   "metadata": {},
   "source": [
    "**<br>3. 다음 행렬의 역행렬을 구하시오.**"
   ]
  },
  {
   "cell_type": "markdown",
   "metadata": {},
   "source": [
    "**1)<br>\n",
    "(2, 1)<br>\n",
    "(4, 3)<br>\n",
    "<br>\n",
    "answer: <br>\n",
    "(1.5, -0.5)<br>\n",
    "(-2, 1)<br>**"
   ]
  },
  {
   "cell_type": "code",
   "execution_count": 49,
   "metadata": {},
   "outputs": [
    {
     "name": "stdout",
     "output_type": "stream",
     "text": [
      "원 행렬 >>\n",
      "[[2. 1.]\n",
      " [4. 3.]]\n",
      "\n",
      "역행렬을 구할 수 있습니다\n",
      "결과값 >>\n",
      "[[ 1.5 -0.5]\n",
      " [-2.   1. ]]\n",
      "\n"
     ]
    }
   ],
   "source": [
    "original = np.array([[2, 1], [4, 3]], dtype=float)\n",
    "print('원 행렬 >>\\n{}\\n'.format(original))\n",
    "\n",
    "p, original_inv = calculate_inverse_matrix(original)\n",
    "print('역행렬을 구할 수 {}'.format('있습니다' if p else '없습니다'))\n",
    "print('결과값 >>\\n{}\\n'.format(original_inv))"
   ]
  },
  {
   "cell_type": "markdown",
   "metadata": {},
   "source": [
    "**2)<br>\n",
    "(1, 2, 3)<br>\n",
    "(2, 5, 3)<br>\n",
    "(1, 0, 8)<br>\n",
    "<br>\n",
    "answer: <br>\n",
    "(-40, 16, 9)<br>\n",
    "(13, -5, -3)<br>\n",
    "(5, -2, -1)<br>\n",
    "<br>**"
   ]
  },
  {
   "cell_type": "code",
   "execution_count": 50,
   "metadata": {},
   "outputs": [
    {
     "name": "stdout",
     "output_type": "stream",
     "text": [
      "원 행렬 >>\n",
      "[[1. 2. 3.]\n",
      " [2. 5. 3.]\n",
      " [1. 0. 8.]]\n",
      "\n",
      "역행렬을 구할 수 있습니다\n",
      "결과값 >>\n",
      "[[-40.  16.   9.]\n",
      " [ 13.  -5.  -3.]\n",
      " [  5.  -2.  -1.]]\n",
      "\n"
     ]
    }
   ],
   "source": [
    "original = np.array([[1, 2, 3], [2, 5, 3], [1, 0, 8]], dtype=float)\n",
    "print('원 행렬 >>\\n{}\\n'.format(original))\n",
    "\n",
    "p, original_inv = calculate_inverse_matrix(original)\n",
    "print('역행렬을 구할 수 {}'.format('있습니다' if p else '없습니다'))\n",
    "print('결과값 >>\\n{}\\n'.format(original_inv))"
   ]
  },
  {
   "cell_type": "markdown",
   "metadata": {},
   "source": [
    "**4. 정사각행렬 A와 A의 역행렬 A-1에 대하여 det(A-1) = 1/det(A) 임을 증명하시오.**"
   ]
  },
  {
   "cell_type": "markdown",
   "metadata": {},
   "source": [
    "해당 문제를 증명하기 위해서 다음과 같은 명제를 받아들일 필요가 있다.<br>\n",
    "1. 가역인 모든 행렬은 기본행렬의 곱으로 표현할 수 있다.<br>\n",
    "2. 임의의 정사각행렬 A에 대해서 det(AE) = det(A) det(E) 이다.<br>"
   ]
  },
  {
   "cell_type": "markdown",
   "metadata": {},
   "source": [
    "<img src=\"./figure/가역행렬은 기본행렬의 곱.png\"/>"
   ]
  },
  {
   "cell_type": "markdown",
   "metadata": {},
   "source": [
    "<img src=\"./figure/기본행렬의 판별식.png\"/>"
   ]
  },
  {
   "cell_type": "markdown",
   "metadata": {},
   "source": [
    "다음 사항을 받아들인다면 문제에서 제시한 역행렬의 판별식은 원래 행렬의 판별식의 역수임을 증명할 수 있다."
   ]
  },
  {
   "cell_type": "markdown",
   "metadata": {},
   "source": [
    "<img src=\"./figure/증명.png\"/>"
   ]
  },
  {
   "cell_type": "markdown",
   "metadata": {},
   "source": [
    "**5. 크래머 공식을 이용하여 다음 연립일차방정식의 해를 구하시오.**"
   ]
  },
  {
   "cell_type": "markdown",
   "metadata": {},
   "source": [
    "**1)<br>\n",
    "5x + 3y + 2 = 0<br>\n",
    "4x - y + 5 = 0<br>\n",
    "<br>\n",
    "answer: x = -1, y = 1**"
   ]
  },
  {
   "cell_type": "code",
   "execution_count": 51,
   "metadata": {},
   "outputs": [
    {
     "name": "stdout",
     "output_type": "stream",
     "text": [
      "연립일차방정식을 행렬로 표현한 A >>\n",
      "[[ 5  3]\n",
      " [ 4 -1]]\n",
      "\n",
      "연립일차방정식의 상수 >> [-2 -5]\n",
      "\n",
      "연립일차장정식의 해 >> [-1.  1.]\n",
      "\n"
     ]
    }
   ],
   "source": [
    "a = np.array([[5, 3], [4, -1]])\n",
    "constant = np.array([-2, -5])\n",
    "print('연립일차방정식을 행렬로 표현한 A >>\\n{}\\n'.format(a))\n",
    "print('연립일차방정식의 상수 >> {}\\n'.format(constant))\n",
    "variables = cramer_rule(a, constant)\n",
    "print('연립일차장정식의 해 >> {}\\n'.format(variables))"
   ]
  },
  {
   "cell_type": "markdown",
   "metadata": {},
   "source": [
    "**2)<br>\n",
    "x + 2z = 6<br>\n",
    "-x - 2y + 3z = 8<br>\n",
    "-3x + 4y + 6z = 30<br>\n",
    "<br>\n",
    "answer: x = -90909090, y = 1.6363636363, z = 3.4545454545**"
   ]
  },
  {
   "cell_type": "code",
   "execution_count": 52,
   "metadata": {},
   "outputs": [
    {
     "name": "stdout",
     "output_type": "stream",
     "text": [
      "연립일차방정식을 행렬로 표현한 A >>\n",
      "[[ 1  0  2]\n",
      " [-1 -2  3]\n",
      " [-3  4  6]]\n",
      "\n",
      "연립일차방정식의 상수 >> [ 6  8 30]\n",
      "\n",
      "연립일차장정식의 해 >> [-0.90909091  1.63636364  3.45454545]\n",
      "\n"
     ]
    }
   ],
   "source": [
    "a = np.array([[1, 0, 2], [-1, -2, 3], [-3, 4, 6]])\n",
    "constant = np.array([6, 8, 30])\n",
    "print('연립일차방정식을 행렬로 표현한 A >>\\n{}\\n'.format(a))\n",
    "print('연립일차방정식의 상수 >> {}\\n'.format(constant))\n",
    "variables = cramer_rule(a, constant)\n",
    "print('연립일차장정식의 해 >> {}\\n'.format(variables))"
   ]
  },
  {
   "cell_type": "code",
   "execution_count": null,
   "metadata": {},
   "outputs": [],
   "source": []
  }
 ],
 "metadata": {
  "kernelspec": {
   "display_name": "Python 3",
   "language": "python",
   "name": "python3"
  },
  "language_info": {
   "codemirror_mode": {
    "name": "ipython",
    "version": 3
   },
   "file_extension": ".py",
   "mimetype": "text/x-python",
   "name": "python",
   "nbconvert_exporter": "python",
   "pygments_lexer": "ipython3",
   "version": "3.7.4"
  }
 },
 "nbformat": 4,
 "nbformat_minor": 4
}
