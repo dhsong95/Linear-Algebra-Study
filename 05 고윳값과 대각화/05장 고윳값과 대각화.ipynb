{
 "cells": [
  {
   "cell_type": "markdown",
   "metadata": {},
   "source": [
    "<center><h1>5강 고윳값과 대각화</h1></center>\n",
    "<hr>"
   ]
  },
  {
   "cell_type": "markdown",
   "metadata": {},
   "source": [
    "## Table of Contents <a id=\"top\"></a>"
   ]
  },
  {
   "cell_type": "markdown",
   "metadata": {},
   "source": [
    "1. [고윳값과 벡터](#1)\n",
    "    1. [정의](#1.1)\n",
    "    2. [고유방정식](#1.2)\n",
    "    3. [고유공간](#1.3)\n",
    "2. [대각화](#2)\n",
    "    1. [대각화](#2.1)\n",
    "    2. [중복도](#2.2)\n",
    "    3. [닯음불변량](#2.3)\n",
    "3. [C-H 정리](#3)"
   ]
  },
  {
   "cell_type": "markdown",
   "metadata": {},
   "source": [
    "A. [연습문제](#A)"
   ]
  },
  {
   "cell_type": "markdown",
   "metadata": {},
   "source": [
    "<hr>"
   ]
  },
  {
   "cell_type": "code",
   "execution_count": 1,
   "metadata": {},
   "outputs": [],
   "source": [
    "import numpy as np\n",
    "\n",
    "from matplotlib import font_manager\n",
    "import matplotlib.pyplot as plt"
   ]
  },
  {
   "cell_type": "code",
   "execution_count": 2,
   "metadata": {},
   "outputs": [],
   "source": [
    "font_fname = './static/fonts/AppleGothic.ttf'\n",
    "font_family = font_manager.FontProperties(fname=font_fname).get_name()\n",
    "plt.rcParams['font.family'] = font_family\n",
    "plt.rcParams['font.size'] = 20"
   ]
  },
  {
   "cell_type": "code",
   "execution_count": 3,
   "metadata": {},
   "outputs": [],
   "source": [
    "%matplotlib inline"
   ]
  },
  {
   "cell_type": "markdown",
   "metadata": {},
   "source": [
    "# 1. 고윳값과 벡터 <a id=\"1\"></a>\n",
    "<p style=\"text-align:right;\"><a href=\"#top\">🔝 top</a></p>"
   ]
  },
  {
   "cell_type": "markdown",
   "metadata": {},
   "source": [
    "## 1.1. 정의 <a id=\"1.1\"></a>\n",
    "<p style=\"text-align:right;\"><a href=\"#top\">🔝 top</a></p>"
   ]
  },
  {
   "cell_type": "markdown",
   "metadata": {},
   "source": [
    "### 고윳값과 고유 벡터"
   ]
  },
  {
   "cell_type": "markdown",
   "metadata": {},
   "source": [
    "* 고윳값은 선형 사상을 대응시킬 수 있는 값을 의미한다. \n",
    "* 그런데 선형 대수의 기본 정리에 의해서 선형 사상은 행렬(특히 nxn 정사각행렬)과 일치하므로 고윳값은 선형 사상에 대응하는 특이한 값이자, 행렬에 대응하는 특이한 값이기도 한다.\n",
    "* 고윳값과 고유벡터의 정의\n",
    "    * 체 F에 대한 벡터 공간 V에 대해서\n",
    "    * 선형 사상 L: V → V 일 때,\n",
    "    * 벡터 v ∈ V 에 대해서\n",
    "        * L(v) = λv \n",
    "        * v ≠ 0 벡터\n",
    "    * 를 만족할 때, 선형 사상 L의 고윳값은 λ 이고, 그에 따른 고유 벡터는 v 라고 한다"
   ]
  },
  {
   "cell_type": "markdown",
   "metadata": {},
   "source": [
    "<img src=\"./figure/고윳값과 고유벡터.png\"/>"
   ]
  },
  {
   "cell_type": "markdown",
   "metadata": {},
   "source": [
    "## 1.2. 고유방정식 <a id=\"1.2\"></a>\n",
    "<p style=\"text-align:right;\"><a href=\"#top\">🔝 top</a></p>"
   ]
  },
  {
   "cell_type": "markdown",
   "metadata": {},
   "source": [
    "### 고유방정식 - 고윳값 구하기"
   ]
  },
  {
   "cell_type": "markdown",
   "metadata": {},
   "source": [
    "* 선형 사상과 행렬은 대응한다는 것을 기억!\n",
    "* 고유방정식은 선형 사상(및 행렬)의 고윳값을 구하는 방법으로 계산의 편의를 위해서 행렬을 기준으로 다룬다.\n",
    "* 고유방정식에 대한 정의\n",
    "    * nxn 정사각형 행렬 M에 대하여\n",
    "    * det(λIn - M) = 0 을 만족하는 λ는 행렬 M의 고유값이다\n",
    "    * 이 때 좌변을 고유다항식이라고 하며, 고유방정식은 고유다항식 = 0 의 형태의 방정식이다"
   ]
  },
  {
   "cell_type": "markdown",
   "metadata": {},
   "source": [
    "<img src=\"./figure/고유방정식.png\"/>"
   ]
  },
  {
   "cell_type": "markdown",
   "metadata": {},
   "source": [
    "## 1.3. 고유공간 <a id=\"1.3\"></a>\n",
    "<p style=\"text-align:right;\"><a href=\"#top\">🔝 top</a></p>"
   ]
  },
  {
   "cell_type": "markdown",
   "metadata": {},
   "source": [
    "### 고유공간 - 고유 벡터 구하기"
   ]
  },
  {
   "cell_type": "markdown",
   "metadata": {},
   "source": [
    "* 선형 사상과 행렬은 대응한다는 것을 기억!\n",
    "* 정의해야하는 개념은 확실하게\n",
    "    * 고유공간: λIv - L의 핵\n",
    "    * 고유벡터: 고유공간의 벡터 중 0벡터가 아닌 벡터\n",
    "    * 고유기저: 고유벡터로 구성된 V의 기저\n",
    "* 행렬에 대해서 정의하면 고유공간은 (λIn - M)(v) = 0 의 해공간이고, 이때 해가 0이 아닌 열벡터 v가 고유벡터가 된다"
   ]
  },
  {
   "cell_type": "markdown",
   "metadata": {},
   "source": [
    "<img src=\"./figure/고유공간 정의.png\"/>"
   ]
  },
  {
   "cell_type": "markdown",
   "metadata": {},
   "source": [
    "<img src=\"./figure/고윳값 정리.png\"/>"
   ]
  },
  {
   "cell_type": "markdown",
   "metadata": {},
   "source": [
    "# 2. 대각화<a id=\"2\"></a>\n",
    "<p style=\"text-align:right;\"><a href=\"#top\">🔝 top</a></p>"
   ]
  },
  {
   "cell_type": "markdown",
   "metadata": {},
   "source": [
    "## 2.1. 대각화<a id=\"2.1\"></a>\n",
    "<p style=\"text-align:right;\"><a href=\"#top\">🔝 top</a></p>"
   ]
  },
  {
   "cell_type": "markdown",
   "metadata": {},
   "source": [
    "### 대각화의 목적"
   ]
  },
  {
   "cell_type": "markdown",
   "metadata": {},
   "source": [
    "* 대각화를 통해 복잡한 선형 사상을 단순한 선형 사상으로 분해할 수 있다.\n",
    "* 분해된 단순한 형태의 선형 사상은 원래의 복잡한 선형 사상의 성질을 그대로 유지한다.\n",
    "* 따라서 대각화라는 강력한 도구를 사용하면 복잡한 선형 사상(또는 행렬)을 단순하고 이해할 수 있는 형태로 해석할 수 있다"
   ]
  },
  {
   "cell_type": "markdown",
   "metadata": {},
   "source": [
    "### 대각화의 정의"
   ]
  },
  {
   "cell_type": "markdown",
   "metadata": {},
   "source": [
    "* 두 정사각행렬 A, B에 대해서\n",
    "* B = P-1AP를 만족하는 대각행렬 B와 가역행렬 P가 있을때\n",
    "* \"A는 대각화 가능 행렬이다\", \"A를 대각화 가능하다\", \"A는 P에 의해서 대각화한다\" 라고 말한다."
   ]
  },
  {
   "cell_type": "markdown",
   "metadata": {},
   "source": [
    "<img src=\"./figure/대각화 예시.png\"/>"
   ]
  },
  {
   "cell_type": "markdown",
   "metadata": {},
   "source": [
    "### 대각화의 특성"
   ]
  },
  {
   "cell_type": "markdown",
   "metadata": {},
   "source": [
    "* nxn 정사각행렬 A에 대해서 두 명제는 서로 동치이다\n",
    "    * A는 대각화가능 행렬이다\n",
    "    * A는 n개의 선형독립인 고유벡터를 갖는다."
   ]
  },
  {
   "cell_type": "markdown",
   "metadata": {},
   "source": [
    "<img src=\"./figure/대각화 정리 증명.png\"/>"
   ]
  },
  {
   "cell_type": "markdown",
   "metadata": {},
   "source": [
    "### 대각화의 과정"
   ]
  },
  {
   "cell_type": "markdown",
   "metadata": {},
   "source": [
    "1. 행렬 A에 대해서 선형독립인 n개의 고유벡터를 찾는다 (행렬 A가 대각화 가능 행렬인지 파악)\n",
    "2. n개의 고유벡터를 열의 방향으로 이어붙여서 행렬 P를 만든다\n",
    "3. B = P-1AP 를 만족한다."
   ]
  },
  {
   "cell_type": "markdown",
   "metadata": {},
   "source": [
    "<img src=\"./figure/대각화하기.png\"/>"
   ]
  },
  {
   "cell_type": "markdown",
   "metadata": {},
   "source": [
    "## 2.2. 중복도<a id=\"2.2\"></a>\n",
    "<p style=\"text-align:right;\"><a href=\"#top\">🔝 top</a></p>"
   ]
  },
  {
   "cell_type": "markdown",
   "metadata": {},
   "source": [
    "### 중복도 정의"
   ]
  },
  {
   "cell_type": "markdown",
   "metadata": {},
   "source": [
    "* 기하적 중복도 = 행렬 A에 대한 고윳값에 대해서, 해당 고윳값에 대응하는 고유 공간의 차원(=고유 기저의 원소 개수)\n",
    "* 대수적 중복도 = 행렬 A에 대한 고윳값에 대해서, 해당 고윳값이 고유다항식에서 인수로 나타난 횟수\n",
    "* A가 대각화 가능할 때 기하적 중복도와 대수적 중복도는 일치한다\n",
    "    * 일반적으로 대수적 중복도 >= 기하적 중복도"
   ]
  },
  {
   "cell_type": "markdown",
   "metadata": {},
   "source": [
    "<img src=\"./figure/중복도.png\"/>"
   ]
  },
  {
   "cell_type": "markdown",
   "metadata": {},
   "source": [
    "## 2.3. 닯음 불변량<a id=\"2.3\"></a>\n",
    "<p style=\"text-align:right;\"><a href=\"#top\">🔝 top</a></p>"
   ]
  },
  {
   "cell_type": "markdown",
   "metadata": {},
   "source": [
    "### 닯음 불변량"
   ]
  },
  {
   "cell_type": "markdown",
   "metadata": {},
   "source": [
    "* 두 정사각행렬 A, B에 대해서 B = P-1AP를 만족하는 가역행렬 P가 있으면 \n",
    "    * B가 대각행렬인지 아닌지는 상관 없음\n",
    "* A와 B는 서로 닮은 행렬이다. A ~ B\n",
    "* 닮은 행렬은 다음과 같은 성질이 유지된다\n",
    "    * 행렬식\n",
    "    * 가역성\n",
    "    * rank\n",
    "    * nullity\n",
    "    * 고유다항식\n",
    "    * 고윳값\n",
    "    * 고유공간의 차원\n",
    "    * 대각성분들의 합\n",
    "    * 대수적 중복도\n",
    "    * 기하적 중복도"
   ]
  },
  {
   "cell_type": "markdown",
   "metadata": {},
   "source": [
    "# 3. C-H 정리<a id=\"3\"></a>\n",
    "<p style=\"text-align:right;\"><a href=\"#top\">🔝 top</a></p>"
   ]
  },
  {
   "cell_type": "markdown",
   "metadata": {},
   "source": [
    "### 케일리 해밀턴 정리"
   ]
  },
  {
   "cell_type": "markdown",
   "metadata": {},
   "source": [
    "* 임의의 정사각행렬 A와 고유다항식 f(λ)=det(λIn - A)에 대하여\n",
    "* f(A) = 영행렬이 성립한다."
   ]
  },
  {
   "cell_type": "markdown",
   "metadata": {},
   "source": [
    "<img src=\"./figure/케일리 해밀턴 증명.png\"/>"
   ]
  },
  {
   "cell_type": "markdown",
   "metadata": {},
   "source": [
    "<img src=\"./figure/케일리 해밀턴 예시.png\"/>"
   ]
  },
  {
   "cell_type": "markdown",
   "metadata": {},
   "source": [
    "<hr>"
   ]
  },
  {
   "cell_type": "markdown",
   "metadata": {},
   "source": [
    "## 연습문제 <a id=\"A\"></a>\n",
    "<p style=\"text-align:right;\"><a href=\"#top\">🔝 top</a></p>"
   ]
  },
  {
   "cell_type": "markdown",
   "metadata": {},
   "source": [
    "**1. 행렬 A=[[0, -3, -3], [1, 4, 1], [-1, -1, 2]] 에 대하여 다음 물음에 답하시오.**\n",
    "<br>"
   ]
  },
  {
   "cell_type": "markdown",
   "metadata": {},
   "source": [
    "P = [[0, 0, 0], [0, 3, 0], [0, 0, 3]]"
   ]
  },
  {
   "cell_type": "markdown",
   "metadata": {},
   "source": [
    "1) 행렬식<br>\n",
    "det(A) = 0 / det(P) = 0<br>\n",
    "2) 가역성<br>\n",
    "det(A) = 0 / det(P) = 0 둘 다 역행렬은 없다<br>\n",
    "3) rank<br>\n",
    "rank(A) = 2 / rank(P) = 2<br>\n",
    "4) nullity<br>\n",
    "nullity(A) = 1 / nullity(P) = 1<br>\n",
    "5) 고유다항식<br>\n",
    "A: (λ)(λ-3)(λ-3) / P: (λ)(λ-3)(λ-3)<br>\n",
    "6) 고유값<br>\n",
    "A: 0, 3 / P: 0, 3<br>\n",
    "7) 고유공간의 차원<br>\n",
    "A: 3 / P: 3<br>\n",
    "8) 대각성분들의 합<br>\n",
    "A: 6 / P: 6<br>\n",
    "9) 대수적 중복도<br>\n",
    "A: 0-1, 3-2 / P: 0-1, 3-2<br>\n",
    "10) 기하적 중복도<br>\n",
    "A: 0-1, 3-2 / P: 0-1, 3-2<br>"
   ]
  },
  {
   "cell_type": "markdown",
   "metadata": {},
   "source": [
    "**<br>2. 행렬 M=[[0, 1, 0], [0, 0, 1], [1, -3, 3]] 에 대하여 행렬 3M5 - 5M4 을 C-H 정리를 이용하여 구하시오**"
   ]
  }
 ],
 "metadata": {
  "kernelspec": {
   "display_name": "Python 3",
   "language": "python",
   "name": "python3"
  },
  "language_info": {
   "codemirror_mode": {
    "name": "ipython",
    "version": 3
   },
   "file_extension": ".py",
   "mimetype": "text/x-python",
   "name": "python",
   "nbconvert_exporter": "python",
   "pygments_lexer": "ipython3",
   "version": "3.7.4"
  }
 },
 "nbformat": 4,
 "nbformat_minor": 4
}
