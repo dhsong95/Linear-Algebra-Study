{
 "cells": [
  {
   "cell_type": "markdown",
   "metadata": {},
   "source": [
    "<center><h1>4강 선형사상</h1></center>\n",
    "<hr>"
   ]
  },
  {
   "cell_type": "markdown",
   "metadata": {},
   "source": [
    "## Table of Contents <a id=\"top\"></a>"
   ]
  },
  {
   "cell_type": "markdown",
   "metadata": {},
   "source": [
    "1. [선형사상](#1)\n",
    "    1. [선형사상](#1.1)\n",
    "    2. [여러 선형사상](#1.2)\n",
    "2. [선형대수학의 기본정리](#2)\n",
    "3. [차원정리](#3)\n",
    "    1. [차원정리](#3.1)\n",
    "    2. [비둘기집 원리](#3.2)\n",
    "4. [계수정리](#4)\n",
    "    1. [관련 용어](#4.1)\n",
    "    2. [계수정리](#4.2)"
   ]
  },
  {
   "cell_type": "markdown",
   "metadata": {},
   "source": [
    "A. [연습문제](#A)"
   ]
  },
  {
   "cell_type": "markdown",
   "metadata": {},
   "source": [
    "<hr>"
   ]
  },
  {
   "cell_type": "code",
   "execution_count": 1,
   "metadata": {},
   "outputs": [],
   "source": [
    "import numpy as np\n",
    "\n",
    "from matplotlib import font_manager\n",
    "import matplotlib.pyplot as plt"
   ]
  },
  {
   "cell_type": "code",
   "execution_count": 2,
   "metadata": {},
   "outputs": [],
   "source": [
    "font_fname = './static/fonts/AppleGothic.ttf'\n",
    "font_family = font_manager.FontProperties(fname=font_fname).get_name()\n",
    "plt.rcParams['font.family'] = font_family\n",
    "plt.rcParams['font.size'] = 20"
   ]
  },
  {
   "cell_type": "code",
   "execution_count": 3,
   "metadata": {},
   "outputs": [],
   "source": [
    "%matplotlib inline"
   ]
  },
  {
   "cell_type": "markdown",
   "metadata": {},
   "source": [
    "# 1. 선형사상 <a id=\"1\"></a>\n",
    "<p style=\"text-align:right;\"><a href=\"#top\">🔝 top</a></p>"
   ]
  },
  {
   "cell_type": "markdown",
   "metadata": {},
   "source": [
    "## 1.1. 선형사상 <a id=\"1.1\"></a>\n",
    "<p style=\"text-align:right;\"><a href=\"#top\">🔝 top</a></p>"
   ]
  },
  {
   "cell_type": "markdown",
   "metadata": {},
   "source": [
    "### 선형사상 정의"
   ]
  },
  {
   "cell_type": "markdown",
   "metadata": {},
   "source": [
    "* 사상은 사실상 대수구조를 다루는 함수이다.\n",
    "    * 사상과 함수를 크게 구분하지 않는다.\n",
    "* 선형사상은 F-벡터공간 V, W에 대하여 <u>V의 성질을 보존</u>하는 사상 L: V → W\n",
    "    * 가산성을 만족한다: L(u + v) = L(u) + L(v) (u, v ∈ V)\n",
    "    * 동차성을 만족한다: L(kv) = kL(v) (k ∈ F, v ∈ V)\n",
    "* 해당 사상이 선형사상을 만족하는지를 판단하기 위해서 가산성과 동치성을 만족하는지 파악하면된다"
   ]
  },
  {
   "cell_type": "markdown",
   "metadata": {},
   "source": [
    "### 핵과 상"
   ]
  },
  {
   "cell_type": "markdown",
   "metadata": {},
   "source": [
    "* F-벡터공간 V, W에 대하여 L: V → W가 선형사상에 대해서\n",
    "    * 핵(kernel): ker L = L-1(0 벡터) = {v ∈ V | L(v) = 0 벡터}\n",
    "    * 상(image): im L = L(V) = {L(v) ∈ W | v ∈ V}\n",
    "* 핵은 벡터공간 V의 원소 벡터 v가 선형사상을 통해서 0 벡터를 만드는 원소 벡터 v의 집합이다\n",
    "* 상은 벡터공간 V의 원소 벡터 v가 선형사상을 통해 변화된 벡터공간 W의 원소 집합이다. 사실상 치역에 해당한다"
   ]
  },
  {
   "cell_type": "markdown",
   "metadata": {},
   "source": [
    "### 사상의 종류"
   ]
  },
  {
   "cell_type": "markdown",
   "metadata": {},
   "source": [
    "* 자기사상: V = W인 선형사상 L\n",
    "    * 정의역과 공역이 같은 선형사상\n",
    "    * L(v) = v인 항등사상과는 다르다\n",
    "* 단사사상: L(u) = L(v) ⇒ u = v 인 선형사상 L \n",
    "    * 벡터공간 V의 원소 벡터 u와 v에 대해서 선형사상한 결과 L(u)와 L(v)의 값이 다르다\n",
    "* 전사사상: L(V) = W인 선형사상 L\n",
    "    * 공역과 치역이 같은 선형사상 L\n",
    "* 동형사상: 단사사상이면서 전사사상인 선형사상 L\n",
    "* 자기동형사상: 자기사상이면서 동형사상인 선형사상 L\n",
    "* 항등사상: L(v) = v인 선형사상 L\n",
    "    * IV로 표기하기도 한다"
   ]
  },
  {
   "cell_type": "markdown",
   "metadata": {},
   "source": [
    "### 사상의 합성과 역사상"
   ]
  },
  {
   "cell_type": "markdown",
   "metadata": {},
   "source": [
    "* 합성: 사상의 합성은 두 선형사상 L1와 L2를 합성\n",
    "    * L1: V → U 이고 L2: U → W 일 때 L2 ○ L1: V → W 로 쓴다\n",
    "* 역사상: 사상의 합성으로 항등사상이 만들어지는 경우. 왼쪽 역사상과 오른쪽 역사상이 있으며 왼쪽 역사상과 오른쪽 역사상을 모두 만족할때 양쪽 역사상(=역사상)이라고한다.\n",
    "    * L2 ○ L1 = IV 일때 L2는 L1의 왼쪽 역사상이고 L1은 L2의 오른쪽 역사상이다"
   ]
  },
  {
   "cell_type": "markdown",
   "metadata": {},
   "source": [
    "## 1.2. 여러 선형사상 <a id=\"1.2\"></a>\n",
    "<p style=\"text-align:right;\"><a href=\"#top\">🔝 top</a></p>"
   ]
  },
  {
   "cell_type": "markdown",
   "metadata": {},
   "source": [
    "### 여러 선형사상과 증명"
   ]
  },
  {
   "cell_type": "markdown",
   "metadata": {},
   "source": [
    "<img src=\"./figure/여러 선형사상.png\"/>"
   ]
  },
  {
   "cell_type": "markdown",
   "metadata": {},
   "source": [
    "# 2. 선형대수학의 기본정리<a id=\"2\"></a>\n",
    "<p style=\"text-align:right;\"><a href=\"#top\">🔝 top</a></p>"
   ]
  },
  {
   "cell_type": "markdown",
   "metadata": {},
   "source": [
    "### 선형대수학의 기본정리가 가지는 의의"
   ]
  },
  {
   "cell_type": "markdown",
   "metadata": {},
   "source": [
    "* 선형사상을 원소로 가지는 집합의 대수구조를 파악한다 → 벡터공간이다\n",
    "* 행렬을 원소로 가지는 집합의 대수구조를 파악한다 → 벡터공간이다\n",
    "* 선형사상을 원소로 가지는 집합과 행렬을 원소로 가지는 집합은 모두 벡터공간으로 사상을 정의한다. \n",
    "    * 선형사상에서 행렬로 가는 사상 f \n",
    "    * 행렬에서 선형사상으로 가는 사상 g\n",
    "* f와 g는 모두 동형사상이며, f와 g는 역사상관계이다\n",
    "    * 동형사상의 정의상 정의역은 모두 다른 공역의 원소에 대응하고(단사사상), 공역과 치역이 같다(전사사상)\n",
    "    * 따라서 선형 사상과 행렬은 동일한 대수구조로 원소는 다르더라도 같은 원리로 이해할 수 있다\n",
    "* 결론적으로 선형사상은 행렬이다"
   ]
  },
  {
   "cell_type": "markdown",
   "metadata": {},
   "source": [
    "### 선형대수학의 기본정리에서 사용하는 연산"
   ]
  },
  {
   "cell_type": "markdown",
   "metadata": {},
   "source": [
    "<img src=\"./figure/연산정의.png\"/>"
   ]
  },
  {
   "cell_type": "markdown",
   "metadata": {},
   "source": [
    "### 선형대수학의 기본정리 증명 과정"
   ]
  },
  {
   "cell_type": "markdown",
   "metadata": {},
   "source": [
    "1. 선형 사상과 행렬에 대한 집합을 만든다\n",
    "2. 선형 사상 집합과 행렬 집합을 벡터 공간으로 만든다 (집합에 구조=연산 부여)\n",
    "3. 선형 사상 벡터 공간과 행렬 벡터 공간에 대한 사상을 만든다<br>\n",
    "4. 생성된 사상 f와 g에 대한 증명\n",
    "    1. 생성된 사상 f와 g가 선형 사상임을 증명한다\n",
    "    2. 생성된 사상 f와 g가 동형 사상임을 증명한다\n",
    "    3. 생성된 사상 f와 g가 서로 역사상 관계임을 증명한다"
   ]
  },
  {
   "cell_type": "markdown",
   "metadata": {},
   "source": [
    "<img src=\"./figure/1.png\"/>"
   ]
  },
  {
   "cell_type": "markdown",
   "metadata": {},
   "source": [
    "<img src=\"./figure/2.png\"/>"
   ]
  },
  {
   "cell_type": "markdown",
   "metadata": {},
   "source": [
    "<img src=\"./figure/3.png\"/>"
   ]
  },
  {
   "cell_type": "markdown",
   "metadata": {},
   "source": [
    "<img src=\"./figure/4.png\"/>"
   ]
  },
  {
   "cell_type": "markdown",
   "metadata": {},
   "source": [
    "<img src=\"./figure/4-1-1.png\"/>"
   ]
  },
  {
   "cell_type": "markdown",
   "metadata": {},
   "source": [
    "<img src=\"./figure/4-1-2.png\"/>"
   ]
  },
  {
   "cell_type": "markdown",
   "metadata": {},
   "source": [
    "<img src=\"./figure/4-1-3.png\"/>"
   ]
  },
  {
   "cell_type": "markdown",
   "metadata": {},
   "source": [
    "<img src=\"./figure/4-1-4.png\"/>"
   ]
  },
  {
   "cell_type": "markdown",
   "metadata": {},
   "source": [
    "<img src=\"./figure/4-2-1.png\"/>"
   ]
  },
  {
   "cell_type": "markdown",
   "metadata": {},
   "source": [
    "<img src=\"./figure/4-2-2.png\"/>"
   ]
  },
  {
   "cell_type": "markdown",
   "metadata": {},
   "source": [
    "<img src=\"./figure/4-2-3.png\"/>"
   ]
  },
  {
   "cell_type": "markdown",
   "metadata": {},
   "source": [
    "<img src=\"./figure/4-2-4.png\"/>"
   ]
  },
  {
   "cell_type": "markdown",
   "metadata": {},
   "source": [
    "<img src=\"./figure/4-3.png\"/>"
   ]
  },
  {
   "cell_type": "markdown",
   "metadata": {},
   "source": [
    "# 3. 차원정리<a id=\"3\"></a>\n",
    "<p style=\"text-align:right;\"><a href=\"#top\">🔝 top</a></p>"
   ]
  },
  {
   "cell_type": "markdown",
   "metadata": {},
   "source": [
    "## 3.1. 차원정리<a id=\"3.1\"></a>\n",
    "<p style=\"text-align:right;\"><a href=\"#top\">🔝 top</a></p>"
   ]
  },
  {
   "cell_type": "markdown",
   "metadata": {},
   "source": [
    "### 차원정리"
   ]
  },
  {
   "cell_type": "markdown",
   "metadata": {},
   "source": [
    "* 선형 사상의 핵(kernel)이 가지는 중요성을 보여주는 정리\n",
    "* dim(V) = dim(ker L) + dim(im L)\n",
    "    * 함수로 해당 식을 해석해보면, 정의역(V)이 가지는 차원은 선형 사상의 핵(ker L)의 차원과 치연(im L)의 차원을 합한 것이다.\n",
    "    * 따라서 치역의 차원은 정의역의 차원에서 핵에 해당하는 영역을 제거한 부분이다\n",
    "* 참고로 차원 = 기저의 원소의 개수라는 것을 잊지 말길\n",
    "    * 해당 집합 B가 벡터 공간 V의 기저인지 판단하기 위해서는 다음을 만족한다\n",
    "        1. 기저 B의 원소를 선형 결합하여서 원래의 벡터 공간 V를 (선형) 생성한다\n",
    "        2. 기저 B의 원소를 선형 독립이다. (기저 B의 원소를 선형 결합한 결과 0 벡터가 만들어질때, 기저 B의 원소에 대한 계수들은 모두 0으로 유일하다)"
   ]
  },
  {
   "cell_type": "markdown",
   "metadata": {},
   "source": [
    "<img src=\"./figure/차원정리.png\"/>"
   ]
  },
  {
   "cell_type": "markdown",
   "metadata": {},
   "source": [
    "<img src=\"./figure/차원정리 증명1.png\"/>"
   ]
  },
  {
   "cell_type": "markdown",
   "metadata": {},
   "source": [
    "<img src=\"./figure/차원정리 증명2.png\"/>"
   ]
  },
  {
   "cell_type": "markdown",
   "metadata": {},
   "source": [
    "## 3.2. 비둘기집 원리<a id=\"3.2\"></a>\n",
    "<p style=\"text-align:right;\"><a href=\"#top\">🔝 top</a></p>"
   ]
  },
  {
   "cell_type": "markdown",
   "metadata": {},
   "source": [
    "### 따름정리"
   ]
  },
  {
   "cell_type": "markdown",
   "metadata": {},
   "source": [
    "* 차원 정리를 이용하여서 파생된 정리\n",
    "* 차원이 같은 두 벡터 공간 V와 W에 대한 선형 사상 L:V → W 일 때\n",
    "    * L은 전사 사상 ⟺ L은 단사 사상 ⟺ L은 동형 사상\n",
    "* 차원이 같은 벡터 공간에 대한 선형 사상 L은 만약 단사가 확실하면 자동으로 전사까지 만족하여서 동형 사상이 된다. 반대도 마찬가지이다"
   ]
  },
  {
   "cell_type": "markdown",
   "metadata": {},
   "source": [
    "<img src=\"./figure/따름정리.png\"/>"
   ]
  },
  {
   "cell_type": "markdown",
   "metadata": {},
   "source": [
    "### 비둘기집 원리"
   ]
  },
  {
   "cell_type": "markdown",
   "metadata": {},
   "source": [
    "* 따름 정리를 집합에 적용한 원리\n",
    "* 공집합이 아닌 두 유한집합 A, B의 크기가 서로 같을 때 함수 f: A → B 는 다음을 만족한다\n",
    "    * f은 전사 함수 ⟺ f은 단사 함수 ⟺ f은 전단사 함수"
   ]
  },
  {
   "cell_type": "markdown",
   "metadata": {},
   "source": [
    "# 4. 계수정리<a id=\"4\"></a>\n",
    "<p style=\"text-align:right;\"><a href=\"#top\">🔝 top</a></p>"
   ]
  },
  {
   "cell_type": "markdown",
   "metadata": {},
   "source": [
    "## 4.1. 관련용어<a id=\"4.1\"></a>\n",
    "<p style=\"text-align:right;\"><a href=\"#top\">🔝 top</a></p>"
   ]
  },
  {
   "cell_type": "markdown",
   "metadata": {},
   "source": [
    "### 용어 정리"
   ]
  },
  {
   "cell_type": "markdown",
   "metadata": {},
   "source": [
    "* mxn 행렬 M에 대하여\n",
    "    * 열공간, 열계수: M의 열벡터로 생성하는 공간, 생성된 공간의 차원을 열계수라고 한다\n",
    "    * 행공간, 행계수: M의 행벡터로 생성하는 공간, 생성된 공간의 차원을 행계수라고 한다\n",
    "    * 영공간, nullity M: MX=0의 해공간, 영공간의 차원을 nullity M이라고 한다"
   ]
  },
  {
   "cell_type": "markdown",
   "metadata": {},
   "source": [
    "<img src=\"./figure/용어.png\"/>"
   ]
  },
  {
   "cell_type": "markdown",
   "metadata": {},
   "source": [
    "## 4.2. 계수정리<a id=\"4.2\"></a>\n",
    "<p style=\"text-align:right;\"><a href=\"#top\">🔝 top</a></p>"
   ]
  },
  {
   "cell_type": "markdown",
   "metadata": {},
   "source": [
    "### 계수정리"
   ]
  },
  {
   "cell_type": "markdown",
   "metadata": {},
   "source": [
    "* mxn 행렬 M에 대하여 다음을 만족한다\n",
    "    * 행계수 = 열계수 = 행렬 M의 계수\n",
    "* 기약행 사다리꼴 행렬을 사용하여서 증명할 수 있다\n",
    "    * 행렬 M을 기약행 사다리꼴 행렬 A로 기본행 연산을 통해 변환한다\n",
    "        * 기본행 연산은 행렬의 성질을 유지시키므로 행렬 M에 대한 계수와 기약행 사다리꼴행렬 A에 대한 계수는 동일하다    \n",
    "    * 행 계수는 기약행 사다리꼴 행렬에서 선도 1을 포함하는 행의 개수이다\n",
    "    * 열 계수는 기약행 사디리꼴 행렬에서 선도 1을 포함하는 열의 개수이다\n",
    "    * 기약행 사다리꼴 행렬의 특성상 선도 1을 포함하는 행의 개수 = 선도 1을 포함하는 열의 개수 = 선도 1의 개수이므로 계수정리를 증명할 수 있다\n"
   ]
  },
  {
   "cell_type": "markdown",
   "metadata": {},
   "source": [
    "### Rank-Nullity 정리"
   ]
  },
  {
   "cell_type": "markdown",
   "metadata": {},
   "source": [
    "* mxn 행렬 M에 대하여 다음을 만족한다\n",
    "    * 행렬 M의 열의 개수 = 행렬 M의 계수 + nullity M\n",
    "* 기약행 사다리꼴 행렬을 사용하여서 증명할 수 있다\n",
    "    * 행렬 M을 기약행 사다리꼴 행렬 A로 기본행 연산을 통해 변환한다\n",
    "        * 기본행 연산은 행렬의 성질을 유지시키므로 행렬 M에 대한 계수와 기약행 사다리꼴행렬 A에 대한 계수는 동일하다    \n",
    "    * 행렬 M의 계수는 기약행 사다리꼴 행렬에서 선도 1을 포함하는 열의 개수이다\n",
    "    * nullity M은 기약행 사다리꼴 행렬에서 선도 1을 포함하지 않는 열의 개수이다\n",
    "    * 따라서 행렬 M의 개수 + nullity M은 행렬 M의 열의 개수이다\n",
    "* 계수정리는 사실상 차원 정리를 행렬에 적용한 것이다\n",
    "    * 열의 개수는 선형 사상의 정의역인 벡터 공간 V의 차원에 대응한다\n",
    "    * 행렬 M의 계수는 선형 사상의 상의 차원에 대응한다\n",
    "    * nullity M은 선형 사상의 핵의 차원에 대응한다"
   ]
  },
  {
   "cell_type": "markdown",
   "metadata": {},
   "source": [
    "### 차원정리와 계수정리"
   ]
  },
  {
   "cell_type": "markdown",
   "metadata": {},
   "source": [
    "* 선형대수의 기본정리에 의해서 선형 사상과 행렬이 같다는 것이 증명되었다\n",
    "* 따라서 선형 사상에 적용되는 정리는 행렬에도 적용된다\n",
    "* 대표적인 예가 차원정리와 계수정리이다\n",
    "* 차원정리는 선형 사상의 차원과 관련된 정리이지만 행렬로 변환하여서 계수정리라는 대응되는 정리를 유도할 수 있다\n",
    "* 심지어 계수정리의 증명은 차원정리의 증명보다 간단하다는 점에서 선형 사상을 행렬로서 연구하는 것의 이점을 파악할 수 있다"
   ]
  },
  {
   "cell_type": "markdown",
   "metadata": {},
   "source": [
    "<hr>"
   ]
  },
  {
   "cell_type": "markdown",
   "metadata": {},
   "source": [
    "## 연습문제 <a id=\"A\"></a>\n",
    "<p style=\"text-align:right;\"><a href=\"#top\">🔝 top</a></p>"
   ]
  },
  {
   "cell_type": "markdown",
   "metadata": {},
   "source": [
    "**1. n차 다향식의 집합 Pn와 (n+1)차 다항식의 집합 Pn+1에 대하여 사상 L: Pn → Pn+1 을 다음과 같이 정의했을때, L이 선형사상임을 보이시오.\n",
    "<br>\n",
    "p(x) ∈ Pn 에 대하여 L(p(x)) = xp(x) ∈ Pn+1**\n",
    "<br>"
   ]
  },
  {
   "cell_type": "markdown",
   "metadata": {},
   "source": [
    "**1) 가산성을 증명한다. f(a+b) = f(a) + f(b)<br>**\n",
    "p = p0 + p1x + p1x^2 + ... + pnx^n, q = q0 + q1x + q1x^2 + ... + qnx^n ∈ Pn 이라고 할 때 <br>\n",
    "L(p + q) = x(p0 + ... + pnx^n + q0 + ... + qnx^n) = x(p0 + ... + pnx^n) + x(q0 + ... + qnx^n) = L(p) + L(q)<br>\n",
    "<br>\n",
    "**2) 동차성을 증명한다. f(ka) = kf(a)<br>**\n",
    "p = p0 + p1x + p1x^2 + ... + pnx^n ∈ Pn 이고 k ∈ ℝ 이라고 할 때 <br>\n",
    "L(kp) = x(k(p0 + p1x + p1x^2 + ... + pnx^n)) = k(x(p0 + p1x + p1x^2 + ... + pnx^n)) = kL(p)"
   ]
  },
  {
   "cell_type": "markdown",
   "metadata": {},
   "source": [
    "**<br><br>2. 3차 다항식의 집합 P3와 2x2 행렬의 집합 ℳ2x2(R) 및 R4에 대하여 다음 두 사상 L1: P3 → R4, L2: ℳ2x2(R) → R4 이 모두 동형사상임을 증명하시오**"
   ]
  },
  {
   "cell_type": "markdown",
   "metadata": {},
   "source": [
    "**1) 선형 사상임을 증명한다.<br>**\n",
    "**1-L1-1) L1의 가산성을 증명한다.<br>**\n",
    "p = p0 + p1x + p2x^2 + p3x^3, q = q0 + q1x + q2x^2 + q3x^3 ∈ P3 이라고 할 때 <br>\n",
    "L1(p + q) = (p0 + q0, p1x + q1x, p2x^2 + q2x^2, p3x^3 + q3x^3) = (p0, p1x, p2x^2, p3x^3) + (q0, q1x, q2x^2, q3x^3) = L1(p) + L1(q)<br>\n",
    "<br>\n",
    "**1-L1-2) L1의 동차성을 증명한다.<br>**\n",
    "p = p0 + p1x + p2x^2 + p3x^3 ∈ P3 , k ∈ ℝ 이라고 할 때 <br>\n",
    "L1(kp) = (kp0, kp1x, kp2x^2, kp3x^3) = k(p0, p1x, p2x^2, p3x^3) = kL1(p)<br>\n",
    "<br>\n",
    "**1-L2-1) L2의 가산성을 증명한다.<br>**\n",
    "p = [[p00, p01], [p10, p11]], q = [[q00, q01], [q10, q11]] ∈ ℳ2x2(R) 이라고 할 때 <br>\n",
    "L2(p + q) = (p00 + q00, p01 + q01, p10 + q10, p11 + q11) = (p00, p01, p10, p11) + (q00, q01, q10, q11) = L2(p) + L2(q)<br>\n",
    "<br>\n",
    "**1-fL2-2) L2의 동차성을 증명한다.<br>**\n",
    "p = [[p00, p01], [p10, p11]] ∈ ℳ2x2(R) , k ∈ ℝ 이라고 할 때 <br>\n",
    "L1(kp) = (kp00, kp01x, kp10, kp11) = k(p00, p01, p10, p11) = kL2(p)<br>\n",
    "<br>\n",
    "<br>\n",
    "**2) 동형 사상임을 증명한다.<br>**\n",
    "**2-L1-1) L1의 단사 사상을 증명한다.<br>**\n",
    "단사 사상은 L1(p) = L1(q) 일 때 p = q임을 증명한다<br>\n",
    "p = p0 + p1x + p2x^2 + p3x^3, q = q0 + q1x + q2x^2 + q3x^3 ∈ P3 이라고 할 때 <br>\n",
    "L1(p) = (p0, p1x, p2x^2, p3^3) <br>\n",
    "L1(q) = (q0, q1x, q2x^2, q3^3)<br>\n",
    "따라서 p = q<br>\n",
    "<br>\n",
    "**2-L1-2) L1의 전사 사상을 증명한다.<br>**\n",
    "전사 사상은 치역과 공역이 같음을 말한다<br>\n",
    "모든 r ∈ R4 에 대해서<br>\n",
    "r = (r0, r1, r3, r4) = (p0, p1x, p2x^2, p3^3) = L1(p) 로 대응하는 p가 있으므로 공역과 치역이 동일하다<br>\n",
    "L1(p) = r 이 가능하다<br>\n",
    "<br>\n",
    "**2-L2-1) L1의 단사 사상을 증명한다.<br>**\n",
    "단사 사상은 L2(p) = L2(q) 일 때 p = q임을 증명한다<br>\n",
    "p = [[p00, p01], [p10, p11]], q = [[q00, q01], [q10, q11]] ∈ ℳ2x2(R) 이라고 할 때 <br>\n",
    "L2(p) = (p00, p01, p10, p11) <br>\n",
    "L2(q) = (q00, q01, q10, q11)<br>\n",
    "따라서 p = q<br>\n",
    "<br>\n",
    "**2-L2-2) L1의 전사 사상을 증명한다.<br>**\n",
    "전사 사상은 치역과 공역이 같음을 말한다<br>\n",
    "모든 r ∈ R4 에 대해서<br>\n",
    "r = (r0, r1, r3, r4) = (p00, p01, p10, p11) = L2(p) 로 대응하는 p가 있으므로 공역과 치역이 동일하다<br>\n",
    "L2(p) = r 이 가능하다<br>\n",
    "<br>"
   ]
  },
  {
   "cell_type": "markdown",
   "metadata": {},
   "source": [
    "**<br>3. 벡터공간 V의 기저 BV = {v1, v2, v3}에 대하여 자기사상 L: V→V이 [L]BVBV = [[-3, 4, 7], [1, 0, -2], [0, 1, 0]] 을 만족한다. 이때 V의 기저 B\\`V = {v1, v1 + v2, v1 + v2 + v3}에 대하여 [L]B\\`VB\\`V*를 구하시오**"
   ]
  },
  {
   "cell_type": "markdown",
   "metadata": {},
   "source": [
    "L(v1) = -3v1 + v2<br>\n",
    "L(v2) = 4v1 + v3<br>\n",
    "L(v3) = 7v1 - 2v2<br>\n",
    "이다.<br><br>\n",
    "\n",
    "이때 새로운 기저로 표현하기 위해서<br> \n",
    "L(v1) = a1(v1) + b1(v1 + v2) + c1(v1 + v2 + v3) = (a1 + b1 + c1)v1 + (b1 + c1)v2 + c1v3 이며 <br>\n",
    "a1 = -4, b1 = 1, c1 = 0 을 만족한다<br>\n",
    "L(v1 + v2) = a2(v1) + b2(v1 + v2) + c2(v1 + v2 + v3) = (a2 + b2 + c2)v1 + (b2 + c2)v2 + c2v3 이며 <br>\n",
    "a2 = 0, b2 = 0, c2 = 1 을 만족한다<br>\n",
    "L(v1 + v2 + v3) = a3(v1) + b3(v1 + v2) + c3(v1 + v2 + v3) = (a3 + b3 + c3)v1 + (b3 + c3)v2 + c3v3 이며 <br>\n",
    "a3 = 9, b3 = -2, c3 = 1 을 만족한다<br><br>\n",
    "\n",
    "따라서 [[-4, 1, 0], [0, 0, 1], [9, -2, 1]] 이다"
   ]
  },
  {
   "cell_type": "markdown",
   "metadata": {},
   "source": [
    "**<br><br>4. 행렬 M = [[-1, 2, 0, 4, 5, -3], [3, -7, 2, 0, 1, 4], [2, -5, 2, 4, 6, 1], [4, -9, 2, -4, -4, 7]] 에 대하여 Rank-Nullity 정리가 성립함을 보이시오**"
   ]
  },
  {
   "cell_type": "markdown",
   "metadata": {},
   "source": [
    "행렬 M을 기약행 사다리꼴 행렬 A로 변환한다.<br>\n",
    "A = [[1, -2, 0, -4, -5, 3], [0, -1, 2, 12, 16, -5], [0, -1, 2, 12, 16, -5], [0, -1, 2, 12, 16, -5]] <br>\n",
    "= [[1, -2, 0, -4, -5, 3], [0, 1, -2, -12, -16, 5], [0, 0, 0, 0, 0, 0], [0, 0, 0, 0, 0, 0]]<br>\n",
    "= [[1, 0, -4, -28, -37, 13], [0, 1, -2, -12, -16, 5], [0, 0, 0, 0, 0, 0], [0, 0, 0, 0, 0, 0]]<br><br>\n",
    "\n",
    "행렬 M의 열의 개수 = 6<br>\n",
    "행렬 M의 계수 = 2<br>\n",
    "nullity M = 4<br>\n",
    "<br>\n",
    "따라서 Rank-Nullity 정리인 행렬의 열의 개수(6) = 행렬의 계수(2) + nullity M(4) 를 만족한다"
   ]
  }
 ],
 "metadata": {
  "kernelspec": {
   "display_name": "Python 3",
   "language": "python",
   "name": "python3"
  },
  "language_info": {
   "codemirror_mode": {
    "name": "ipython",
    "version": 3
   },
   "file_extension": ".py",
   "mimetype": "text/x-python",
   "name": "python",
   "nbconvert_exporter": "python",
   "pygments_lexer": "ipython3",
   "version": "3.7.4"
  }
 },
 "nbformat": 4,
 "nbformat_minor": 4
}
