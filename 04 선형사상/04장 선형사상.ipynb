{
 "cells": [
  {
   "cell_type": "markdown",
   "metadata": {},
   "source": [
    "<center><h1>4강 선형사상</h1></center>\n",
    "<hr>"
   ]
  },
  {
   "cell_type": "markdown",
   "metadata": {},
   "source": [
    "## Table of Contents <a id=\"top\"></a>"
   ]
  },
  {
   "cell_type": "markdown",
   "metadata": {},
   "source": [
    "1. [선형사상](#1)\n",
    "    1. [선형사상](#1.1)\n",
    "    2. [여러 선형사상](#1.2)\n",
    "2. [선형대수학의 기본정리](#2)\n",
    "3. [차원정리](#3)\n",
    "    1. [차원정리](#3.1)\n",
    "    2. [비둘기집 원리](#3.2)\n",
    "4. [계수정리](#4)\n",
    "    1. [관련 용어](#4.1)\n",
    "    2. [계수정리](#4.2)"
   ]
  },
  {
   "cell_type": "markdown",
   "metadata": {},
   "source": [
    "A. [연습문제](#A)"
   ]
  },
  {
   "cell_type": "markdown",
   "metadata": {},
   "source": [
    "<hr>"
   ]
  },
  {
   "cell_type": "code",
   "execution_count": 1,
   "metadata": {},
   "outputs": [],
   "source": [
    "import numpy as np\n",
    "\n",
    "from matplotlib import font_manager\n",
    "import matplotlib.pyplot as plt"
   ]
  },
  {
   "cell_type": "code",
   "execution_count": 2,
   "metadata": {},
   "outputs": [],
   "source": [
    "font_fname = './static/fonts/AppleGothic.ttf'\n",
    "font_family = font_manager.FontProperties(fname=font_fname).get_name()\n",
    "plt.rcParams['font.family'] = font_family\n",
    "plt.rcParams['font.size'] = 20"
   ]
  },
  {
   "cell_type": "code",
   "execution_count": 3,
   "metadata": {},
   "outputs": [],
   "source": [
    "%matplotlib inline"
   ]
  },
  {
   "cell_type": "markdown",
   "metadata": {},
   "source": [
    "# 1. 선형사상 <a id=\"1\"></a>\n",
    "<p style=\"text-align:right;\"><a href=\"#top\">🔝 top</a></p>"
   ]
  },
  {
   "cell_type": "markdown",
   "metadata": {},
   "source": [
    "## 1.1. 선형사상 <a id=\"1.1\"></a>\n",
    "<p style=\"text-align:right;\"><a href=\"#top\">🔝 top</a></p>"
   ]
  },
  {
   "cell_type": "markdown",
   "metadata": {},
   "source": [
    "### 선형사상 정의"
   ]
  },
  {
   "cell_type": "markdown",
   "metadata": {},
   "source": [
    "* 사상은 사실상 대수구조를 다루는 함수이다.\n",
    "    * 사상과 함수를 크게 구분하지 않는다.\n",
    "* 선형사상은 F-벡터공간 V, W에 대하여 <u>V의 성질을 보존</u>하는 사상 L: V → W\n",
    "    * 가산성을 만족한다: L(u + v) = L(u) + L(v) (u, v ∈ V)\n",
    "    * 동차성을 만족한다: L(kv) = kL(v) (k ∈ F, v ∈ V)\n",
    "* 해당 사상이 선형사상을 만족하는지를 판단하기 위해서 가산성과 동치성을 만족하는지 파악하면된다"
   ]
  },
  {
   "cell_type": "markdown",
   "metadata": {},
   "source": [
    "### 핵과 상"
   ]
  },
  {
   "cell_type": "markdown",
   "metadata": {},
   "source": [
    "* F-벡터공간 V, W에 대하여 L: V → W가 선형사상에 대해서\n",
    "    * 핵(kernel): ker L = L-1(0 벡터) = {v ∈ V | L(v) = 0 벡터}\n",
    "    * 상(image): im L = L(V) = {L(v) ∈ W | v ∈ V}\n",
    "* 핵은 벡터공간 V의 원소 벡터 v가 선형사상을 통해서 0 벡터를 만드는 원소 벡터 v의 집합이다\n",
    "* 상은 벡터공간 V의 원소 벡터 v가 선형사상을 통해 변화된 벡터공간 W의 원소 집합이다. 사실상 치역에 해당한다"
   ]
  },
  {
   "cell_type": "markdown",
   "metadata": {},
   "source": [
    "### 사상의 종류"
   ]
  },
  {
   "cell_type": "markdown",
   "metadata": {},
   "source": [
    "* 자기사상: V = W인 선형사상 L\n",
    "    * 정의역과 공역이 같은 선형사상\n",
    "    * L(v) = v인 항등사상과는 다르다\n",
    "* 단사사상: L(u) = L(v) ⇒ u = v 인 선형사상 L \n",
    "    * 벡터공간 V의 원소 벡터 u와 v에 대해서 선형사상한 결과 L(u)와 L(v)의 값이 다르다\n",
    "* 전사사상: L(V) = W인 선형사상 L\n",
    "    * 공역과 치역이 같은 선형사상 L\n",
    "* 동형사상: 단사사상이면서 전사사상인 선형사상 L\n",
    "* 자기동형사상: 자기사상이면서 동형사상인 선형사상 L\n",
    "* 항등사상: L(v) = v인 선형사상 L\n",
    "    * IV로 표기하기도 한다"
   ]
  },
  {
   "cell_type": "markdown",
   "metadata": {},
   "source": [
    "### 사상의 합성과 역사상"
   ]
  },
  {
   "cell_type": "markdown",
   "metadata": {},
   "source": [
    "* 합성: 사상의 합성은 두 선형사상 L1와 L2를 합성\n",
    "    * L1: V → U 이고 L2: U → W 일 때 L2 ○ L1: V → W 로 쓴다\n",
    "* 역사상: 사상의 합성으로 항등사상이 만들어지는 경우. 왼쪽 역사상과 오른쪽 역사상이 있으며 왼쪽 역사상과 오른쪽 역사상을 모두 만족할때 양쪽 역사상(=역사상)이라고한다.\n",
    "    * L2 ○ L1 = IV 일때 L2는 L1의 왼쪽 역사상이고 L1은 L2의 오른쪽 역사상이다"
   ]
  },
  {
   "cell_type": "markdown",
   "metadata": {},
   "source": [
    "## 1.2. 여러 선형사상 <a id=\"1.2\"></a>\n",
    "<p style=\"text-align:right;\"><a href=\"#top\">🔝 top</a></p>"
   ]
  },
  {
   "cell_type": "markdown",
   "metadata": {},
   "source": [
    "### 여러 선형사상과 증명"
   ]
  },
  {
   "cell_type": "markdown",
   "metadata": {},
   "source": [
    "<img src=\"./figure/여러 선형사상.png\"/>"
   ]
  },
  {
   "cell_type": "markdown",
   "metadata": {},
   "source": [
    "# 2. 선형대수학의 기본정리<a id=\"2\"></a>\n",
    "<p style=\"text-align:right;\"><a href=\"#top\">🔝 top</a></p>"
   ]
  },
  {
   "cell_type": "markdown",
   "metadata": {},
   "source": [
    "### 선형대수학의 기본정리가 가지는 의의"
   ]
  },
  {
   "cell_type": "markdown",
   "metadata": {},
   "source": [
    "* 선형사상을 원소로 가지는 집합의 대수구조를 파악한다 → 벡터공간이다\n",
    "* 행렬을 원소로 가지는 집합의 대수구조를 파악한다 → 벡터공간이다\n",
    "* 선형사상을 원소로 가지는 집합과 행렬을 원소로 가지는 집합은 모두 벡터공간으로 사상을 정의한다. \n",
    "    * 선형사상에서 행렬로 가는 사상 f \n",
    "    * 행렬에서 선형사상으로 가는 사상 g\n",
    "* f와 g는 모두 동형사상이며, f와 g는 역사상관계이다\n",
    "    * 동형사상의 정의상 정의역은 모두 다른 공역의 원소에 대응하고(단사사상), 공역과 치역이 같다(전사사상)\n",
    "    * 따라서 선형 사상과 행렬은 동일한 대수구조로 원소는 다르더라도 같은 원리로 이해할 수 있다\n",
    "* 결론적으로 선형사상은 행렬이다"
   ]
  },
  {
   "cell_type": "markdown",
   "metadata": {},
   "source": [
    "### 선형대수학의 기본정리"
   ]
  },
  {
   "cell_type": "markdown",
   "metadata": {},
   "source": [
    "<img src=\"./figure/벡터공간 판별.png\"/>"
   ]
  },
  {
   "cell_type": "markdown",
   "metadata": {},
   "source": [
    "## 2.2. 선형생성<a id=\"2.2\"></a>\n",
    "<p style=\"text-align:right;\"><a href=\"#top\">🔝 top</a></p>"
   ]
  },
  {
   "cell_type": "markdown",
   "metadata": {},
   "source": [
    "### 부분벡터공간"
   ]
  },
  {
   "cell_type": "markdown",
   "metadata": {},
   "source": [
    "* 벡터공간 V의 부분집합 W에 대해서, <u>W가 벡터공간 조건을 만족</u>할 때 V의 부분집합 W를 V의 부분벡터공간 또는 부분공간이라고 한다\n",
    "    * (W, +)는 아벨군이며 체 F에 대해서 (W, +, ·)는 가군이다"
   ]
  },
  {
   "cell_type": "markdown",
   "metadata": {},
   "source": [
    "### (선형)생성"
   ]
  },
  {
   "cell_type": "markdown",
   "metadata": {},
   "source": [
    "* 벡터공간 V의 공집합이 아닌 부분집합 S를 구한다.\n",
    "    * S의 원소는 벡터공간 V의 원소로서 벡터이다\n",
    "* S의 원소들로 가능한 모든 선형 결합을 통해 V의 부분벡터공간을 생성한다\n",
    "* 이렇게 생성된 부분벡터공간을 S의 (선형)생성 span(S)라고 하며 S가 span(S)를 생성한다고 표현한다"
   ]
  },
  {
   "cell_type": "markdown",
   "metadata": {},
   "source": [
    "<img src=\"./figure/선형생성.png\"/>"
   ]
  },
  {
   "cell_type": "markdown",
   "metadata": {},
   "source": [
    "## 2.3. 선형독립<a id=\"2.3\"></a>\n",
    "<p style=\"text-align:right;\"><a href=\"#top\">🔝 top</a></p>"
   ]
  },
  {
   "cell_type": "markdown",
   "metadata": {},
   "source": [
    "### 선형독립"
   ]
  },
  {
   "cell_type": "markdown",
   "metadata": {},
   "source": [
    "* 벡터공간 V의 공집합이 아닌 부분집합 S를 구한다.\n",
    "    * S의 원소는 벡터공간 V의 원소로서 벡터이다\n",
    "* 선형독립: S의 벡터 원소들의 선형결합으로 0벡터를 만드는 방법이 모든 스칼라가 0인 경우밖에 없다.\n",
    "* 선형종속: S의 벡터 원소들의 선형결합으로 0벡터를 만드는 방법이 모든 스칼라가 0인 경우외의 다른 방법이 있다."
   ]
  },
  {
   "cell_type": "markdown",
   "metadata": {},
   "source": [
    "<img src=\"./figure/선형독립.png\"/>"
   ]
  },
  {
   "cell_type": "markdown",
   "metadata": {},
   "source": [
    "# 3. 여러 벡터공간<a id=\"3\"></a>\n",
    "<p style=\"text-align:right;\"><a href=\"#top\">🔝 top</a></p>"
   ]
  },
  {
   "cell_type": "markdown",
   "metadata": {},
   "source": [
    "## 3.1. 노름공간<a id=\"3.1\"></a>\n",
    "<p style=\"text-align:right;\"><a href=\"#top\">🔝 top</a></p>"
   ]
  },
  {
   "cell_type": "markdown",
   "metadata": {},
   "source": [
    "### 노름공간 (norm space)"
   ]
  },
  {
   "cell_type": "markdown",
   "metadata": {},
   "source": [
    "* K-벡터 공간에 노름(norm) 연산이 추가된 대수구조\n",
    "    * K ∈ { ℝ, ℂ } 스칼라 값은 실수 또는 복소수 공간에서만 정의된다\n",
    "* 벡터 공간 V에 대해서 norm 연산 || ||이 추가되었다. (V, ||·||)\n",
    "* ||·||: V → [0, ∞) 인 함수이며 다음과 같은 조건을 만족한다<br>\n",
    "    * ||kv|| = |k| ||v||\n",
    "    * ||u +v|| ≤ ||u|| + ||v||\n",
    "    * ||v|| = 0 ⟺ v = 0벡터"
   ]
  },
  {
   "cell_type": "markdown",
   "metadata": {},
   "source": [
    "## 3.2. 내적공간<a id=\"3.2\"></a>\n",
    "<p style=\"text-align:right;\"><a href=\"#top\">🔝 top</a></p>"
   ]
  },
  {
   "cell_type": "markdown",
   "metadata": {},
   "source": [
    "### 내적공간 (norm space)"
   ]
  },
  {
   "cell_type": "markdown",
   "metadata": {},
   "source": [
    "* K-벡터 공간에 내적 연산이 추가된 대수구조\n",
    "    * K ∈ { ℝ, ℂ } 스칼라 값은 실수 또는 복소수 공간에서만 정의된다\n",
    "    * 체의 원소를 스칼라로 사용하는 벡터 공간이 아닌 실수와 복소수에서만 스칼라는 정의하는 것은 내적 연산은 위해서는 특수한 조건이 필요하기 때문이다.\n",
    "* 내적공간은 사실상 노름공간을 포함하는 상위 개념이다\n",
    "    * 내적공간에서 노름 연산을 정의할 수 있다. (자기 자신에 대학 내적을 기반으로 놈 구할 수 있다)\n",
    "    * 하지만 노름공간에서 내적 연산을 위해서는 특수한 조건이 필요하다\n",
    "* 벡터 공간 V에 대해서 내적 연산 <,>이 추가되었다. (V, <·,·>)\n",
    "    * <,>는 범용 내적 표기법으로 스칼라가 실수인 경우 ·를 특수하게 사용할 수 있다\n",
    "* <·,·>: V x V → K 인 함수이며 다음과 같은 조건을 만족한다\n",
    "    * <u + v, w> = <u, w> + < v, w>\n",
    "    * <ku, v> = k<v, u>\n",
    "    * <u, v> = <v, u>\n",
    "    * v ≠ 0벡터 ⇒ <v, v> (= ||v|| 제곱 ) > 0 "
   ]
  },
  {
   "cell_type": "markdown",
   "metadata": {},
   "source": [
    "## 3.3. 내적공간<a id=\"3.3\"></a>\n",
    "<p style=\"text-align:right;\"><a href=\"#top\">🔝 top</a></p>"
   ]
  },
  {
   "cell_type": "markdown",
   "metadata": {},
   "source": [
    "### 유클리드공간 (norm space)"
   ]
  },
  {
   "cell_type": "markdown",
   "metadata": {},
   "source": [
    "* n차원 실수 벡터 공간 Rn을 유클리드 공간이라고 한다\n",
    "* 유클리드공간에서의 내적은 점곱 스칼라곱이라고 부르며 범용 내적 표기 <> 대신 ·를 사용할 수 있다"
   ]
  },
  {
   "cell_type": "markdown",
   "metadata": {},
   "source": [
    "# 4. 기저와 차원<a id=\"4\"></a>\n",
    "<p style=\"text-align:right;\"><a href=\"#top\">🔝 top</a></p>"
   ]
  },
  {
   "cell_type": "markdown",
   "metadata": {},
   "source": [
    "### 기저와 차원의 정의"
   ]
  },
  {
   "cell_type": "markdown",
   "metadata": {},
   "source": [
    "* 기저: 벡터 공간 V의 부분집합 B가 선형독립이면서 V를 생성할 때 B를 V의 기저라고 한다\n",
    "* 차원: B가 벡터 공간 V의 기저일때, B의 원소의 개수는 V의 차원 dim(V)가 된다"
   ]
  },
  {
   "cell_type": "markdown",
   "metadata": {},
   "source": [
    "<img src=\"./figure/기저와 차원.png\"/>"
   ]
  },
  {
   "cell_type": "markdown",
   "metadata": {},
   "source": [
    "### 기저의 종류"
   ]
  },
  {
   "cell_type": "markdown",
   "metadata": {},
   "source": [
    "* 벡터공간 V에 대한 기저는 무한히 생길 수 있다. 이중 특수한 성격을 만족하는 기저로 정규기저, 직교기저, 정규직교기저가 있다\n",
    "    * 정규기저: 기저 B에 대해서 B의 놈이 1이다\n",
    "    * 직교기저: 기저 B에 대해서 B의 원소를 내적한 결과가 0이다 (기하학적으로 직교를 의미)\n",
    "    * 정규직교기저: 정규기저이면서 직교기저인 기저. 이 중 (1, 0, ..., 0), (0, 1, ..., 0), (0, 0, ..., 1)을 표준기저라고 한다"
   ]
  },
  {
   "cell_type": "markdown",
   "metadata": {},
   "source": [
    "<img src=\"./figure/기저종류.png\"/>"
   ]
  },
  {
   "cell_type": "markdown",
   "metadata": {},
   "source": [
    "<hr>"
   ]
  },
  {
   "cell_type": "markdown",
   "metadata": {},
   "source": [
    "## 연습문제 <a id=\"A\"></a>\n",
    "<p style=\"text-align:right;\"><a href=\"#top\">🔝 top</a></p>"
   ]
  },
  {
   "cell_type": "markdown",
   "metadata": {},
   "source": [
    "**1. 이번 강의에서 배운 대수구조들의 관계도를 작성하시오.**\n",
    "<br>"
   ]
  },
  {
   "cell_type": "markdown",
   "metadata": {},
   "source": [
    "[1. 대수구조](#1)에 정리되어 있다. "
   ]
  },
  {
   "cell_type": "markdown",
   "metadata": {},
   "source": [
    "**<br>2. 다음의 연산이 부여된 집합이 벡터공간인지 아닌지 판별하고, 아니라면 그 이유를 설명하시오.**"
   ]
  },
  {
   "cell_type": "markdown",
   "metadata": {},
   "source": [
    "**<br>(1) 표준적인 벡터덧셈과 아래의 스칼라배가 부여된 모든 실수 3-튜플(x, y, z)의 집합. k(x, y, z) = (k2x, k2y, k2z)**"
   ]
  },
  {
   "cell_type": "markdown",
   "metadata": {},
   "source": [
    "덧셈 연산에 대해서 (V, +)는 아벨군을 만족한다: 결합, 교환, 항등원 역원<br>\n",
    "곱셈 연산에 대해서 (V, +, *)는 가군을 만족하지 못한다: <br>\n",
    "(k + m)·(u + v) = (k + m)2 u + (k + m)2 v ≠ k2 u + m2 u + k2 v + m2 v"
   ]
  },
  {
   "cell_type": "markdown",
   "metadata": {},
   "source": [
    "**<br>(2) 표준적인 행렬덧셈과 스칼라배가 부여된 모든 ([a, 0], [0, b]) 꼴의 2x2 대각행렬 집합**"
   ]
  },
  {
   "cell_type": "markdown",
   "metadata": {},
   "source": [
    "덧셈 연산에 대해서 (V, +)는 아벨군을 만족한다: 결합, 교환, 항등원 역원<br>\n",
    "곱셈 연산에 대해서 (V, +, *)는 가군을 만족한다: 결합, 항등원 1, 분배법칙"
   ]
  },
  {
   "cell_type": "markdown",
   "metadata": {},
   "source": [
    "**<br>3. 벡터 u = (-1, 0, 1, 2), v = (2, 1, 3, 0), w = (3, -1, 2, 5)에 대하여 다음 중 span(u, v, w)의 벡터인 것을 모두 고르시오.<br>\n",
    "① (0, 0, 0, 0) ② (2, 2, 2, 2) ③ (3, 6, 7, -12) ④ (9, 0, 11, 12)**"
   ]
  },
  {
   "cell_type": "markdown",
   "metadata": {},
   "source": [
    "②를 만족하지 못하고 ①③④는 만족한다<br>\n",
    "①: 0u + 0v + 0w<br>\n",
    "③: -u + -2v + 4w<br>\n",
    "④: u + 5v + 5w<br>"
   ]
  },
  {
   "cell_type": "markdown",
   "metadata": {},
   "source": [
    "**<br>4. R4의 부분집합 {(2, 2, -6, -2), (2, 0, -2, 1), (3, 1, -5, 0)}가 선형독립인지 아닌지 판별하고, 아니라면 각 벡터를 나머지 두 벡터의 선형결합으로 표현하시오.**"
   ]
  },
  {
   "cell_type": "markdown",
   "metadata": {},
   "source": [
    "선형 독립이 아니며 z = 1/2x + y 이다"
   ]
  },
  {
   "cell_type": "markdown",
   "metadata": {},
   "source": [
    "**<br>5. R3에 대해서 정규지만 직교아닌, 직교지만 정규아닌, 정규직교인 기저의 예를 드시오.**"
   ]
  },
  {
   "cell_type": "markdown",
   "metadata": {},
   "source": [
    "정규지만 직교아닌 기저: {(1, 0, 0), (1/sqrt(3), 1/sqrt(3), 1/sqrt(3)), (0, 0, 1)}<br>\n",
    "직교지만 정규아닌 기저: {(1, 1, 1), (1, -1, 0), (-1, 1, 0)}<br>\n",
    "정규이면서 직교인 기저: {(1, 0, 0), (0, 1, 0), (0, 0, 1)}<br>"
   ]
  }
 ],
 "metadata": {
  "kernelspec": {
   "display_name": "Python 3",
   "language": "python",
   "name": "python3"
  },
  "language_info": {
   "codemirror_mode": {
    "name": "ipython",
    "version": 3
   },
   "file_extension": ".py",
   "mimetype": "text/x-python",
   "name": "python",
   "nbconvert_exporter": "python",
   "pygments_lexer": "ipython3",
   "version": "3.7.4"
  }
 },
 "nbformat": 4,
 "nbformat_minor": 4
}
