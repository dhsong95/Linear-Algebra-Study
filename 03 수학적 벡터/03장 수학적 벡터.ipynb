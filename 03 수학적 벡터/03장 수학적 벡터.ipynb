{
 "cells": [
  {
   "cell_type": "markdown",
   "metadata": {},
   "source": [
    "<center><h1>3강 수학적 벡터</h1></center>\n",
    "<hr>"
   ]
  },
  {
   "cell_type": "markdown",
   "metadata": {},
   "source": [
    "## Table of Contents <a id=\"top\"></a>"
   ]
  },
  {
   "cell_type": "markdown",
   "metadata": {},
   "source": [
    "1. [대수구조](#1)\n",
    "    1. [대수구조](#1.1)\n",
    "    2. [여러 대수구조](#1.2)\n",
    "2. [벡터공간](#2)\n",
    "    1. [벡터공간](#2.1)\n",
    "    2. [선형생성](#2.2)\n",
    "    3. [선형독립](#2.3)\n",
    "3. [여러 벡터공간](#3)\n",
    "    1. [노름공간](#3.1)\n",
    "    2. [내적공간](#3.2)\n",
    "    3. [유클리드공간](#3.3)\n",
    "4. [기저와 차원](#4)"
   ]
  },
  {
   "cell_type": "markdown",
   "metadata": {},
   "source": [
    "A. [연습문제](#A)"
   ]
  },
  {
   "cell_type": "markdown",
   "metadata": {},
   "source": [
    "<hr>"
   ]
  },
  {
   "cell_type": "code",
   "execution_count": 1,
   "metadata": {},
   "outputs": [],
   "source": [
    "import numpy as np\n",
    "\n",
    "from matplotlib import font_manager\n",
    "import matplotlib.pyplot as plt"
   ]
  },
  {
   "cell_type": "code",
   "execution_count": 2,
   "metadata": {},
   "outputs": [],
   "source": [
    "font_fname = './static/fonts/AppleGothic.ttf'\n",
    "font_family = font_manager.FontProperties(fname=font_fname).get_name()\n",
    "plt.rcParams['font.family'] = font_family\n",
    "plt.rcParams['font.size'] = 20"
   ]
  },
  {
   "cell_type": "code",
   "execution_count": 3,
   "metadata": {},
   "outputs": [],
   "source": [
    "%matplotlib inline"
   ]
  },
  {
   "cell_type": "markdown",
   "metadata": {},
   "source": [
    "# 1. 대수구조 <a id=\"1\"></a>\n",
    "<p style=\"text-align:right;\"><a href=\"#top\">🔝 top</a></p>"
   ]
  },
  {
   "cell_type": "markdown",
   "metadata": {},
   "source": [
    "## 1.1. 대수구조 <a id=\"1.1\"></a>\n",
    "<p style=\"text-align:right;\"><a href=\"#top\">🔝 top</a></p>"
   ]
  },
  {
   "cell_type": "markdown",
   "metadata": {},
   "source": [
    "### 대수학과 대수구조"
   ]
  },
  {
   "cell_type": "markdown",
   "metadata": {},
   "source": [
    "* 대수학의 \"대수\"는 \"수와 수를 대신할 수 있는 모든 것\"을 의미한다.\n",
    "* 대수학은 대수구조를 연구하는 학문이다.\n",
    "* 대수구조 = 집합 + 구조\n",
    "    * 집합: 수와 수를 대신할 수 있는 모든 것을 대상으로 만들어진 집합\n",
    "    * 구조: 집합에 부여된 연산과 여러가지 공리\n",
    "* 대수구조는 연산이 정의된 집합으로 이해할 수 있으며, 수학에서 \"연산\"이 차지하는 비중을 생각했을때 대수학은 수학에서 많은 비중을 차지한다고 할 수 있다."
   ]
  },
  {
   "cell_type": "markdown",
   "metadata": {},
   "source": [
    "### 대수학과 벡터"
   ]
  },
  {
   "cell_type": "markdown",
   "metadata": {},
   "source": [
    "* 벡터는 벡터공간을 만족하는 원소이며, 벡터공간은 대수구조 중 가군에 해당하므로 벡터는 대수학의 연구 대상이라고 할 수 있다.\n",
    "* 벡터를 통해 대수구조의 연구 방식을 파악하고 이를 확장한다는 의미에서 벡터를 다루는 선형대수는 대수학의 첫발걸음이라고 할 수 있다."
   ]
  },
  {
   "cell_type": "markdown",
   "metadata": {},
   "source": [
    "## 1.2. 여러 대수구조 <a id=\"1.2\"></a>\n",
    "<p style=\"text-align:right;\"><a href=\"#top\">🔝 top</a></p>"
   ]
  },
  {
   "cell_type": "markdown",
   "metadata": {},
   "source": [
    "### 대수구조의 종류"
   ]
  },
  {
   "cell_type": "markdown",
   "metadata": {},
   "source": [
    "<img src=\"./figure/대수구조표.png\"/>"
   ]
  },
  {
   "cell_type": "markdown",
   "metadata": {},
   "source": [
    "<img src=\"./figure/대수구조 비교.png\"/>"
   ]
  },
  {
   "cell_type": "markdown",
   "metadata": {},
   "source": [
    "# 2. 벡터공간<a id=\"2\"></a>\n",
    "<p style=\"text-align:right;\"><a href=\"#top\">🔝 top</a></p>"
   ]
  },
  {
   "cell_type": "markdown",
   "metadata": {},
   "source": [
    "## 2.1. 벡터공간<a id=\"2.1\"></a>\n",
    "<p style=\"text-align:right;\"><a href=\"#top\">🔝 top</a></p>"
   ]
  },
  {
   "cell_type": "markdown",
   "metadata": {},
   "source": [
    "### 벡터공간"
   ]
  },
  {
   "cell_type": "markdown",
   "metadata": {},
   "source": [
    "* 체 F에 대해서 가군(V, +, ·)을 벡터공간이라고 한다\n",
    "    * 벡터는 아벨군 V의 원소\n",
    "    * 스칼라는 체 F의 원소\n",
    "    * +는 벡터의 덧셈 연산을 의미한다\n",
    "    * ·는 스칼라배 연산을 의미한다"
   ]
  },
  {
   "cell_type": "markdown",
   "metadata": {},
   "source": [
    "### 벡터의 수학적 정의"
   ]
  },
  {
   "cell_type": "markdown",
   "metadata": {},
   "source": [
    "* 물리적, 기하학적 벡터의 정의에는 크기, 방향과 같은 정의내리기 어려운 개념이 포함되어 있다.\n",
    "* 수학적 벡터는 벡터공간을 만족하는 가군 집합의 원소이다.\n",
    "* 대수구조로 정의된 벡터는 벡터의 본질을 설명해줄 연산을 정의한다.\n",
    "    * 덧셈 연산은 벡터의 합성을 나타내기 위해 필요한 연산이다\n",
    "    * 스칼라배 연산은 벡터를 늘이고 줄임으로서 같은 방향인지를 판단하기 위해 필요한 연산이다.\n",
    "* 물리적, 기하학적 벡터에서 실수배로 표현되었던 연산은 스칼라배로 확대되었다.\n",
    "    * 수학적 벡터의 정의에서 스칼라는 체의 원소이다\n",
    "    * 체에는 실수집합뿐만 아니라 복소수집합까지 포함하여서 더 큰 범위를 나타낸다\n",
    "    * 물리적, 기하학적으로 설명하기 어렵지만 수학적 벡터에서는 실수가 아닌 복소수나 기타 체의 원소까지 스칼라배를 함으로서 일반적인 개념을 나타낼 수 있게 되었다."
   ]
  },
  {
   "cell_type": "markdown",
   "metadata": {},
   "source": [
    "### 벡터공간 조건 = 벡터공간 판별"
   ]
  },
  {
   "cell_type": "markdown",
   "metadata": {},
   "source": [
    "* 벡터공간은 집합 V에 대해서 덧셈 연산이 아벨군을 만족하고, 체 F의 원소와의 곱셈을 정의하여서 가군을 만족하는 대수구조이다\n",
    "    * (V,+)는 아벨군이다.\n",
    "    * (V, +, ·)는 체 F의 가군이다."
   ]
  },
  {
   "cell_type": "markdown",
   "metadata": {},
   "source": [
    "<img src=\"./figure/벡터공간 판별.png\"/>"
   ]
  },
  {
   "cell_type": "markdown",
   "metadata": {},
   "source": [
    "## 2.2. 선형생성<a id=\"2.2\"></a>\n",
    "<p style=\"text-align:right;\"><a href=\"#top\">🔝 top</a></p>"
   ]
  },
  {
   "cell_type": "markdown",
   "metadata": {},
   "source": [
    "### 부분벡터공간"
   ]
  },
  {
   "cell_type": "markdown",
   "metadata": {},
   "source": [
    "* 벡터공간 V의 부분집합 W에 대해서, <u>W가 벡터공간 조건을 만족</u>할 때 V의 부분집합 W를 V의 부분벡터공간 또는 부분공간이라고 한다\n",
    "    * (W, +)는 아벨군이며 체 F에 대해서 (W, +, ·)는 가군이다"
   ]
  },
  {
   "cell_type": "markdown",
   "metadata": {},
   "source": [
    "### (선형)생성"
   ]
  },
  {
   "cell_type": "markdown",
   "metadata": {},
   "source": [
    "* 벡터공간 V의 공집합이 아닌 부분집합 S를 구한다.\n",
    "    * S의 원소는 벡터공간 V의 원소로서 벡터이다\n",
    "* S의 원소들로 가능한 모든 선형 결합을 통해 V의 부분벡터공간을 생성한다\n",
    "* 이렇게 생성된 부분벡터공간을 S의 (선형)생성 span(S)라고 하며 S가 span(S)를 생성한다고 표현한다"
   ]
  },
  {
   "cell_type": "markdown",
   "metadata": {},
   "source": [
    "<img src=\"./figure/선형생성.png\"/>"
   ]
  },
  {
   "cell_type": "markdown",
   "metadata": {},
   "source": [
    "## 2.3. 선형독립<a id=\"2.3\"></a>\n",
    "<p style=\"text-align:right;\"><a href=\"#top\">🔝 top</a></p>"
   ]
  },
  {
   "cell_type": "markdown",
   "metadata": {},
   "source": [
    "### 선형독립"
   ]
  },
  {
   "cell_type": "markdown",
   "metadata": {},
   "source": [
    "* 벡터공간 V의 공집합이 아닌 부분집합 S를 구한다.\n",
    "    * S의 원소는 벡터공간 V의 원소로서 벡터이다\n",
    "* 선형독립: S의 벡터 원소들의 선형결합으로 0벡터를 만드는 방법이 모든 스칼라가 0인 경우밖에 없다.\n",
    "* 선형종속: S의 벡터 원소들의 선형결합으로 0벡터를 만드는 방법이 모든 스칼라가 0인 경우외의 다른 방법이 있다."
   ]
  },
  {
   "cell_type": "markdown",
   "metadata": {},
   "source": [
    "<img src=\"./figure/선형독립.png\"/>"
   ]
  },
  {
   "cell_type": "markdown",
   "metadata": {},
   "source": [
    "# 3. 여러 벡터공간<a id=\"3\"></a>\n",
    "<p style=\"text-align:right;\"><a href=\"#top\">🔝 top</a></p>"
   ]
  },
  {
   "cell_type": "markdown",
   "metadata": {},
   "source": [
    "## 3.1. 노름공간<a id=\"3.1\"></a>\n",
    "<p style=\"text-align:right;\"><a href=\"#top\">🔝 top</a></p>"
   ]
  },
  {
   "cell_type": "markdown",
   "metadata": {},
   "source": [
    "### 노름공간 (norm space)"
   ]
  },
  {
   "cell_type": "markdown",
   "metadata": {},
   "source": [
    "* K-벡터 공간에 노름(norm) 연산이 추가된 대수구조\n",
    "    * K ∈ { ℝ, ℂ } 스칼라 값은 실수 또는 복소수 공간에서만 정의된다\n",
    "* 벡터 공간 V에 대해서 norm 연산 || ||이 추가되었다. (V, ||·||)\n",
    "* ||·||: V → [0, ∞) 인 함수이며 다음과 같은 조건을 만족한다<br>\n",
    "    * ||kv|| = |k| ||v||\n",
    "    * ||u +v|| ≤ ||u|| + ||v||\n",
    "    * ||v|| = 0 ⟺ v = 0벡터"
   ]
  },
  {
   "cell_type": "markdown",
   "metadata": {},
   "source": [
    "## 3.2. 내적공간<a id=\"3.2\"></a>\n",
    "<p style=\"text-align:right;\"><a href=\"#top\">🔝 top</a></p>"
   ]
  },
  {
   "cell_type": "markdown",
   "metadata": {},
   "source": [
    "### 내적공간 (norm space)"
   ]
  },
  {
   "cell_type": "markdown",
   "metadata": {},
   "source": [
    "* K-벡터 공간에 내적 연산이 추가된 대수구조\n",
    "    * K ∈ { ℝ, ℂ } 스칼라 값은 실수 또는 복소수 공간에서만 정의된다\n",
    "    * 체의 원소를 스칼라로 사용하는 벡터 공간이 아닌 실수와 복소수에서만 스칼라는 정의하는 것은 내적 연산은 위해서는 특수한 조건이 필요하기 때문이다.\n",
    "* 내적공간은 사실상 노름공간을 포함하는 상위 개념이다\n",
    "    * 내적공간에서 노름 연산을 정의할 수 있다. (자기 자신에 대학 내적을 기반으로 놈 구할 수 있다)\n",
    "    * 하지만 노름공간에서 내적 연산을 위해서는 특수한 조건이 필요하다\n",
    "* 벡터 공간 V에 대해서 내적 연산 <,>이 추가되었다. (V, <·,·>)\n",
    "    * <,>는 범용 내적 표기법으로 스칼라가 실수인 경우 ·를 특수하게 사용할 수 있다\n",
    "* <·,·>: V x V → K 인 함수이며 다음과 같은 조건을 만족한다\n",
    "    * <u + v, w> = <u, w> + < v, w>\n",
    "    * <ku, v> = k<v, u>\n",
    "    * <u, v> = <v, u>\n",
    "    * v ≠ 0벡터 ⇒ <v, v> (= ||v|| 제곱 ) > 0 "
   ]
  },
  {
   "cell_type": "markdown",
   "metadata": {},
   "source": [
    "## 3.3. 내적공간<a id=\"3.3\"></a>\n",
    "<p style=\"text-align:right;\"><a href=\"#top\">🔝 top</a></p>"
   ]
  },
  {
   "cell_type": "markdown",
   "metadata": {},
   "source": [
    "### 유클리드공간 (norm space)"
   ]
  },
  {
   "cell_type": "markdown",
   "metadata": {},
   "source": [
    "* n차원 실수 벡터 공간 Rn을 유클리드 공간이라고 한다\n",
    "* 유클리드공간에서의 내적은 점곱 스칼라곱이라고 부르며 범용 내적 표기 <> 대신 ·를 사용할 수 있다"
   ]
  },
  {
   "cell_type": "markdown",
   "metadata": {},
   "source": [
    "# 4. 기저와 차원<a id=\"4\"></a>\n",
    "<p style=\"text-align:right;\"><a href=\"#top\">🔝 top</a></p>"
   ]
  },
  {
   "cell_type": "markdown",
   "metadata": {},
   "source": [
    "### 기저와 차원의 정의"
   ]
  },
  {
   "cell_type": "markdown",
   "metadata": {},
   "source": [
    "* 기저: 벡터 공간 V의 부분집합 B가 선형독립이면서 V를 생성할 때 B를 V의 기저라고 한다\n",
    "* 차원: B가 벡터 공간 V의 기저일때, B의 원소의 개수는 V의 차원 dim(V)가 된다"
   ]
  },
  {
   "cell_type": "markdown",
   "metadata": {},
   "source": [
    "<img src=\"./figure/기저와 차원.png\"/>"
   ]
  },
  {
   "cell_type": "markdown",
   "metadata": {},
   "source": [
    "### 기저의 종류"
   ]
  },
  {
   "cell_type": "markdown",
   "metadata": {},
   "source": [
    "* 벡터공간 V에 대한 기저는 무한히 생길 수 있다. 이중 특수한 성격을 만족하는 기저로 정규기저, 직교기저, 정규직교기저가 있다\n",
    "    * 정규기저: 기저 B에 대해서 B의 놈이 1이다\n",
    "    * 직교기저: 기저 B에 대해서 B의 원소를 내적한 결과가 0이다 (기하학적으로 직교를 의미)\n",
    "    * 정규직교기저: 정규기저이면서 직교기저인 기저. 이 중 (1, 0, ..., 0), (0, 1, ..., 0), (0, 0, ..., 1)을 표준기저라고 한다"
   ]
  },
  {
   "cell_type": "markdown",
   "metadata": {},
   "source": [
    "<img src=\"./figure/기저종류.png\"/>"
   ]
  },
  {
   "cell_type": "markdown",
   "metadata": {},
   "source": [
    "<hr>"
   ]
  },
  {
   "cell_type": "markdown",
   "metadata": {},
   "source": [
    "## 연습문제 <a id=\"A\"></a>\n",
    "<p style=\"text-align:right;\"><a href=\"#top\">🔝 top</a></p>"
   ]
  },
  {
   "cell_type": "markdown",
   "metadata": {},
   "source": [
    "**1. 이번 강의에서 배운 대수구조들의 관계도를 작성하시오.**\n",
    "<br>"
   ]
  },
  {
   "cell_type": "markdown",
   "metadata": {},
   "source": [
    "[1. 대수구조](#1)에 정리되어 있다. "
   ]
  },
  {
   "cell_type": "markdown",
   "metadata": {},
   "source": [
    "**<br>2. 다음의 연산이 부여된 집합이 벡터공간인지 아닌지 판별하고, 아니라면 그 이유를 설명하시오.**"
   ]
  },
  {
   "cell_type": "markdown",
   "metadata": {},
   "source": [
    "**<br>(1) 표준적인 벡터덧셈과 아래의 스칼라배가 부여된 모든 실수 3-튜플(x, y, z)의 집합. k(x, y, z) = (k2x, k2y, k2z)**"
   ]
  },
  {
   "cell_type": "markdown",
   "metadata": {},
   "source": [
    "덧셈 연산에 대해서 (V, +)는 아벨군을 만족한다: 결합, 교환, 항등원 역원<br>\n",
    "곱셈 연산에 대해서 (V, +, *)는 가군을 만족하지 못한다: <br>\n",
    "(k + m)·(u + v) = (k + m)2 u + (k + m)2 v ≠ k2 u + m2 u + k2 v + m2 v"
   ]
  },
  {
   "cell_type": "markdown",
   "metadata": {},
   "source": [
    "**<br>(2) 표준적인 행렬덧셈과 스칼라배가 부여된 모든 ([a, 0], [0, b]) 꼴의 2x2 대각행렬 집합**"
   ]
  },
  {
   "cell_type": "markdown",
   "metadata": {},
   "source": [
    "덧셈 연산에 대해서 (V, +)는 아벨군을 만족한다: 결합, 교환, 항등원 역원<br>\n",
    "곱셈 연산에 대해서 (V, +, *)는 가군을 만족한다: 결합, 항등원 1, 분배법칙"
   ]
  },
  {
   "cell_type": "markdown",
   "metadata": {},
   "source": [
    "**<br>3. 벡터 u = (-1, 0, 1, 2), v = (2, 1, 3, 0), w = (3, -1, 2, 5)에 대하여 다음 중 span(u, v, w)의 벡터인 것을 모두 고르시오.<br>\n",
    "① (0, 0, 0, 0) ② (2, 2, 2, 2) ③ (3, 6, 7, -12) ④ (9, 0, 11, 12)**"
   ]
  },
  {
   "cell_type": "markdown",
   "metadata": {},
   "source": [
    "②를 만족하지 못하고 ①③④는 만족한다<br>\n",
    "①: 0u + 0v + 0w<br>\n",
    "③: -u + -2v + 4w<br>\n",
    "④: u + 5v + 5w<br>"
   ]
  },
  {
   "cell_type": "markdown",
   "metadata": {},
   "source": [
    "**<br>4. R4의 부분집합 {(2, 2, -6, -2), (2, 0, -2, 1), (3, 1, -5, 0)}가 선형독립인지 아닌지 판별하고, 아니라면 각 벡터를 나머지 두 벡터의 선형결합으로 표현하시오.**"
   ]
  },
  {
   "cell_type": "markdown",
   "metadata": {},
   "source": [
    "선형 독립이 아니며 z = 1/2x + y 이다"
   ]
  },
  {
   "cell_type": "markdown",
   "metadata": {},
   "source": [
    "**<br>5. R3에 대해서 정규지만 직교아닌, 직교지만 정규아닌, 정규직교인 기저의 예를 드시오.**"
   ]
  },
  {
   "cell_type": "markdown",
   "metadata": {},
   "source": [
    "정규지만 직교아닌 기저: {(1, 0, 0), (1/sqrt(3), 1/sqrt(3), 1/sqrt(3)), (0, 0, 1)}<br>\n",
    "직교지만 정규아닌 기저: {(1, 1, 1), (1, -1, 0), (-1, 1, 0)}<br>\n",
    "정규이면서 직교인 기저: {(1, 0, 0), (0, 1, 0), (0, 0, 1)}<br>"
   ]
  }
 ],
 "metadata": {
  "kernelspec": {
   "display_name": "Python 3",
   "language": "python",
   "name": "python3"
  },
  "language_info": {
   "codemirror_mode": {
    "name": "ipython",
    "version": 3
   },
   "file_extension": ".py",
   "mimetype": "text/x-python",
   "name": "python",
   "nbconvert_exporter": "python",
   "pygments_lexer": "ipython3",
   "version": "3.7.4"
  }
 },
 "nbformat": 4,
 "nbformat_minor": 4
}
