{
 "cells": [
  {
   "cell_type": "markdown",
   "metadata": {},
   "source": [
    "<center><h1>6강 복소벡터공간</h1></center>\n",
    "<hr>"
   ]
  },
  {
   "cell_type": "markdown",
   "metadata": {},
   "source": [
    "## Table of Contents <a id=\"top\"></a>"
   ]
  },
  {
   "cell_type": "markdown",
   "metadata": {},
   "source": [
    "1. [복소벡터공간](#1)\n",
    "    1. [정의](#1.1)\n",
    "    2. [복소켤레](#1.2)\n",
    "    3. [대수적 성질](#1.3)\n",
    "2. [복소내적공간](#2)\n",
    "    1. [정의](#2.1)\n",
    "    2. [성질](#2.2)\n",
    "3. [고윳값과 벡터](#3)\n",
    "4. [유니터리 대각화](#4)\n",
    "    1. [용어의 정의](#4.1)\n",
    "    2. [유니터리 대각화](#4.2)"
   ]
  },
  {
   "cell_type": "markdown",
   "metadata": {},
   "source": [
    "A. [연습문제](#A)"
   ]
  },
  {
   "cell_type": "markdown",
   "metadata": {},
   "source": [
    "<hr>"
   ]
  },
  {
   "cell_type": "code",
   "execution_count": 1,
   "metadata": {},
   "outputs": [],
   "source": [
    "import numpy as np\n",
    "\n",
    "from matplotlib import font_manager\n",
    "import matplotlib.pyplot as plt"
   ]
  },
  {
   "cell_type": "code",
   "execution_count": 2,
   "metadata": {},
   "outputs": [],
   "source": [
    "font_fname = './static/fonts/AppleGothic.ttf'\n",
    "font_family = font_manager.FontProperties(fname=font_fname).get_name()\n",
    "plt.rcParams['font.family'] = font_family\n",
    "plt.rcParams['font.size'] = 20"
   ]
  },
  {
   "cell_type": "code",
   "execution_count": 3,
   "metadata": {},
   "outputs": [],
   "source": [
    "%matplotlib inline"
   ]
  },
  {
   "cell_type": "markdown",
   "metadata": {},
   "source": [
    "# 1. 복소벡터공간 <a id=\"1\"></a>\n",
    "<p style=\"text-align:right;\"><a href=\"#top\">🔝 top</a></p>"
   ]
  },
  {
   "cell_type": "markdown",
   "metadata": {},
   "source": [
    "## 1.1. 정의 <a id=\"1.1\"></a>\n",
    "<p style=\"text-align:right;\"><a href=\"#top\">🔝 top</a></p>"
   ]
  },
  {
   "cell_type": "markdown",
   "metadata": {},
   "source": [
    "### 복소벡터공간의 등장"
   ]
  },
  {
   "cell_type": "markdown",
   "metadata": {},
   "source": [
    "* 벡터공간의 정의상 스칼라는 체의 원소이다.\n",
    "    * 스칼라 연산은 곱셈, 나눗셈 뿐만이 아니라 아벨군의 원소와의 덧셈과 뺄셈까지도 자유로워야한다. \n",
    "    * 따라서 사칙연산이 자유로운 체 대수구조에서 스칼라를 가져온다\n",
    "* 지금까지 스칼라는 실수 스칼라만을 생각했지만 복소수집합도 체 대수구조이므로 복소수 스칼라도 사용할 수 있다\n",
    "* 같은 벡터 공간이므로 본질적으로 실수 벡터공간과 복소벡터공간은 동일하지만 연산이 정의되는 것이 약간 다르다(복소수 체계를 고려)\n",
    "    * 사실 실수 벡터 공간이 특수한 경우이고, 복소벡터공간이 일반적인 경우이다. \n",
    "    * 예를 들어, 내적을 정의하는 방식에서 복소벡터공간은 켤레 개념을 사용하는데, 실수에서는 켤레가 의미가 없으므로 좀 더 간소화된 식을 사용할 수 있다"
   ]
  },
  {
   "cell_type": "markdown",
   "metadata": {},
   "source": [
    "### 복소벡터공간의 정의"
   ]
  },
  {
   "cell_type": "markdown",
   "metadata": {},
   "source": [
    "* 복소수체 ℂ에 대한 가군. 즉 적당한 집합 V에 대해 벡터공간 (V, ℂ, +, ·) 를 복소벡터공간이라고 한다\n",
    "    * 스칼라가 복소수인 벡터공간\n",
    "* 벡터는 일반적으로 튜플(순서열)로 표현하며 n-튜플 (v1, v2, ..., vn)의 집합을 복소 n-공간이라하고 ℂn으로 표시한다"
   ]
  },
  {
   "cell_type": "markdown",
   "metadata": {},
   "source": [
    "## 1.2.복소켤레 <a id=\"1.2\"></a>\n",
    "<p style=\"text-align:right;\"><a href=\"#top\">🔝 top</a></p>"
   ]
  },
  {
   "cell_type": "markdown",
   "metadata": {},
   "source": [
    "### 복소벡터와 복소켤레"
   ]
  },
  {
   "cell_type": "markdown",
   "metadata": {},
   "source": [
    "* ℂn의 임의의 벡터 v = (v1, v2, ..., vn)은 실수부와 허수부로 나눌 수 있다\n",
    "    * (v1, v2, ..., vn) = (a1 + b1i, a2 + b2i, ..., an + bni) = (a1, a2, ..., an) + i(b1, b2, ..., bn) = Re(v) + i Im(v)\n",
    "    * 이때 실수부 Re(v) = (a1, a2, ..., an) 이고 허수부 Im(v) = (b1, b2, ..., bn) 이다\n",
    "* 임의의 벡터 v의 복소켤레는 허수부에 대한 부호가 반대인 벡터이다\n",
    "    * v = Re(v) + i Im(v) 일때 v^(-) = Re(v) - i Im(v) 이다"
   ]
  },
  {
   "cell_type": "markdown",
   "metadata": {},
   "source": [
    "<img src=\"./figure/복소켤레.png\"/>"
   ]
  },
  {
   "cell_type": "markdown",
   "metadata": {},
   "source": [
    "## 1.3. 대수적 성질 <a id=\"1.3\"></a>\n",
    "<p style=\"text-align:right;\"><a href=\"#top\">🔝 top</a></p>"
   ]
  },
  {
   "cell_type": "markdown",
   "metadata": {},
   "source": [
    "### 복소벡터공간에서 대수적 성질"
   ]
  },
  {
   "cell_type": "markdown",
   "metadata": {},
   "source": [
    "<img src=\"./figure/복소벡터공간 성질.png\"/>"
   ]
  },
  {
   "cell_type": "markdown",
   "metadata": {},
   "source": [
    "# 2. 복소내적공간<a id=\"2\"></a>\n",
    "<p style=\"text-align:right;\"><a href=\"#top\">🔝 top</a></p>"
   ]
  },
  {
   "cell_type": "markdown",
   "metadata": {},
   "source": [
    "## 2.1. 정의<a id=\"2.1\"></a>\n",
    "<p style=\"text-align:right;\"><a href=\"#top\">🔝 top</a></p>"
   ]
  },
  {
   "cell_type": "markdown",
   "metadata": {},
   "source": [
    "### 복소내적공간 정의"
   ]
  },
  {
   "cell_type": "markdown",
   "metadata": {},
   "source": [
    "* 복소벡터공간의 내적 연산은 켤레 복소 벡터 성분과 곱한다.\n",
    "    * 내적 연산을 활용해서 놈(norm)을 구할 때 켤레 복소 벡터 성분과 곱하지 않으면 놈의 값이 0 또는 음수가 나오는 비정상적인 상황이 발생\n",
    "    * 사실 복소벡터 공간의 내적 연산이 정식 표현이고 실수에서는 켤레의 의미가 없어지므로 특수한 형태이자 간소화된 형태로 내적 연산을 수행했던 것이다\n",
    "* 복소벡터공간 (V, ℂ, +, ·) 의 두 벡터 u=(u1, u2, ..., un), v=(v1, v2, ..., vn)의 내적\n",
    "    * 벡터 u와 벡터 v 내적 <u, v>: V x V → ℂ \n",
    "    * <u, v> = u1(v1-) + u2(v2-) + ... + un(vn-)"
   ]
  },
  {
   "cell_type": "markdown",
   "metadata": {},
   "source": [
    "<img src=\"./figure/내적연산.png\"/>"
   ]
  },
  {
   "cell_type": "markdown",
   "metadata": {},
   "source": [
    "## 2.2. 성질<a id=\"2.2\"></a>\n",
    "<p style=\"text-align:right;\"><a href=\"#top\">🔝 top</a></p>"
   ]
  },
  {
   "cell_type": "markdown",
   "metadata": {},
   "source": [
    "### 복소내적공간에서 대수적 성질"
   ]
  },
  {
   "cell_type": "markdown",
   "metadata": {},
   "source": [
    "<img src=\"./figure/복소내적벡터공간 성질.png\"/>"
   ]
  },
  {
   "cell_type": "markdown",
   "metadata": {},
   "source": [
    "# 3. 고윳값과 벡터<a id=\"3\"></a>\n",
    "<p style=\"text-align:right;\"><a href=\"#top\">🔝 top</a></p>"
   ]
  },
  {
   "cell_type": "markdown",
   "metadata": {},
   "source": [
    "### 복소벡터공간에서 고윳값 구하기"
   ]
  },
  {
   "cell_type": "markdown",
   "metadata": {},
   "source": [
    "* 복소정사각행렬 A의 고윳값: 행렬 A에 대한 고유방정식 det(λIn-A)=0 을 만족하는 복소해\n",
    "* 복소정사각행렬 A의 고유공간: Av=λv를 만족시키는 벡터 v의 집합\n",
    "* 복소정사각행렬 A의 고유벡터: 고유공간에서 0벡터가 아닌 벡터"
   ]
  },
  {
   "cell_type": "markdown",
   "metadata": {},
   "source": [
    "<img src=\"./figure/고윳값 구하기.png\"/>"
   ]
  },
  {
   "cell_type": "markdown",
   "metadata": {},
   "source": [
    "### 복소벡터공간 고윳값의 성질"
   ]
  },
  {
   "cell_type": "markdown",
   "metadata": {},
   "source": [
    "* λ가 실수 정사각행렬 A의 고윳값이고 v는 이에 대응하는 고유벡터이면\n",
    "* 켤레 λ도 A의 고윳값이고 켤레 v로 대응하는 고유벡터이다"
   ]
  },
  {
   "cell_type": "markdown",
   "metadata": {},
   "source": [
    "<img src=\"./figure/고윳값 정리.png\"/>"
   ]
  },
  {
   "cell_type": "markdown",
   "metadata": {},
   "source": [
    "# 4. 유니터리 대각화<a id=\"4\"></a>\n",
    "<p style=\"text-align:right;\"><a href=\"#top\">🔝 top</a></p>"
   ]
  },
  {
   "cell_type": "markdown",
   "metadata": {},
   "source": [
    "## 4.1. 용어의 정리<a id=\"4.1\"></a>\n",
    "<p style=\"text-align:right;\"><a href=\"#top\">🔝 top</a></p>"
   ]
  },
  {
   "cell_type": "markdown",
   "metadata": {},
   "source": [
    "### 켤레전치행렬"
   ]
  },
  {
   "cell_type": "markdown",
   "metadata": {},
   "source": [
    "* 복소행렬 A → 켤레 + 전치한 결과(AH)"
   ]
  },
  {
   "cell_type": "markdown",
   "metadata": {},
   "source": [
    "<img src=\"./figure/켤레전치행렬.png\"/>"
   ]
  },
  {
   "cell_type": "markdown",
   "metadata": {},
   "source": [
    "### 정규행렬 (feat. 에르미트 행렬, 유니터리 행렬)"
   ]
  },
  {
   "cell_type": "markdown",
   "metadata": {},
   "source": [
    "* 에르미트 행렬: A = AH 인 복소정사각행렬\n",
    "* 유니터리 행렬: A-1 = AH 인 복소정사각행렬\n",
    "* 정규 행렬: AAH = AHA 가 성립하는 복소정사각행렬\n",
    "    * 에러미트 행렬과 유니터리 행렬은 정규 행렬에 포함된다"
   ]
  },
  {
   "cell_type": "markdown",
   "metadata": {},
   "source": [
    "## 4.2. 유니터리 대각화<a id=\"4.2\"></a>\n",
    "<p style=\"text-align:right;\"><a href=\"#top\">🔝 top</a></p>"
   ]
  },
  {
   "cell_type": "markdown",
   "metadata": {},
   "source": [
    "### 유니터리 대각화를 공부하는 이유"
   ]
  },
  {
   "cell_type": "markdown",
   "metadata": {},
   "source": [
    "* 6장의 핵심 = 복소벡터공간으로 확장하여서 실수 벡터 공간에서 적용한 연산, 내적, 고윳값, 대각화가 그대로 구해질 수 있다.\n",
    "* 하지만 일반적인 복소정사각행렬에 대한 대각화는 상당히 어려운 일이므로 그나마 단순한 형태인 유니터리 대각화를 수행해본다."
   ]
  },
  {
   "cell_type": "markdown",
   "metadata": {},
   "source": [
    "### 유티너리 대각화 정의"
   ]
  },
  {
   "cell_type": "markdown",
   "metadata": {},
   "source": [
    "* PHAP = D가 복소대각행렬이 되는 유니터리행렬 P가 존재하면 복소정사각행렬 A는 유니터리 대각화 가능하다고 한다\n",
    "* 일반적인 대각화의 정의는 P-1AP = D 인데, P가 유니터리행렬이므로 정의상 P-1 = PH 이다. \n",
    "    * P를 구하고 역행렬을 구하는 복잡한 과정 생략 가능"
   ]
  },
  {
   "cell_type": "markdown",
   "metadata": {},
   "source": [
    "### 유니터리 대각화 판별"
   ]
  },
  {
   "cell_type": "markdown",
   "metadata": {},
   "source": [
    "* 유니터리 대각화와 관련된 정의를 기반으로 행렬 A가 유니터리 대각화 가능한지 판별가능하다\n",
    "    * 유니터리 대각화 가능 행렬은 정규 행렬이다. \n",
    "    * 정규 행렬이면 유니터리 대각화 가능하다."
   ]
  },
  {
   "cell_type": "markdown",
   "metadata": {},
   "source": [
    "<img src=\"./figure/유니터리 대각화 판별 증명.png\"/>"
   ]
  },
  {
   "cell_type": "markdown",
   "metadata": {},
   "source": [
    "### 에르미트행렬 유니터리 대각화 방법"
   ]
  },
  {
   "cell_type": "markdown",
   "metadata": {},
   "source": [
    "1. A의 모든 고유 공간의 기저를 구한다\n",
    "    * 연산의 편의를 위해 에르미트행렬 A를 사용 (AH = A)\n",
    "2. 고유공간의 정규직교기저를 구한다.\n",
    "    * 정규직교기저는 정규기저이면서 직교기저를 의미한다\n",
    "    * 직교 기저: 기저를 이루는 원소의 내적이 0\n",
    "    * 정규 기정: 원소의 norm이 1. \n",
    "3. 정규직교기저를 열벡터로하는 행렬 P를 구한다. 이는 유니터리행렬이고 A를 대각화할 수 있다"
   ]
  },
  {
   "cell_type": "markdown",
   "metadata": {},
   "source": [
    "<img src=\"./figure/유니터리 대각화 과정.png\"/>"
   ]
  },
  {
   "cell_type": "markdown",
   "metadata": {},
   "source": [
    "<hr>"
   ]
  },
  {
   "cell_type": "markdown",
   "metadata": {},
   "source": [
    "## 연습문제 <a id=\"A\"></a>\n",
    "<p style=\"text-align:right;\"><a href=\"#top\">🔝 top</a></p>"
   ]
  },
  {
   "cell_type": "markdown",
   "metadata": {},
   "source": [
    "**1. 세 벡터 u=(1-i, 4+2i, 3), v=(2, 3i, 4-i), w=(2+i, -2i, 4-5i)에 대하여 컬레(<켤레(iu), w> + <||u||v, u>) 를 계산하시오.**\n",
    "<br>"
   ]
  },
  {
   "cell_type": "markdown",
   "metadata": {},
   "source": [
    "컬레(<켤레(iu), w> + <||u||v, u>) = 컬레(<켤레(iu), w>) + 컬레(<||u||v, u>) <br>\n",
    "<br>\n",
    "컬레(<켤레(iu), w>) = 켤레(<켤레(i+1, 4i-2, 3i), (2+i, -2i, 4-5i)>) = 켤레(<(1-i, -2-4i, -3i), (1+i, -2i, 4-5i)>) = 켤레(24-19i) = 24+19i<br>\n",
    "컬레(<||u||v, u>) = 켤레(<ROOT(31)v, u>) = 켤레(20ROOT(31) + 11ROOT(31)i) = 20ROOT(31) - 11ROOT(31)i<br>\n",
    "<br>\n",
    "(24 + 20 ROOT(31)) + i(19 - 11 ROOT(31))"
   ]
  },
  {
   "cell_type": "markdown",
   "metadata": {},
   "source": [
    "**<br>2. 모든 2x2 실행렬 A의 대각성분들의 총합을 tr(A)라 할때 tr(A)2 - 4det(A) < 0 이면 A는 두 개의 복소켤레 고윳값을 가짐을 증명하시오.**"
   ]
  },
  {
   "cell_type": "markdown",
   "metadata": {},
   "source": [
    "A = [[a, b], [c, d]]<br>\n",
    "tr(A) = a + d<br>\n",
    "det(A) = ad - bc<br>\n",
    "tr(A)2 - 4det(A) = (a+d)2 -4(ad-bc) = (a-d)2 + 4bc<br>\n",
    "tr(A)2 - 4det(A) = (a-d)2 + 4bc < 0<br>\n",
    "bc 는 일단 무조건 음수이다 <br>\n",
    "<br>\n",
    "det(λI2 - A) = (λ-a)(λ-d) - bc<br>\n",
    "det(λI2 - A) = λ2-(a+d)λ + ad-bc = 0<br>\n",
    "<br>\n",
    "방정식의 해는 판별식을 사용해서 구한다. (a+d)2 -4(ad-bc)가 음수이므로 허근을 갖는다. "
   ]
  },
  {
   "cell_type": "markdown",
   "metadata": {},
   "source": [
    "**<br>3. 에르미트행렬 [[2, 1+i], [1-i, 3]] 을 유니터리 대각화하시오.**"
   ]
  },
  {
   "cell_type": "markdown",
   "metadata": {},
   "source": [
    "고유값을 구하자<br>\n",
    "det(λI2 - A) = (λ-2)(λ-3) - 2 = (λ-1)(λ-4)<br>\n",
    "<br>\n",
    "고유값 1에 대해서<br>\n",
    "[[-1, -1-i, 0], [-1+i, -2, 0]] → [[1, 1+i, 0], [0, 0, 0]]<br>\n",
    "v = t(-1-i, 1)  t != 0<br>\n",
    "고유벡터 (1+i, -1)<br>\n",
    "<br>\n",
    "고유값 4에 대해서<br>\n",
    "[[2, -1-i, 0], [-1+i, 1, 0]] → [[1, -(1+i)/2, 0], [0, 0, 0]]<br>\n",
    "v = t(1/2+1/2i, 1)  t != 0<br>\n",
    "고유벡터 (1+i, 2)<br>\n",
    "<br>\n",
    "정규화하자<br>\n",
    "(1+i, -1) → ((1+i)/SQRT(3), -1/SQRT(3))<br>\n",
    "(1+i, 2) → ((1+i)/SQRT(6), 2/SQRT(6))<br>\n",
    "P = [[(1+i)/SQRT(3), (1+i)/SQRT(6)], [-1/SQRT(3), 2/SQRT(6)]]<br>\n",
    "P-1=PH = [[(1-i)/SQRT(3), -1/SQRT(3)], [(1-i)/SQRT(6), 2/SQRT(6)]]"
   ]
  }
 ],
 "metadata": {
  "kernelspec": {
   "display_name": "Python 3",
   "language": "python",
   "name": "python3"
  },
  "language_info": {
   "codemirror_mode": {
    "name": "ipython",
    "version": 3
   },
   "file_extension": ".py",
   "mimetype": "text/x-python",
   "name": "python",
   "nbconvert_exporter": "python",
   "pygments_lexer": "ipython3",
   "version": "3.7.4"
  }
 },
 "nbformat": 4,
 "nbformat_minor": 4
}
