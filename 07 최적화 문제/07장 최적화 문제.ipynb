{
 "cells": [
  {
   "cell_type": "markdown",
   "metadata": {},
   "source": [
    "<center><h1>7강 최적화 문제</h1></center>\n",
    "<hr>"
   ]
  },
  {
   "cell_type": "markdown",
   "metadata": {},
   "source": [
    "## Table of Contents <a id=\"top\"></a>"
   ]
  },
  {
   "cell_type": "markdown",
   "metadata": {},
   "source": [
    "1. [곡선 적합](#1)\n",
    "    1. [보간법](#1.1)\n",
    "    2. [최소제곱법](#1.2)\n",
    "    3. [두 방법의 비교](#1.3)\n",
    "2. [이차형식의 최적화](#2)\n",
    "    1. [이차형식](#2.1)\n",
    "    2. [제한된 극값](#2.2)"
   ]
  },
  {
   "cell_type": "markdown",
   "metadata": {},
   "source": [
    "A. [연습문제](#A)"
   ]
  },
  {
   "cell_type": "markdown",
   "metadata": {},
   "source": [
    "<hr>"
   ]
  },
  {
   "cell_type": "code",
   "execution_count": 1,
   "metadata": {},
   "outputs": [],
   "source": [
    "import numpy as np\n",
    "\n",
    "from matplotlib import font_manager\n",
    "import matplotlib.pyplot as plt"
   ]
  },
  {
   "cell_type": "code",
   "execution_count": 2,
   "metadata": {},
   "outputs": [],
   "source": [
    "font_fname = './static/fonts/AppleGothic.ttf'\n",
    "font_family = font_manager.FontProperties(fname=font_fname).get_name()\n",
    "plt.rcParams['font.family'] = font_family\n",
    "plt.rcParams['font.size'] = 20"
   ]
  },
  {
   "cell_type": "code",
   "execution_count": 3,
   "metadata": {},
   "outputs": [],
   "source": [
    "%matplotlib inline"
   ]
  },
  {
   "cell_type": "markdown",
   "metadata": {},
   "source": [
    "# 1. 곡선 적합 <a id=\"1\"></a>\n",
    "<p style=\"text-align:right;\"><a href=\"#top\">🔝 top</a></p>"
   ]
  },
  {
   "cell_type": "markdown",
   "metadata": {},
   "source": [
    "## 1.1. 보간법 <a id=\"1.1\"></a>\n",
    "<p style=\"text-align:right;\"><a href=\"#top\">🔝 top</a></p>"
   ]
  },
  {
   "cell_type": "markdown",
   "metadata": {},
   "source": [
    "### 보간법의 목적"
   ]
  },
  {
   "cell_type": "markdown",
   "metadata": {},
   "source": [
    "* 관찰된 데이터를 완벽하게 설명하는 함수를 찾는다.\n",
    "* 사실 관찰된 데이터를 완벽하게 설명하는 함수를 찾지 못하는 것이 일반적인 경우.\n",
    "* 유연성에도 문제가 있으므로 사실 최소제곱법을 곡선 적합에서 더 많이 사용"
   ]
  },
  {
   "cell_type": "markdown",
   "metadata": {},
   "source": [
    "### 보간법을 위한 주요 정리"
   ]
  },
  {
   "cell_type": "markdown",
   "metadata": {},
   "source": [
    "* 좌표평면에 있는 임의의 서로 다른 n개의 점이 있을 때\n",
    "* 서로 다른 n개의 점을 지나는 k가 다항함수가 있다면\n",
    "* 그것은 유일하게 결정된다. (k < n인 자연수)"
   ]
  },
  {
   "cell_type": "markdown",
   "metadata": {},
   "source": [
    "<img src=\"./figure/보간법 정리.png\"/>"
   ]
  },
  {
   "cell_type": "markdown",
   "metadata": {},
   "source": [
    "### 보간법 과정"
   ]
  },
  {
   "cell_type": "markdown",
   "metadata": {},
   "source": [
    "* n개의 점을 지나는 k차 다항식을 찾는 과정\n",
    "    1. k차 다항식의 일반적이 형태 f(x) = a0 + a1x + a2x^2 + a3x^3 + ... + akx^k 에 n 개의 점을 대입한다. \n",
    "        * 그 결과 (a0, a1, ..., ak)에 대한 n개의 연립방정식이 생긴다\n",
    "    2. 연립방정식의 풀이 = 가우스 조던 소거법 풀이\n",
    "* 보간법으로 n 개의 점을 지나는 k차 다항식을 구할 수 없는 경우가 더 많다"
   ]
  },
  {
   "cell_type": "markdown",
   "metadata": {},
   "source": [
    "<img src=\"./figure/보간법 과정.png\"/>"
   ]
  },
  {
   "cell_type": "markdown",
   "metadata": {},
   "source": [
    "## 1.2 최소제곱법 <a id=\"1.2\"></a>\n",
    "<p style=\"text-align:right;\"><a href=\"#top\">🔝 top</a></p>"
   ]
  },
  {
   "cell_type": "markdown",
   "metadata": {},
   "source": [
    "### 최소제곱법의 의의"
   ]
  },
  {
   "cell_type": "markdown",
   "metadata": {},
   "source": [
    "* 보간법은 n개의 점을 \"정확하게\" 지나는 함수를 찾으므로 사실상 특수한 경우에 해당한다\n",
    "* 또한 보간법에서 새로운 점이 추가되면 이전에 만들었던 함수는 폐기처분해야한다\n",
    "* 최소제곱법은 정확한 함수를 찾는 것이 아니라 근사한 함수를 찾는 것이므로 어떠한 경우에든 항상 함수를 구할 수 있으며 새로운 데이터에도 유연하게 대처할 수 있다\n",
    "* 근사하다는 것은 오차의 제곱 합이 최소라는 것을 의미하며, 따라서 해당 방법의 이름이 최소제곱법이다"
   ]
  },
  {
   "cell_type": "markdown",
   "metadata": {},
   "source": [
    "### 최소제곱법을 위한 정리"
   ]
  },
  {
   "cell_type": "markdown",
   "metadata": {},
   "source": [
    "* 방정식 Ax=B를 변형한 방정식 ATAX = ATB(정규방정식)의 모든 해는 Ax=B의 최소제곱해이다."
   ]
  },
  {
   "cell_type": "markdown",
   "metadata": {},
   "source": [
    "### 최소제곱법 과정"
   ]
  },
  {
   "cell_type": "markdown",
   "metadata": {},
   "source": [
    "* n 개의 점에 근사한 k차 함수를 최소제곱법으로 구하는 과정\n",
    "    1. 보간법과 같이 Ax=B 꼴로 일단 방정식을 정리한다\n",
    "    2. ATAx = ATB의 해가 Ax=B의 최소제곱해라는 정리를 이용하여서 x=(ATA)-1ATB 로 최소제곱해를 만드는 x를 구한다"
   ]
  },
  {
   "cell_type": "markdown",
   "metadata": {},
   "source": [
    "<img src=\"./figure/최소제곱법 과정.png\"/>"
   ]
  },
  {
   "cell_type": "markdown",
   "metadata": {},
   "source": [
    "## 1.3. 대수적 성질 <a id=\"1.3\"></a>\n",
    "<p style=\"text-align:right;\"><a href=\"#top\">🔝 top</a></p>"
   ]
  },
  {
   "cell_type": "markdown",
   "metadata": {},
   "source": [
    "### 보간법과 최소제곱법 비교"
   ]
  },
  {
   "cell_type": "markdown",
   "metadata": {},
   "source": [
    "1. 보간법\n",
    "    * 관찰된 데이터는 정확하게 설명\n",
    "    * 새로운 데이터 유연하게 처리 어려움\n",
    "    * 모든 경우 가능한 것은 아님\n",
    "2. 최소제곱법\n",
    "    * 관찰된 데이터는 정확하게 설명하지는 못함. 경향성을 파악가능. 따라서 예측에 더 적합\n",
    "    * 새로운 데이터 유연하게 처리\n",
    "    * 모든 경우 가능"
   ]
  },
  {
   "cell_type": "markdown",
   "metadata": {},
   "source": [
    "# 2. 이차형식의 최적화<a id=\"2\"></a>\n",
    "<p style=\"text-align:right;\"><a href=\"#top\">🔝 top</a></p>"
   ]
  },
  {
   "cell_type": "markdown",
   "metadata": {},
   "source": [
    "## 2.1. 이차형식<a id=\"2.1\"></a>\n",
    "<p style=\"text-align:right;\"><a href=\"#top\">🔝 top</a></p>"
   ]
  },
  {
   "cell_type": "markdown",
   "metadata": {},
   "source": [
    "### 이차형식의 예"
   ]
  },
  {
   "cell_type": "markdown",
   "metadata": {},
   "source": [
    "* 이차형식은 이차항으로만 이루어진 다항식이다.\n",
    "* 이차형식은 행렬로서 표현할 수 있다."
   ]
  },
  {
   "cell_type": "markdown",
   "metadata": {},
   "source": [
    "<img src=\"./figure/이차형식.png\"/>"
   ]
  },
  {
   "cell_type": "markdown",
   "metadata": {},
   "source": [
    "## 2.2. 제한된 극값<a id=\"2.3\"></a>\n",
    "<p style=\"text-align:right;\"><a href=\"#top\">🔝 top</a></p>"
   ]
  },
  {
   "cell_type": "markdown",
   "metadata": {},
   "source": [
    "### 제한된 극값의 의의"
   ]
  },
  {
   "cell_type": "markdown",
   "metadata": {},
   "source": [
    "* 특정 조건 하에서 원하는 식(ex, 이차형식)의 극값(최댓값 또는 최솟값)을 찾는 방법이다."
   ]
  },
  {
   "cell_type": "markdown",
   "metadata": {},
   "source": [
    "### 제한된 극값을 위해 필요한 정리"
   ]
  },
  {
   "cell_type": "markdown",
   "metadata": {},
   "source": [
    "* nxn 행렬 A의 고윳값을 큰 순서대로 λ1, λ2, ..., λn 이라고 하자.\n",
    "* 이때 ||v|| = 1 인 제약 조건하에\n",
    "    * 상당히 많은 경우의 수를 커버할 수 있는 조건이다. \n",
    "    * 아무리 복잡한 벡터도 정규화를 통해 1로 만들어주면 새로운 v로서 극값을 찾는데 사용 가능\n",
    "* vTAv 의 최대(최소)값은 λ1(λn)에 대응하는 단위고유벡터에 존재한다\n",
    "    * vTAv 는 앞서 이차형식을 행렬 꼴로 표현할 때 표기한 방식\n",
    "    * 따라서 원하는 식의 최대(최소)값은 λ1(λn) 이고 그 때의 단위고유벡터에 의해서 극값이 결정된다"
   ]
  },
  {
   "cell_type": "markdown",
   "metadata": {},
   "source": [
    "### 제한된 극값 찾는 과정"
   ]
  },
  {
   "cell_type": "markdown",
   "metadata": {},
   "source": [
    "1. 제약 조건이 ||v||=1을 만족하는 지 확인한다\n",
    "    * x^2 + y^2 = 1 이라는 제약 조건은 v=(x, y)에서 ||v||=1 이므로 조건을 만족한다\n",
    "2. vTAv 형태로 원하는식(이차형식)을 표현한다\n",
    "3. 고유값을 찾고 고유벡터를 찾는 과정 + 찾은 고유벡터는 정규화하는 과정을 수행한다.\n",
    "    * 찾은 고유벡터의 부호는 역부호로 한다고 해도 문제되지 않는다. \n",
    "    * 고유벡터가 (1, 1)을 찾았는데 (-1, -1)도 상관없음"
   ]
  },
  {
   "cell_type": "markdown",
   "metadata": {},
   "source": [
    "<img src=\"./figure/이차형식 극값.png\"/>"
   ]
  },
  {
   "cell_type": "markdown",
   "metadata": {},
   "source": [
    "<hr>"
   ]
  },
  {
   "cell_type": "markdown",
   "metadata": {},
   "source": [
    "## 연습문제 <a id=\"A\"></a>\n",
    "<p style=\"text-align:right;\"><a href=\"#top\">🔝 top</a></p>"
   ]
  },
  {
   "cell_type": "markdown",
   "metadata": {},
   "source": [
    "**1. 세 벡터 u=(1-i, 4+2i, 3), v=(2, 3i, 4-i), w=(2+i, -2i, 4-5i)에 대하여 컬레(<켤레(iu), w> + <||u||v, u>) 를 계산하시오.**\n",
    "<br>"
   ]
  },
  {
   "cell_type": "markdown",
   "metadata": {},
   "source": [
    "컬레(<켤레(iu), w> + <||u||v, u>) = 컬레(<켤레(iu), w>) + 컬레(<||u||v, u>) <br>\n",
    "<br>\n",
    "컬레(<켤레(iu), w>) = 켤레(<켤레(i+1, 4i-2, 3i), (2+i, -2i, 4-5i)>) = 켤레(<(1-i, -2-4i, -3i), (1+i, -2i, 4-5i)>) = 켤레(24-19i) = 24+19i<br>\n",
    "컬레(<||u||v, u>) = 켤레(<ROOT(31)v, u>) = 켤레(20ROOT(31) + 11ROOT(31)i) = 20ROOT(31) - 11ROOT(31)i<br>\n",
    "<br>\n",
    "(24 + 20 ROOT(31)) + i(19 - 11 ROOT(31))"
   ]
  },
  {
   "cell_type": "markdown",
   "metadata": {},
   "source": [
    "**<br>2. 모든 2x2 실행렬 A의 대각성분들의 총합을 tr(A)라 할때 tr(A)2 - 4det(A) < 0 이면 A는 두 개의 복소켤레 고윳값을 가짐을 증명하시오.**"
   ]
  },
  {
   "cell_type": "markdown",
   "metadata": {},
   "source": [
    "A = [[a, b], [c, d]]<br>\n",
    "tr(A) = a + d<br>\n",
    "det(A) = ad - bc<br>\n",
    "tr(A)2 - 4det(A) = (a+d)2 -4(ad-bc) = (a-d)2 + 4bc<br>\n",
    "tr(A)2 - 4det(A) = (a-d)2 + 4bc < 0<br>\n",
    "bc 는 일단 무조건 음수이다 <br>\n",
    "<br>\n",
    "det(λI2 - A) = (λ-a)(λ-d) - bc<br>\n",
    "det(λI2 - A) = λ2-(a+d)λ + ad-bc = 0<br>\n",
    "<br>\n",
    "방정식의 해는 판별식을 사용해서 구한다. (a+d)2 -4(ad-bc)가 음수이므로 허근을 갖는다. "
   ]
  },
  {
   "cell_type": "markdown",
   "metadata": {},
   "source": [
    "**<br>3. 에르미트행렬 [[2, 1+i], [1-i, 3]] 을 유니터리 대각화하시오.**"
   ]
  },
  {
   "cell_type": "markdown",
   "metadata": {},
   "source": [
    "고유값을 구하자<br>\n",
    "det(λI2 - A) = (λ-2)(λ-3) - 2 = (λ-1)(λ-4)<br>\n",
    "<br>\n",
    "고유값 1에 대해서<br>\n",
    "[[-1, -1-i, 0], [-1+i, -2, 0]] → [[1, 1+i, 0], [0, 0, 0]]<br>\n",
    "v = t(-1-i, 1)  t != 0<br>\n",
    "고유벡터 (1+i, -1)<br>\n",
    "<br>\n",
    "고유값 4에 대해서<br>\n",
    "[[2, -1-i, 0], [-1+i, 1, 0]] → [[1, -(1+i)/2, 0], [0, 0, 0]]<br>\n",
    "v = t(1/2+1/2i, 1)  t != 0<br>\n",
    "고유벡터 (1+i, 2)<br>\n",
    "<br>\n",
    "정규화하자<br>\n",
    "(1+i, -1) → ((1+i)/SQRT(3), -1/SQRT(3))<br>\n",
    "(1+i, 2) → ((1+i)/SQRT(6), 2/SQRT(6))<br>\n",
    "P = [[(1+i)/SQRT(3), (1+i)/SQRT(6)], [-1/SQRT(3), 2/SQRT(6)]]<br>\n",
    "P-1=PH = [[(1-i)/SQRT(3), -1/SQRT(3)], [(1-i)/SQRT(6), 2/SQRT(6)]]"
   ]
  }
 ],
 "metadata": {
  "kernelspec": {
   "display_name": "Python 3",
   "language": "python",
   "name": "python3"
  },
  "language_info": {
   "codemirror_mode": {
    "name": "ipython",
    "version": 3
   },
   "file_extension": ".py",
   "mimetype": "text/x-python",
   "name": "python",
   "nbconvert_exporter": "python",
   "pygments_lexer": "ipython3",
   "version": "3.7.4"
  }
 },
 "nbformat": 4,
 "nbformat_minor": 4
}
